{
  "nbformat": 4,
  "nbformat_minor": 0,
  "metadata": {
    "colab": {
      "name": "Fama MacBeth class.ipynb",
      "provenance": [],
      "collapsed_sections": [],
      "include_colab_link": true
    },
    "kernelspec": {
      "name": "python3",
      "display_name": "Python 3"
    }
  },
  "cells": [
    {
      "cell_type": "markdown",
      "metadata": {
        "id": "view-in-github",
        "colab_type": "text"
      },
      "source": [
        "<a href=\"https://colab.research.google.com/github/faisalnawazmir/Econometrics-ML_for_Finance/blob/main/Fama_MacBeth_class.ipynb\" target=\"_parent\"><img src=\"https://colab.research.google.com/assets/colab-badge.svg\" alt=\"Open In Colab\"/></a>"
      ]
    },
    {
      "cell_type": "code",
      "metadata": {
        "id": "XGS1SczsW-5T"
      },
      "source": [
        "import numpy as np\n",
        "import pandas as pd\n",
        "from sklearn.linear_model import LinearRegression \n",
        "from sklearn.metrics import mean_squared_error, r2_score\n",
        "import statsmodels.api as sm \n",
        "from tabulate import tabulate\n",
        "import time\n",
        "np.random.seed(12345)"
      ],
      "execution_count": null,
      "outputs": []
    },
    {
      "cell_type": "markdown",
      "metadata": {
        "id": "940i72vLXitj"
      },
      "source": [
        "$Y$: Stock return data (T x N matrix)\n",
        "By CAPM,\n",
        "\n",
        "$$r_{i,t} = r_f + \\beta_i \\cdot mkt_t + \\epsilon_{i,t}.$$\n",
        "\n",
        "$$Y = r_f + \\vec{\\beta}^T \\vec{mkt} + \\Omega.$$\n"
      ]
    },
    {
      "cell_type": "code",
      "metadata": {
        "colab": {
          "base_uri": "https://localhost:8080/"
        },
        "id": "jQ_SFMhyWWhr",
        "outputId": "9d5e57ec-910c-4c86-89c0-2d640e6588cc"
      },
      "source": [
        "rf = 0.01 # risk free rate\n",
        "N = 2000  # of firms in an economy\n",
        "T = 2520  # length of periods \n",
        "dt = 1/252. # length of a time unit (annualized)\n",
        "s = 0.5*dt**.05 # average idiosyncratic risks \n",
        "\n",
        "# to specify the risk of a firm\n",
        "beta_true = np.random.random((N,1)) # true betas of N firms\n",
        "mkt = 0.06*dt + np.random.standard_normal((T,1)) # market factor\n",
        "# to simulate stock return data upon capital asset pricing model (CAPM)\n",
        "data = rf*dt + np.transpose(beta_true) * mkt + s*np.random.standard_normal((T,N))\n",
        "data.shape"
      ],
      "execution_count": null,
      "outputs": [
        {
          "output_type": "execute_result",
          "data": {
            "text/plain": [
              "(2520, 2000)"
            ]
          },
          "metadata": {
            "tags": []
          },
          "execution_count": 109
        }
      ]
    },
    {
      "cell_type": "code",
      "metadata": {
        "colab": {
          "base_uri": "https://localhost:8080/"
        },
        "id": "JeWqeS0Thp_o",
        "outputId": "89cbb833-e80d-4b6c-9440-b1a9d1c05f51"
      },
      "source": [
        "(np.transpose(beta_true) * mkt).shape"
      ],
      "execution_count": null,
      "outputs": [
        {
          "output_type": "execute_result",
          "data": {
            "text/plain": [
              "(2520, 2000)"
            ]
          },
          "metadata": {
            "tags": []
          },
          "execution_count": 110
        }
      ]
    },
    {
      "cell_type": "markdown",
      "metadata": {
        "id": "RSNYhM__YsNJ"
      },
      "source": [
        "We regard data given and estimate the model with Fama-MacBeth regression."
      ]
    },
    {
      "cell_type": "code",
      "metadata": {
        "colab": {
          "base_uri": "https://localhost:8080/"
        },
        "id": "c9ahxA9LYxWR",
        "outputId": "f90f0392-d2ec-42b5-96ab-062da602cabb"
      },
      "source": [
        "# Test\n",
        "y = data[:,12] # pick a firm's time series data\n",
        "model = LinearRegression()\n",
        "model.fit(mkt,y)\n",
        "print('Intercept:', model.intercept_)\n",
        "print('Estimated Coefficient:', model.coef_[0])\n",
        "print('True Coefficient:', beta_true[12][0])\n",
        "print('Coefficient of determination (R-squared) %.2f' \n",
        "      % r2_score(y, model.predict(mkt)), '\\n')\n",
        "\n",
        "\n",
        "# Alternatively\n",
        "x = sm.add_constant(mkt)\n",
        "model = sm.OLS(y,x).fit()\n",
        "print(model.summary())\n",
        "\n",
        "# Linear algebra \n",
        "x = np.c_[np.ones(T),mkt]\n",
        "M = np.linalg.inv(x.T @ x) @ x.T \n",
        "print(M @ y)"
      ],
      "execution_count": null,
      "outputs": [
        {
          "output_type": "stream",
          "text": [
            "Intercept: -0.012389809675665745\n",
            "Estimated Coefficient: 0.00890006990968364\n",
            "True Coefficient: 0.00838829794155349\n",
            "Coefficient of determination (R-squared) 0.00 \n",
            "\n",
            "                            OLS Regression Results                            \n",
            "==============================================================================\n",
            "Dep. Variable:                      y   R-squared:                       0.001\n",
            "Model:                            OLS   Adj. R-squared:                  0.000\n",
            "Method:                 Least Squares   F-statistic:                     1.406\n",
            "Date:                Sat, 09 Jan 2021   Prob (F-statistic):              0.236\n",
            "Time:                        05:49:50   Log-Likelihood:                -1124.1\n",
            "No. Observations:                2520   AIC:                             2252.\n",
            "Df Residuals:                    2518   BIC:                             2264.\n",
            "Df Model:                           1                                         \n",
            "Covariance Type:            nonrobust                                         \n",
            "==============================================================================\n",
            "                 coef    std err          t      P>|t|      [0.025      0.975]\n",
            "------------------------------------------------------------------------------\n",
            "const         -0.0124      0.008     -1.645      0.100      -0.027       0.002\n",
            "x1             0.0089      0.008      1.186      0.236      -0.006       0.024\n",
            "==============================================================================\n",
            "Omnibus:                        5.679   Durbin-Watson:                   2.004\n",
            "Prob(Omnibus):                  0.058   Jarque-Bera (JB):                4.936\n",
            "Skew:                           0.039   Prob(JB):                       0.0847\n",
            "Kurtosis:                       2.798   Cond. No.                         1.01\n",
            "==============================================================================\n",
            "\n",
            "Warnings:\n",
            "[1] Standard Errors assume that the covariance matrix of the errors is correctly specified.\n",
            "[-0.01238981  0.00890007]\n"
          ],
          "name": "stdout"
        }
      ]
    },
    {
      "cell_type": "markdown",
      "metadata": {
        "id": "nvTnNgffbFTR"
      },
      "source": [
        "To explain the linear algebra in our model \n",
        "\n",
        "$$ X \\equiv \\begin{bmatrix} 1,x_1 \\\\1, x_2 \\\\ ... \\\\1, x_T \\end{bmatrix}$$\n",
        "$$ \\hat{\\beta} = (X'X)^{-1}X'y \\equiv My$$\n",
        "\n",
        "To estimate all betas simultaneously, we can run:\n",
        "\n",
        "$$ \\hat{B_{2xN}} = (X'X)^{-1}X' \\cdot Y_{TxN} \\equiv M \\cdot Y_{TxN}$$\n",
        "\n"
      ]
    },
    {
      "cell_type": "code",
      "metadata": {
        "colab": {
          "base_uri": "https://localhost:8080/"
        },
        "id": "PF6XAE7JcU5T",
        "outputId": "71928bb8-1eb4-46bc-890a-9026f733c446"
      },
      "source": [
        "# time series regression for all N firms (FM step 1)\n",
        "# regress time series stock return data of each firm one-by-one to multifactors\n",
        "# here we have only one factor for simplicity \n",
        "\n",
        "b = np.array([]) # save market betas here \n",
        "for i in range(N): # time series regression for N firms one-by-one to esimate their betas\n",
        "  model = LinearRegression()\n",
        "  model.fit(mkt,data[:,i])\n",
        "  b = np.r_[b, model.coef_]\n",
        "\n",
        "# To check estimated b with linear algebra \n",
        "bhat = (M @ data).T[:,1]\n",
        "bhat.shape"
      ],
      "execution_count": null,
      "outputs": [
        {
          "output_type": "execute_result",
          "data": {
            "text/plain": [
              "(2000,)"
            ]
          },
          "metadata": {
            "tags": []
          },
          "execution_count": 112
        }
      ]
    },
    {
      "cell_type": "code",
      "metadata": {
        "id": "1mbvxM_EdTLa"
      },
      "source": [
        "print(tabulate(list(zip(beta_true,b,bhat))))"
      ],
      "execution_count": null,
      "outputs": []
    },
    {
      "cell_type": "code",
      "metadata": {
        "colab": {
          "base_uri": "https://localhost:8080/"
        },
        "id": "bWHl4wj5esmi",
        "outputId": "d773a327-5496-41fa-cc59-1f6c94514f6f"
      },
      "source": [
        "# cross-sectional regression for all T times (FM step 2)\n",
        "# regres cross section of stock return on each firm's beta (time-by-time)\n",
        "b = np.reshape(b,(N,1))\n",
        "f = np.array([]) # store estiamted mkt factor returns here\n",
        "for i in range(T): # FM step 2: time-by-time cross sectional regression\n",
        "  model = LinearRegression()\n",
        "  model.fit(b,data[i,:]) # cross section regression part!\n",
        "  f = np.r_[f,model.coef_]\n",
        "\n",
        "df = pd.DataFrame(f)\n",
        "print(df.describe())\n",
        "print('average factor return:', df.mean())\n",
        "print('standard error of factor return (without Shanken correction):', df.std()/T**.5)\n",
        "\n"
      ],
      "execution_count": null,
      "outputs": [
        {
          "output_type": "stream",
          "text": [
            "                 0\n",
            "count  2520.000000\n",
            "mean      0.011521\n",
            "std       1.004202\n",
            "min      -3.793498\n",
            "25%      -0.673357\n",
            "50%      -0.006388\n",
            "75%       0.734217\n",
            "max       3.363314\n",
            "average factor return: 0    0.011521\n",
            "dtype: float64\n",
            "standard error of factor return (without Shanken correction): 0    0.020004\n",
            "dtype: float64\n"
          ],
          "name": "stdout"
        }
      ]
    },
    {
      "cell_type": "code",
      "metadata": {
        "colab": {
          "base_uri": "https://localhost:8080/"
        },
        "id": "DxApqx6_ggKY",
        "outputId": "8b36d90a-b733-4c54-8475-f1cbee10bd2d"
      },
      "source": [
        "# Let us practice FM regression one more time with multifactor model\n",
        "# Here we will illustrate Fama-French three factor model.\n",
        "# Three factors are market (mkt), size (smb), and value (hml) factors\n",
        "\n",
        "# simulate factor loadings (ie, coefficients)\n",
        "b_mkt = np.random.random((1,N)) # true loadings for market factor\n",
        "b_smb = np.random.random((1,N)) # true loadings for size factor\n",
        "b_hml = np.random.random((1,N)) # true loadings for value factor\n",
        "\n",
        "# simulate factor returns\n",
        "mkt = 0.06*dt + np.random.standard_normal((T,1)) # market factor\n",
        "smb = 0.06*dt + np.random.standard_normal((T,1)) # size factor\n",
        "hml = 0.06*dt + np.random.standard_normal((T,1)) # value factor\n",
        "\n",
        "# simulate data\n",
        "data = rf*dt + b_mkt*mkt + b_smb*smb + b_hml*hml + s*np.random.standard_normal((T,N))\n",
        "data.shape"
      ],
      "execution_count": null,
      "outputs": [
        {
          "output_type": "execute_result",
          "data": {
            "text/plain": [
              "(2520, 2000)"
            ]
          },
          "metadata": {
            "tags": []
          },
          "execution_count": 115
        }
      ]
    },
    {
      "cell_type": "code",
      "metadata": {
        "colab": {
          "base_uri": "https://localhost:8080/"
        },
        "id": "jW5z_pj3h8iI",
        "outputId": "01eca2a6-b8b6-490e-d759-079f7b9d37fe"
      },
      "source": [
        "# Step 1: time series regression firm by firm\n",
        "fctrs = np.c_[mkt, smb, hml]\n",
        "b = np.zeros(3)\n",
        "for i in range(N): # firm-by-firm time series regression\n",
        "  model = LinearRegression()\n",
        "  model.fit(fctrs,data[:,i])\n",
        "  b = np.c_[b,model.coef_]\n",
        "\n",
        "b  = np.transpose(b[:,1:])\n",
        "b.shape"
      ],
      "execution_count": null,
      "outputs": [
        {
          "output_type": "execute_result",
          "data": {
            "text/plain": [
              "(2000, 3)"
            ]
          },
          "metadata": {
            "tags": []
          },
          "execution_count": 116
        }
      ]
    },
    {
      "cell_type": "code",
      "metadata": {
        "colab": {
          "base_uri": "https://localhost:8080/"
        },
        "id": "ZIl2slq8iozA",
        "outputId": "ed7d36e4-fba7-4536-8784-0623416627df"
      },
      "source": [
        "# Step 2: cross sectional regression time-by-time\n",
        "f = np.zeros(3)\n",
        "for i in range(T): # time-by-time cross sectional regression\n",
        "  model = LinearRegression()\n",
        "  model.fit(b,data[i,:])\n",
        "  f = np.c_[f,model.coef_]\n",
        "\n",
        "f = np.transpose(f[:,1:])\n",
        "df = pd.DataFrame(f)\n",
        "df.columns = ['mkt','smb','hml']\n",
        "print(df.describe())\n",
        "print('Median estimate:', np.median(f,axis=0))\n",
        "print('Standard errors (without Shanken correction):', np.std(f,axis=0)/T**.5)"
      ],
      "execution_count": null,
      "outputs": [
        {
          "output_type": "stream",
          "text": [
            "               mkt          smb          hml\n",
            "count  2520.000000  2520.000000  2520.000000\n",
            "mean     -0.008183    -0.024769    -0.012406\n",
            "std       0.993373     0.989079     0.996948\n",
            "min      -3.663301    -2.944357    -3.190319\n",
            "25%      -0.677554    -0.711218    -0.687829\n",
            "50%      -0.001417    -0.034952    -0.002823\n",
            "75%       0.685244     0.649408     0.637199\n",
            "max       3.233734     2.930666     3.915250\n",
            "Median estimate: [-0.00141722 -0.03495223 -0.0028235 ]\n",
            "Standard errors (without Shanken correction): [0.01978453 0.01969902 0.01985575]\n"
          ],
          "name": "stdout"
        }
      ]
    },
    {
      "cell_type": "code",
      "metadata": {
        "colab": {
          "base_uri": "https://localhost:8080/"
        },
        "id": "4LDWelxdkvQw",
        "outputId": "68a72fe6-02ee-4b81-c29c-59e96d3684b0"
      },
      "source": [
        "# Check the answers with linear algebra \n",
        "# Step 1: Time series regression\n",
        "x = np.c_[np.ones(T),fctrs]\n",
        "M = np.linalg.inv(x.T @ x) @ x.T\n",
        "bhat = M @ data\n",
        "bhat = bhat[1:,:].T\n",
        "\n",
        "# Step 2: cross sectional regression\n",
        "x = np.c_[np.ones(N),bhat]\n",
        "M = np.linalg.inv(x.T @ x) @ x.T\n",
        "fhat = (M @ data.T)[1:,:].T\n",
        "df = pd.DataFrame(fhat)\n",
        "df.columns = ['mkt','smb','hml']\n",
        "print(df.describe())\n"
      ],
      "execution_count": null,
      "outputs": [
        {
          "output_type": "stream",
          "text": [
            "               mkt          smb          hml\n",
            "count  2520.000000  2520.000000  2520.000000\n",
            "mean     -0.008183    -0.024769    -0.012406\n",
            "std       0.993373     0.989079     0.996948\n",
            "min      -3.663301    -2.944357    -3.190319\n",
            "25%      -0.677554    -0.711218    -0.687829\n",
            "50%      -0.001417    -0.034952    -0.002823\n",
            "75%       0.685244     0.649408     0.637199\n",
            "max       3.233734     2.930666     3.915250\n"
          ],
          "name": "stdout"
        }
      ]
    },
    {
      "cell_type": "code",
      "metadata": {
        "colab": {
          "base_uri": "https://localhost:8080/"
        },
        "id": "AQAu5WXjmGjn",
        "outputId": "3d5ee950-f8ce-43bc-d49a-36b00ec4b743"
      },
      "source": [
        "# Compute standard error with bootstrapping (Shanken correction unnecessary)\n",
        "# One simple bootstrapping \n",
        "\n",
        "indices = np.random.randint(low=0,high=T, size=T)\n",
        "new_data = data[indices,:]\n",
        "new_fctrs = fctrs[indices,:]\n",
        "xx = indices[0]\n",
        "print(xx)\n",
        "print(new_data[0,:])\n",
        "print(data[xx,:])"
      ],
      "execution_count": null,
      "outputs": [
        {
          "output_type": "stream",
          "text": [
            "1414\n",
            "[-0.20957937 -0.19377312  0.48904136 ...  0.05175485  0.33008646\n",
            "  0.76468985]\n",
            "[-0.20957937 -0.19377312  0.48904136 ...  0.05175485  0.33008646\n",
            "  0.76468985]\n"
          ],
          "name": "stdout"
        }
      ]
    },
    {
      "cell_type": "code",
      "metadata": {
        "colab": {
          "base_uri": "https://localhost:8080/"
        },
        "id": "VNwPwUPdnKT5",
        "outputId": "0ed472b0-3c4b-45e7-a9a6-a11abc4b5246"
      },
      "source": [
        "# Check the answers with linear algebra \n",
        "# Step 1: Time series regression\n",
        "x = np.c_[np.ones(T),fctrs]\n",
        "M = np.linalg.inv(x.T @ x) @ x.T\n",
        "bhat = (M @ data)[1:,:].T\n",
        "\n",
        "# Step 2: cross sectional regression\n",
        "x = np.c_[np.ones(N),bhat]\n",
        "M = np.linalg.inv(x.T @ x) @ x.T\n",
        "fhat = (M @ data.T)[1:,:].T\n",
        "df = pd.DataFrame(fhat)\n",
        "df.columns = ['mkt','smb','hml']\n",
        "E_fhat = np.average(fhat,axis=0)\n",
        "print(E_fhat)\n",
        "\n",
        "def efhats(data,fctrs): # function to compute average estimated factor return\n",
        "  T = data.shape[0]\n",
        "  N = data.shape[1]\n",
        "  # Step 1: Time series regression\n",
        "  x = np.c_[np.ones(T),fctrs]\n",
        "  M = np.linalg.inv(x.T @ x) @ x.T\n",
        "  bhat = (M @ data)[1:,:].T\n",
        "\n",
        "  # Step 2: cross sectional regression\n",
        "  # Include other control variables here (eg, firm characteristics)\n",
        "  x = np.c_[np.ones(N),bhat]\n",
        "  M = np.linalg.inv(x.T @ x) @ x.T\n",
        "  fhat = (M @ data.T)[1:,:].T\n",
        "  df = pd.DataFrame(fhat)\n",
        "  df.columns = ['mkt','smb','hml']\n",
        "  E_fhat = np.average(fhat,axis=0)\n",
        "  return E_fhat \n",
        "\n",
        "print(efhats(data,fctrs))"
      ],
      "execution_count": null,
      "outputs": [
        {
          "output_type": "stream",
          "text": [
            "[-0.00818252 -0.02476912 -0.01240623]\n",
            "[-0.00818252 -0.02476912 -0.01240623]\n"
          ],
          "name": "stdout"
        }
      ]
    },
    {
      "cell_type": "code",
      "metadata": {
        "colab": {
          "base_uri": "https://localhost:8080/"
        },
        "id": "yIs5pez_pbvv",
        "outputId": "afb72aa9-6240-4cc5-dfd1-a9750e847f0e"
      },
      "source": [
        "E_fhat = efhats(data,fctrs)\n",
        "simn = 10**3 # of bootstrapping\n",
        "t = time.time() # bootstrapping start time \n",
        "for i in range(simn): \n",
        "  indices = np.random.randint(low=0,high=T,size=T) # resample by rows\n",
        "  new_data = data[indices,:] # resampled stock return data\n",
        "  new_fctrs = fctrs[indices,:] # resampled factor return data\n",
        "  E_fhat = np.c_[E_fhat,efhats(new_data,new_fctrs)]\n",
        "  # to check bootstrapping status\n",
        "  if i % 100 == 0: print(i)\n",
        "\n",
        "print('Simulation duration:', time.time()-t, 'seconds.')\n",
        "df = pd.DataFrame(E_fhat.T)\n",
        "df.columns = ['mkt','smb','hml']\n",
        "print(df.describe())"
      ],
      "execution_count": null,
      "outputs": [
        {
          "output_type": "stream",
          "text": [
            "0\n",
            "100\n",
            "200\n",
            "300\n",
            "400\n",
            "500\n",
            "600\n",
            "700\n",
            "800\n",
            "900\n",
            "Simulation duration: 32.483389139175415 seconds.\n",
            "               mkt          smb          hml\n",
            "count  1001.000000  1001.000000  1001.000000\n",
            "mean     -0.008253    -0.024961    -0.012531\n",
            "std       0.019497     0.019520     0.019436\n",
            "min      -0.068209    -0.089666    -0.077426\n",
            "25%      -0.020839    -0.038743    -0.025777\n",
            "50%      -0.008053    -0.024787    -0.012009\n",
            "75%       0.004795    -0.012056     0.000395\n",
            "max       0.055731     0.039412     0.050095\n"
          ],
          "name": "stdout"
        }
      ]
    },
    {
      "cell_type": "code",
      "metadata": {
        "colab": {
          "base_uri": "https://localhost:8080/"
        },
        "id": "ZBYM0pyMrIV3",
        "outputId": "1ba71f37-538c-4966-8de2-e18098c1811a"
      },
      "source": [
        "print('FM regression esimate of expeced factor returns: \\n', np.average(E_fhat.T,axis=0))\n",
        "print('FM regression esimate of standard errors: \\n', np.std(E_fhat.T,axis=0))"
      ],
      "execution_count": null,
      "outputs": [
        {
          "output_type": "stream",
          "text": [
            "FM regression esimate of expeced factor returns: \n",
            " [-0.00825324 -0.0249608  -0.01253054]\n",
            "FM regression esimate of standard errors: \n",
            " [0.01948759 0.01950978 0.01942606]\n"
          ],
          "name": "stdout"
        }
      ]
    }
  ]
}