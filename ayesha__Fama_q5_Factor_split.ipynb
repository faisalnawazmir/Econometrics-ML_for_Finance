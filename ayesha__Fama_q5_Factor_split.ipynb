{
  "nbformat": 4,
  "nbformat_minor": 0,
  "metadata": {
    "colab": {
      "name": "ayesha_ Fama_q5_Factor_split.ipynb",
      "provenance": [],
      "collapsed_sections": [],
      "include_colab_link": true
    },
    "kernelspec": {
      "name": "python3",
      "display_name": "Python 3"
    }
  },
  "cells": [
    {
      "cell_type": "markdown",
      "metadata": {
        "id": "view-in-github",
        "colab_type": "text"
      },
      "source": [
        "<a href=\"https://colab.research.google.com/github/faisalnawazmir/Econometrics-ML_for_Finance/blob/main/ayesha__Fama_q5_Factor_split.ipynb\" target=\"_parent\"><img src=\"https://colab.research.google.com/assets/colab-badge.svg\" alt=\"Open In Colab\"/></a>"
      ]
    },
    {
      "cell_type": "markdown",
      "metadata": {
        "id": "0-NQyg8uMPsr"
      },
      "source": [
        "#Fama French Q5 Factor Model  using split data\n",
        "2000-2005,2006-2008,2009-2012,2013-2016,2017-2019 (5 splits)"
      ]
    },
    {
      "cell_type": "code",
      "metadata": {
        "id": "3bxnSfTYMVfW"
      },
      "source": [
        "import numpy as np\n",
        "import pandas as pd\n",
        "from sklearn.linear_model import LinearRegression \n",
        "from sklearn.metrics import mean_squared_error, r2_score\n",
        "import statsmodels.api as sm \n",
        "from tabulate import tabulate\n",
        "import time\n",
        "np.random.seed(12345)"
      ],
      "execution_count": 87,
      "outputs": []
    },
    {
      "cell_type": "code",
      "metadata": {
        "colab": {
          "base_uri": "https://localhost:8080/",
          "height": 280
        },
        "id": "TG-06u7FO5en",
        "outputId": "f84b3b37-1ba3-4da3-a647-33f7824405a2"
      },
      "source": [
        "#copying data from excel file 25 portfoli\n",
        "from google.colab import drive\n",
        "drive.mount('/gdrive')\n",
        "%cd /gdrive\n",
        "file = r'/gdrive/My Drive/data/q_q5_data_sheet.xlsx'\n",
        "df = pd.read_excel(file, sheet_name='2017-2019')\n",
        "df.head()"
      ],
      "execution_count": 217,
      "outputs": [
        {
          "output_type": "stream",
          "text": [
            "Drive already mounted at /gdrive; to attempt to forcibly remount, call drive.mount(\"/gdrive\", force_remount=True).\n",
            "/gdrive\n"
          ],
          "name": "stdout"
        },
        {
          "output_type": "execute_result",
          "data": {
            "text/html": [
              "<div>\n",
              "<style scoped>\n",
              "    .dataframe tbody tr th:only-of-type {\n",
              "        vertical-align: middle;\n",
              "    }\n",
              "\n",
              "    .dataframe tbody tr th {\n",
              "        vertical-align: top;\n",
              "    }\n",
              "\n",
              "    .dataframe thead th {\n",
              "        text-align: right;\n",
              "    }\n",
              "</style>\n",
              "<table border=\"1\" class=\"dataframe\">\n",
              "  <thead>\n",
              "    <tr style=\"text-align: right;\">\n",
              "      <th></th>\n",
              "      <th>Date</th>\n",
              "      <th>MKt</th>\n",
              "      <th>Me</th>\n",
              "      <th>ROE</th>\n",
              "      <th>I/A</th>\n",
              "      <th>Reg</th>\n",
              "      <th>Unnamed: 6</th>\n",
              "      <th>Unnamed: 7</th>\n",
              "      <th>Unnamed: 8</th>\n",
              "      <th>Date.1</th>\n",
              "      <th>p1</th>\n",
              "      <th>p2</th>\n",
              "      <th>p3</th>\n",
              "      <th>p4</th>\n",
              "      <th>p5</th>\n",
              "      <th>p6</th>\n",
              "      <th>p7</th>\n",
              "      <th>p8</th>\n",
              "      <th>p9</th>\n",
              "      <th>p10</th>\n",
              "      <th>p11</th>\n",
              "      <th>p12</th>\n",
              "      <th>p13</th>\n",
              "      <th>p14</th>\n",
              "      <th>p15</th>\n",
              "      <th>p16</th>\n",
              "      <th>p17</th>\n",
              "      <th>p18</th>\n",
              "      <th>p19</th>\n",
              "      <th>p20</th>\n",
              "      <th>p21</th>\n",
              "      <th>p22</th>\n",
              "      <th>p23</th>\n",
              "      <th>p24</th>\n",
              "      <th>p25</th>\n",
              "    </tr>\n",
              "  </thead>\n",
              "  <tbody>\n",
              "    <tr>\n",
              "      <th>0</th>\n",
              "      <td>2017-01-01</td>\n",
              "      <td>0.014843</td>\n",
              "      <td>-0.011870</td>\n",
              "      <td>-0.039684</td>\n",
              "      <td>-0.064430</td>\n",
              "      <td>-0.043967</td>\n",
              "      <td>NaN</td>\n",
              "      <td>NaN</td>\n",
              "      <td>NaN</td>\n",
              "      <td>2017-01-01</td>\n",
              "      <td>0.028101</td>\n",
              "      <td>0.035439</td>\n",
              "      <td>0.029060</td>\n",
              "      <td>0.037174</td>\n",
              "      <td>0.017918</td>\n",
              "      <td>0.018859</td>\n",
              "      <td>0.004814</td>\n",
              "      <td>0.009151</td>\n",
              "      <td>0.015900</td>\n",
              "      <td>0.017504</td>\n",
              "      <td>0.004397</td>\n",
              "      <td>0.005888</td>\n",
              "      <td>-0.002140</td>\n",
              "      <td>-0.008795</td>\n",
              "      <td>-0.011016</td>\n",
              "      <td>0.008446</td>\n",
              "      <td>0.011779</td>\n",
              "      <td>0.010971</td>\n",
              "      <td>0.009399</td>\n",
              "      <td>0.004280</td>\n",
              "      <td>-0.003078</td>\n",
              "      <td>-0.001203</td>\n",
              "      <td>-0.009265</td>\n",
              "      <td>-0.003336</td>\n",
              "      <td>-0.005026</td>\n",
              "    </tr>\n",
              "    <tr>\n",
              "      <th>1</th>\n",
              "      <td>2017-01-02</td>\n",
              "      <td>-0.009441</td>\n",
              "      <td>0.027685</td>\n",
              "      <td>0.053202</td>\n",
              "      <td>0.024197</td>\n",
              "      <td>0.033439</td>\n",
              "      <td>NaN</td>\n",
              "      <td>NaN</td>\n",
              "      <td>NaN</td>\n",
              "      <td>2017-01-02</td>\n",
              "      <td>0.019074</td>\n",
              "      <td>0.036646</td>\n",
              "      <td>0.012164</td>\n",
              "      <td>0.015344</td>\n",
              "      <td>0.013320</td>\n",
              "      <td>-0.004486</td>\n",
              "      <td>-0.032764</td>\n",
              "      <td>-0.025830</td>\n",
              "      <td>-0.011593</td>\n",
              "      <td>-0.012138</td>\n",
              "      <td>0.001202</td>\n",
              "      <td>-0.012525</td>\n",
              "      <td>-0.005592</td>\n",
              "      <td>-0.002651</td>\n",
              "      <td>-0.000181</td>\n",
              "      <td>-0.000252</td>\n",
              "      <td>0.007122</td>\n",
              "      <td>0.007416</td>\n",
              "      <td>0.009492</td>\n",
              "      <td>0.010329</td>\n",
              "      <td>0.007952</td>\n",
              "      <td>0.002430</td>\n",
              "      <td>-0.016385</td>\n",
              "      <td>-0.003015</td>\n",
              "      <td>-0.011921</td>\n",
              "    </tr>\n",
              "    <tr>\n",
              "      <th>2</th>\n",
              "      <td>2017-01-03</td>\n",
              "      <td>-0.012673</td>\n",
              "      <td>0.006536</td>\n",
              "      <td>0.040037</td>\n",
              "      <td>0.031361</td>\n",
              "      <td>0.052201</td>\n",
              "      <td>NaN</td>\n",
              "      <td>NaN</td>\n",
              "      <td>NaN</td>\n",
              "      <td>2017-01-03</td>\n",
              "      <td>-0.003348</td>\n",
              "      <td>-0.001279</td>\n",
              "      <td>0.002225</td>\n",
              "      <td>0.004086</td>\n",
              "      <td>0.018085</td>\n",
              "      <td>0.012355</td>\n",
              "      <td>0.012143</td>\n",
              "      <td>0.012874</td>\n",
              "      <td>0.018864</td>\n",
              "      <td>0.033527</td>\n",
              "      <td>0.032003</td>\n",
              "      <td>0.030343</td>\n",
              "      <td>0.037981</td>\n",
              "      <td>0.042181</td>\n",
              "      <td>0.038091</td>\n",
              "      <td>0.039651</td>\n",
              "      <td>0.040206</td>\n",
              "      <td>0.032929</td>\n",
              "      <td>0.033645</td>\n",
              "      <td>0.022575</td>\n",
              "      <td>-0.004886</td>\n",
              "      <td>0.021728</td>\n",
              "      <td>0.015195</td>\n",
              "      <td>0.011838</td>\n",
              "      <td>0.000796</td>\n",
              "    </tr>\n",
              "    <tr>\n",
              "      <th>3</th>\n",
              "      <td>2017-01-04</td>\n",
              "      <td>0.018650</td>\n",
              "      <td>-0.018119</td>\n",
              "      <td>0.011972</td>\n",
              "      <td>-0.023361</td>\n",
              "      <td>-0.019770</td>\n",
              "      <td>NaN</td>\n",
              "      <td>NaN</td>\n",
              "      <td>NaN</td>\n",
              "      <td>2017-01-04</td>\n",
              "      <td>0.036349</td>\n",
              "      <td>0.033226</td>\n",
              "      <td>0.030330</td>\n",
              "      <td>0.031842</td>\n",
              "      <td>0.003802</td>\n",
              "      <td>0.001619</td>\n",
              "      <td>0.017445</td>\n",
              "      <td>0.012029</td>\n",
              "      <td>0.015243</td>\n",
              "      <td>0.022545</td>\n",
              "      <td>0.023613</td>\n",
              "      <td>0.014514</td>\n",
              "      <td>0.015315</td>\n",
              "      <td>0.024276</td>\n",
              "      <td>0.026057</td>\n",
              "      <td>0.018759</td>\n",
              "      <td>-0.001152</td>\n",
              "      <td>-0.003580</td>\n",
              "      <td>0.000829</td>\n",
              "      <td>-0.008255</td>\n",
              "      <td>-0.013187</td>\n",
              "      <td>-0.025396</td>\n",
              "      <td>-0.041960</td>\n",
              "      <td>-0.047804</td>\n",
              "      <td>-0.060721</td>\n",
              "    </tr>\n",
              "    <tr>\n",
              "      <th>4</th>\n",
              "      <td>2017-01-05</td>\n",
              "      <td>0.020995</td>\n",
              "      <td>0.030408</td>\n",
              "      <td>0.037446</td>\n",
              "      <td>0.026583</td>\n",
              "      <td>0.074397</td>\n",
              "      <td>NaN</td>\n",
              "      <td>NaN</td>\n",
              "      <td>NaN</td>\n",
              "      <td>2017-01-05</td>\n",
              "      <td>0.147400</td>\n",
              "      <td>0.101580</td>\n",
              "      <td>0.063436</td>\n",
              "      <td>0.048036</td>\n",
              "      <td>0.064690</td>\n",
              "      <td>0.066716</td>\n",
              "      <td>0.045507</td>\n",
              "      <td>0.031786</td>\n",
              "      <td>0.018769</td>\n",
              "      <td>0.008268</td>\n",
              "      <td>0.010219</td>\n",
              "      <td>-0.007003</td>\n",
              "      <td>-0.001505</td>\n",
              "      <td>-0.005142</td>\n",
              "      <td>-0.001723</td>\n",
              "      <td>-0.006371</td>\n",
              "      <td>-0.006311</td>\n",
              "      <td>-0.016328</td>\n",
              "      <td>-0.020156</td>\n",
              "      <td>-0.014850</td>\n",
              "      <td>-0.003571</td>\n",
              "      <td>0.009088</td>\n",
              "      <td>0.006389</td>\n",
              "      <td>-0.001668</td>\n",
              "      <td>-0.004995</td>\n",
              "    </tr>\n",
              "  </tbody>\n",
              "</table>\n",
              "</div>"
            ],
            "text/plain": [
              "        Date       MKt        Me  ...       p23       p24       p25\n",
              "0 2017-01-01  0.014843 -0.011870  ... -0.009265 -0.003336 -0.005026\n",
              "1 2017-01-02 -0.009441  0.027685  ... -0.016385 -0.003015 -0.011921\n",
              "2 2017-01-03 -0.012673  0.006536  ...  0.015195  0.011838  0.000796\n",
              "3 2017-01-04  0.018650 -0.018119  ... -0.041960 -0.047804 -0.060721\n",
              "4 2017-01-05  0.020995  0.030408  ...  0.006389 -0.001668 -0.004995\n",
              "\n",
              "[5 rows x 35 columns]"
            ]
          },
          "metadata": {
            "tags": []
          },
          "execution_count": 217
        }
      ]
    },
    {
      "cell_type": "code",
      "metadata": {
        "colab": {
          "base_uri": "https://localhost:8080/",
          "height": 226
        },
        "id": "cMD5Vso1kZae",
        "outputId": "ddf7e2fb-f97a-4fd2-a789-1cdd59de8589"
      },
      "source": [
        "# dropping passed columns\n",
        "df.drop([\"Unnamed: 6\",\"Unnamed: 7\", \"Unnamed: 8\",\"Date.1\"], axis = 1, inplace = True)\n",
        "df.head()\n",
        "#You must specify the axis argument. default is axis = 0 which is rows columns is axis = 1."
      ],
      "execution_count": 218,
      "outputs": [
        {
          "output_type": "execute_result",
          "data": {
            "text/html": [
              "<div>\n",
              "<style scoped>\n",
              "    .dataframe tbody tr th:only-of-type {\n",
              "        vertical-align: middle;\n",
              "    }\n",
              "\n",
              "    .dataframe tbody tr th {\n",
              "        vertical-align: top;\n",
              "    }\n",
              "\n",
              "    .dataframe thead th {\n",
              "        text-align: right;\n",
              "    }\n",
              "</style>\n",
              "<table border=\"1\" class=\"dataframe\">\n",
              "  <thead>\n",
              "    <tr style=\"text-align: right;\">\n",
              "      <th></th>\n",
              "      <th>Date</th>\n",
              "      <th>MKt</th>\n",
              "      <th>Me</th>\n",
              "      <th>ROE</th>\n",
              "      <th>I/A</th>\n",
              "      <th>Reg</th>\n",
              "      <th>p1</th>\n",
              "      <th>p2</th>\n",
              "      <th>p3</th>\n",
              "      <th>p4</th>\n",
              "      <th>p5</th>\n",
              "      <th>p6</th>\n",
              "      <th>p7</th>\n",
              "      <th>p8</th>\n",
              "      <th>p9</th>\n",
              "      <th>p10</th>\n",
              "      <th>p11</th>\n",
              "      <th>p12</th>\n",
              "      <th>p13</th>\n",
              "      <th>p14</th>\n",
              "      <th>p15</th>\n",
              "      <th>p16</th>\n",
              "      <th>p17</th>\n",
              "      <th>p18</th>\n",
              "      <th>p19</th>\n",
              "      <th>p20</th>\n",
              "      <th>p21</th>\n",
              "      <th>p22</th>\n",
              "      <th>p23</th>\n",
              "      <th>p24</th>\n",
              "      <th>p25</th>\n",
              "    </tr>\n",
              "  </thead>\n",
              "  <tbody>\n",
              "    <tr>\n",
              "      <th>0</th>\n",
              "      <td>2017-01-01</td>\n",
              "      <td>0.014843</td>\n",
              "      <td>-0.011870</td>\n",
              "      <td>-0.039684</td>\n",
              "      <td>-0.064430</td>\n",
              "      <td>-0.043967</td>\n",
              "      <td>0.028101</td>\n",
              "      <td>0.035439</td>\n",
              "      <td>0.029060</td>\n",
              "      <td>0.037174</td>\n",
              "      <td>0.017918</td>\n",
              "      <td>0.018859</td>\n",
              "      <td>0.004814</td>\n",
              "      <td>0.009151</td>\n",
              "      <td>0.015900</td>\n",
              "      <td>0.017504</td>\n",
              "      <td>0.004397</td>\n",
              "      <td>0.005888</td>\n",
              "      <td>-0.002140</td>\n",
              "      <td>-0.008795</td>\n",
              "      <td>-0.011016</td>\n",
              "      <td>0.008446</td>\n",
              "      <td>0.011779</td>\n",
              "      <td>0.010971</td>\n",
              "      <td>0.009399</td>\n",
              "      <td>0.004280</td>\n",
              "      <td>-0.003078</td>\n",
              "      <td>-0.001203</td>\n",
              "      <td>-0.009265</td>\n",
              "      <td>-0.003336</td>\n",
              "      <td>-0.005026</td>\n",
              "    </tr>\n",
              "    <tr>\n",
              "      <th>1</th>\n",
              "      <td>2017-01-02</td>\n",
              "      <td>-0.009441</td>\n",
              "      <td>0.027685</td>\n",
              "      <td>0.053202</td>\n",
              "      <td>0.024197</td>\n",
              "      <td>0.033439</td>\n",
              "      <td>0.019074</td>\n",
              "      <td>0.036646</td>\n",
              "      <td>0.012164</td>\n",
              "      <td>0.015344</td>\n",
              "      <td>0.013320</td>\n",
              "      <td>-0.004486</td>\n",
              "      <td>-0.032764</td>\n",
              "      <td>-0.025830</td>\n",
              "      <td>-0.011593</td>\n",
              "      <td>-0.012138</td>\n",
              "      <td>0.001202</td>\n",
              "      <td>-0.012525</td>\n",
              "      <td>-0.005592</td>\n",
              "      <td>-0.002651</td>\n",
              "      <td>-0.000181</td>\n",
              "      <td>-0.000252</td>\n",
              "      <td>0.007122</td>\n",
              "      <td>0.007416</td>\n",
              "      <td>0.009492</td>\n",
              "      <td>0.010329</td>\n",
              "      <td>0.007952</td>\n",
              "      <td>0.002430</td>\n",
              "      <td>-0.016385</td>\n",
              "      <td>-0.003015</td>\n",
              "      <td>-0.011921</td>\n",
              "    </tr>\n",
              "    <tr>\n",
              "      <th>2</th>\n",
              "      <td>2017-01-03</td>\n",
              "      <td>-0.012673</td>\n",
              "      <td>0.006536</td>\n",
              "      <td>0.040037</td>\n",
              "      <td>0.031361</td>\n",
              "      <td>0.052201</td>\n",
              "      <td>-0.003348</td>\n",
              "      <td>-0.001279</td>\n",
              "      <td>0.002225</td>\n",
              "      <td>0.004086</td>\n",
              "      <td>0.018085</td>\n",
              "      <td>0.012355</td>\n",
              "      <td>0.012143</td>\n",
              "      <td>0.012874</td>\n",
              "      <td>0.018864</td>\n",
              "      <td>0.033527</td>\n",
              "      <td>0.032003</td>\n",
              "      <td>0.030343</td>\n",
              "      <td>0.037981</td>\n",
              "      <td>0.042181</td>\n",
              "      <td>0.038091</td>\n",
              "      <td>0.039651</td>\n",
              "      <td>0.040206</td>\n",
              "      <td>0.032929</td>\n",
              "      <td>0.033645</td>\n",
              "      <td>0.022575</td>\n",
              "      <td>-0.004886</td>\n",
              "      <td>0.021728</td>\n",
              "      <td>0.015195</td>\n",
              "      <td>0.011838</td>\n",
              "      <td>0.000796</td>\n",
              "    </tr>\n",
              "    <tr>\n",
              "      <th>3</th>\n",
              "      <td>2017-01-04</td>\n",
              "      <td>0.018650</td>\n",
              "      <td>-0.018119</td>\n",
              "      <td>0.011972</td>\n",
              "      <td>-0.023361</td>\n",
              "      <td>-0.019770</td>\n",
              "      <td>0.036349</td>\n",
              "      <td>0.033226</td>\n",
              "      <td>0.030330</td>\n",
              "      <td>0.031842</td>\n",
              "      <td>0.003802</td>\n",
              "      <td>0.001619</td>\n",
              "      <td>0.017445</td>\n",
              "      <td>0.012029</td>\n",
              "      <td>0.015243</td>\n",
              "      <td>0.022545</td>\n",
              "      <td>0.023613</td>\n",
              "      <td>0.014514</td>\n",
              "      <td>0.015315</td>\n",
              "      <td>0.024276</td>\n",
              "      <td>0.026057</td>\n",
              "      <td>0.018759</td>\n",
              "      <td>-0.001152</td>\n",
              "      <td>-0.003580</td>\n",
              "      <td>0.000829</td>\n",
              "      <td>-0.008255</td>\n",
              "      <td>-0.013187</td>\n",
              "      <td>-0.025396</td>\n",
              "      <td>-0.041960</td>\n",
              "      <td>-0.047804</td>\n",
              "      <td>-0.060721</td>\n",
              "    </tr>\n",
              "    <tr>\n",
              "      <th>4</th>\n",
              "      <td>2017-01-05</td>\n",
              "      <td>0.020995</td>\n",
              "      <td>0.030408</td>\n",
              "      <td>0.037446</td>\n",
              "      <td>0.026583</td>\n",
              "      <td>0.074397</td>\n",
              "      <td>0.147400</td>\n",
              "      <td>0.101580</td>\n",
              "      <td>0.063436</td>\n",
              "      <td>0.048036</td>\n",
              "      <td>0.064690</td>\n",
              "      <td>0.066716</td>\n",
              "      <td>0.045507</td>\n",
              "      <td>0.031786</td>\n",
              "      <td>0.018769</td>\n",
              "      <td>0.008268</td>\n",
              "      <td>0.010219</td>\n",
              "      <td>-0.007003</td>\n",
              "      <td>-0.001505</td>\n",
              "      <td>-0.005142</td>\n",
              "      <td>-0.001723</td>\n",
              "      <td>-0.006371</td>\n",
              "      <td>-0.006311</td>\n",
              "      <td>-0.016328</td>\n",
              "      <td>-0.020156</td>\n",
              "      <td>-0.014850</td>\n",
              "      <td>-0.003571</td>\n",
              "      <td>0.009088</td>\n",
              "      <td>0.006389</td>\n",
              "      <td>-0.001668</td>\n",
              "      <td>-0.004995</td>\n",
              "    </tr>\n",
              "  </tbody>\n",
              "</table>\n",
              "</div>"
            ],
            "text/plain": [
              "        Date       MKt        Me  ...       p23       p24       p25\n",
              "0 2017-01-01  0.014843 -0.011870  ... -0.009265 -0.003336 -0.005026\n",
              "1 2017-01-02 -0.009441  0.027685  ... -0.016385 -0.003015 -0.011921\n",
              "2 2017-01-03 -0.012673  0.006536  ...  0.015195  0.011838  0.000796\n",
              "3 2017-01-04  0.018650 -0.018119  ... -0.041960 -0.047804 -0.060721\n",
              "4 2017-01-05  0.020995  0.030408  ...  0.006389 -0.001668 -0.004995\n",
              "\n",
              "[5 rows x 31 columns]"
            ]
          },
          "metadata": {
            "tags": []
          },
          "execution_count": 218
        }
      ]
    },
    {
      "cell_type": "code",
      "metadata": {
        "id": "iCcHkAxhRDVx"
      },
      "source": [
        "#N = 25  # of firms in an economy, here # of portfolios, here len(data)\n",
        "T = len(df)  # length of periods # here 1136#df.columns.array\n",
        "#  data\n",
        "data = df.loc[:,'p1':'p25']\n",
        "#data.shape#(T,N)\n",
        "#x,y=data.shape\n",
        "#N=y#  # of firms in an economy, here # of portfolios, here len(data)\n",
        "#T = data.shape[0]\n",
        "N = data.shape[1]"
      ],
      "execution_count": 219,
      "outputs": []
    },
    {
      "cell_type": "code",
      "metadata": {
        "id": "KxRoNnjRNyL9"
      },
      "source": [
        "# simulate factor loadings (ie, coefficients)\n",
        "b_mkt = np.zeros((1,N)) # true loadings for market factor\n",
        "b_me = np.zeros((1,N)) # true loadings for size factor\n",
        "b_roe = np.zeros((1,N)) # true loadings for value factor\n",
        "b_ia = np.zeros((1,N)) # true loadings for value factor\n",
        "b_reg = np.zeros((1,N)) # true loadings for value factor"
      ],
      "execution_count": 220,
      "outputs": []
    },
    {
      "cell_type": "code",
      "metadata": {
        "id": "03H5lY3KTxUQ"
      },
      "source": [
        "#  factor returns\n",
        "mkt = df['MKt'] # market factor\n",
        "me = df['Me'] # size factor\n",
        "roe = df['ROE'] # value factor\n",
        "ia = df['I/A'] # market factor\n",
        "reg=df['Reg']# umd is growth factor\n"
      ],
      "execution_count": 221,
      "outputs": []
    },
    {
      "cell_type": "code",
      "metadata": {
        "colab": {
          "base_uri": "https://localhost:8080/",
          "height": 206
        },
        "id": "HSqR7bS0XF-x",
        "outputId": "6e8de527-1466-464f-e3bf-2f5612926935"
      },
      "source": [
        "#data.iloc[:,1]\n",
        "fctrs = df[[\"MKt\",\"Me\",\"ROE\",\"I/A\",\"Reg\"]]\n",
        "fctrs.head()\n"
      ],
      "execution_count": 222,
      "outputs": [
        {
          "output_type": "execute_result",
          "data": {
            "text/html": [
              "<div>\n",
              "<style scoped>\n",
              "    .dataframe tbody tr th:only-of-type {\n",
              "        vertical-align: middle;\n",
              "    }\n",
              "\n",
              "    .dataframe tbody tr th {\n",
              "        vertical-align: top;\n",
              "    }\n",
              "\n",
              "    .dataframe thead th {\n",
              "        text-align: right;\n",
              "    }\n",
              "</style>\n",
              "<table border=\"1\" class=\"dataframe\">\n",
              "  <thead>\n",
              "    <tr style=\"text-align: right;\">\n",
              "      <th></th>\n",
              "      <th>MKt</th>\n",
              "      <th>Me</th>\n",
              "      <th>ROE</th>\n",
              "      <th>I/A</th>\n",
              "      <th>Reg</th>\n",
              "    </tr>\n",
              "  </thead>\n",
              "  <tbody>\n",
              "    <tr>\n",
              "      <th>0</th>\n",
              "      <td>0.014843</td>\n",
              "      <td>-0.011870</td>\n",
              "      <td>-0.039684</td>\n",
              "      <td>-0.064430</td>\n",
              "      <td>-0.043967</td>\n",
              "    </tr>\n",
              "    <tr>\n",
              "      <th>1</th>\n",
              "      <td>-0.009441</td>\n",
              "      <td>0.027685</td>\n",
              "      <td>0.053202</td>\n",
              "      <td>0.024197</td>\n",
              "      <td>0.033439</td>\n",
              "    </tr>\n",
              "    <tr>\n",
              "      <th>2</th>\n",
              "      <td>-0.012673</td>\n",
              "      <td>0.006536</td>\n",
              "      <td>0.040037</td>\n",
              "      <td>0.031361</td>\n",
              "      <td>0.052201</td>\n",
              "    </tr>\n",
              "    <tr>\n",
              "      <th>3</th>\n",
              "      <td>0.018650</td>\n",
              "      <td>-0.018119</td>\n",
              "      <td>0.011972</td>\n",
              "      <td>-0.023361</td>\n",
              "      <td>-0.019770</td>\n",
              "    </tr>\n",
              "    <tr>\n",
              "      <th>4</th>\n",
              "      <td>0.020995</td>\n",
              "      <td>0.030408</td>\n",
              "      <td>0.037446</td>\n",
              "      <td>0.026583</td>\n",
              "      <td>0.074397</td>\n",
              "    </tr>\n",
              "  </tbody>\n",
              "</table>\n",
              "</div>"
            ],
            "text/plain": [
              "        MKt        Me       ROE       I/A       Reg\n",
              "0  0.014843 -0.011870 -0.039684 -0.064430 -0.043967\n",
              "1 -0.009441  0.027685  0.053202  0.024197  0.033439\n",
              "2 -0.012673  0.006536  0.040037  0.031361  0.052201\n",
              "3  0.018650 -0.018119  0.011972 -0.023361 -0.019770\n",
              "4  0.020995  0.030408  0.037446  0.026583  0.074397"
            ]
          },
          "metadata": {
            "tags": []
          },
          "execution_count": 222
        }
      ]
    },
    {
      "cell_type": "code",
      "metadata": {
        "id": "kKFLlGnbdaca"
      },
      "source": [
        "no_factors=fctrs.shape[1]"
      ],
      "execution_count": 223,
      "outputs": []
    },
    {
      "cell_type": "code",
      "metadata": {
        "colab": {
          "base_uri": "https://localhost:8080/"
        },
        "id": "WE8ICMwZV5Nk",
        "outputId": "26b177bd-7548-48d3-bb7d-44cc64652a40"
      },
      "source": [
        "# Step 1: time series regression firm by firm\n",
        "#fctrs = np.c_[mkt, smb, hml]\n",
        "# of factors\n",
        "b = np.zeros(no_factors)\n",
        "for i in range(N): # firm-by-firm time series regression\n",
        "  model = LinearRegression()\n",
        "  model.fit(fctrs,data.iloc[:,i])\n",
        "  b = np.c_[b,model.coef_]\n",
        "\n",
        "b  = np.transpose(b[:,1:])\n",
        "b.shape\n",
        "#b should be 0.1, 0.2"
      ],
      "execution_count": 224,
      "outputs": [
        {
          "output_type": "execute_result",
          "data": {
            "text/plain": [
              "(25, 5)"
            ]
          },
          "metadata": {
            "tags": []
          },
          "execution_count": 224
        }
      ]
    },
    {
      "cell_type": "code",
      "metadata": {
        "id": "3LvYh6Mjs7wi"
      },
      "source": [
        "#b is bhat\n",
        "#b\n",
        "#b.shape# (N,#factors)\n",
        "df_bhat = pd.DataFrame(b)\n",
        "df_bhat.columns = ['b_01','b_02','b_03','b_04','b_05']# change according factos\n",
        "#print(df_bhat.head())\n",
        "\n",
        "from google.colab import  drive\n",
        "df_bhat.to_csv('/gdrive/My Drive/data/bhat_ayesha_q5_factors_split2017-2019.csv')"
      ],
      "execution_count": 225,
      "outputs": []
    },
    {
      "cell_type": "code",
      "metadata": {
        "colab": {
          "base_uri": "https://localhost:8080/"
        },
        "id": "225EJNSVtLJ8",
        "outputId": "004194ec-b223-459e-df32-81de9988ffc4"
      },
      "source": [
        "# Step 2: cross sectional regression time-by-time\n",
        "f = np.zeros(no_factors)\n",
        "for i in range(T): # time-by-time cross sectional regression\n",
        "  model = LinearRegression()\n",
        "  model.fit(b,data.iloc[i,:])\n",
        "  f = np.c_[f,model.coef_]\n",
        "\n",
        "f = np.transpose(f[:,1:])\n",
        "df_gamma = pd.DataFrame(f)\n",
        "df_gamma.columns = ['mkt','me','roe','ia','reg']\n",
        "print(df_gamma.describe())\n",
        "print('Median estimate:', np.median(f,axis=0))\n",
        "print('Standard errors (without Shanken correction):', np.std(f,axis=0)/T**.5)"
      ],
      "execution_count": 226,
      "outputs": [
        {
          "output_type": "stream",
          "text": [
            "             mkt         me        roe         ia        reg\n",
            "count  36.000000  36.000000  36.000000  36.000000  36.000000\n",
            "mean   -0.002926   0.002168   0.006053  -0.006796  -0.001178\n",
            "std     0.062072   0.028074   0.068374   0.060681   0.056111\n",
            "min    -0.138497  -0.051924  -0.165808  -0.183760  -0.107212\n",
            "25%    -0.036568  -0.019526  -0.051942  -0.030593  -0.050428\n",
            "50%    -0.009774  -0.001033   0.012401  -0.003815   0.010747\n",
            "75%     0.031368   0.016206   0.051696   0.017209   0.030869\n",
            "max     0.195525   0.064088   0.186587   0.128577   0.145424\n",
            "Median estimate: [-0.00977425 -0.0010325   0.01240052 -0.00381473  0.01074719]\n",
            "Standard errors (without Shanken correction): [0.0102006  0.0046136  0.01123631 0.00997204 0.00922105]\n"
          ],
          "name": "stdout"
        }
      ]
    },
    {
      "cell_type": "markdown",
      "metadata": {
        "id": "-MlklL92L7KI"
      },
      "source": [
        "## Writing output to the text file"
      ]
    },
    {
      "cell_type": "code",
      "metadata": {
        "id": "0Fksdj95T4mA"
      },
      "source": [
        "file_output=r'/gdrive/My Drive/data/output_q5factor_split2017_2019.txt'\n",
        "desc=repr(df_gamma.describe())\n",
        "median_est=repr(np.median(f,axis=0))\n",
        "std_err=repr(np.std(f,axis=0)/T**.5)"
      ],
      "execution_count": 227,
      "outputs": []
    },
    {
      "cell_type": "markdown",
      "metadata": {
        "id": "cy7GTsOXNS4G"
      },
      "source": [
        "Using the with statement is better practice, it automatically closes the file even if the code encounters an exception. The code will run everything in the indent block then close the file object. "
      ]
    },
    {
      "cell_type": "code",
      "metadata": {
        "id": "xzW_C1sffvr0"
      },
      "source": [
        "# Write lines to file\n",
        "\n",
        "with open(file_output, 'w+') as writefile:\n",
        "    writefile.write(\"Results of Table  A\\n\")\n",
        "    writefile.write(desc+\"\\n\")\n",
        "    writefile.write(\"Median estimate:\"+\"\\t\"+median_est+\"\\n\")\n",
        "    writefile.write(\"Standard errors (without Shanken correction):\\t\"+std_err+\"\\n\")\n",
        "    writefile.write(\"T stats: \\t\"+t_stat_boot+\"\\n\")\n",
        "    writefile.write(\"***********\\n\\n\")\n"
      ],
      "execution_count": 228,
      "outputs": []
    },
    {
      "cell_type": "code",
      "metadata": {
        "colab": {
          "base_uri": "https://localhost:8080/"
        },
        "id": "MbAqnzZ9cwBy",
        "outputId": "3d8ebc4b-f1e2-4111-cffd-a5a1d15f2c4f"
      },
      "source": [
        "# Check whether write to file\n",
        "\n",
        "with open(file_output, 'r') as testwritefile:\n",
        "    print(testwritefile.read())"
      ],
      "execution_count": 229,
      "outputs": [
        {
          "output_type": "stream",
          "text": [
            "Results of Table  A\n",
            "             mkt         me        roe         ia        reg\n",
            "count  36.000000  36.000000  36.000000  36.000000  36.000000\n",
            "mean   -0.002926   0.002168   0.006053  -0.006796  -0.001178\n",
            "std     0.062072   0.028074   0.068374   0.060681   0.056111\n",
            "min    -0.138497  -0.051924  -0.165808  -0.183760  -0.107212\n",
            "25%    -0.036568  -0.019526  -0.051942  -0.030593  -0.050428\n",
            "50%    -0.009774  -0.001033   0.012401  -0.003815   0.010747\n",
            "75%     0.031368   0.016206   0.051696   0.017209   0.030869\n",
            "max     0.195525   0.064088   0.186587   0.128577   0.145424\n",
            "Median estimate:\tarray([-0.00977425, -0.0010325 ,  0.01240052, -0.00381473,  0.01074719])\n",
            "Standard errors (without Shanken correction):\tarray([0.0102006 , 0.0046136 , 0.01123631, 0.00997204, 0.00922105])\n",
            "T stats: \tarray([ 0.22068874,  0.06462768,  0.65345672,  0.51469661, -0.06217504])\n",
            "***********\n",
            "\n",
            "\n"
          ],
          "name": "stdout"
        }
      ]
    },
    {
      "cell_type": "code",
      "metadata": {
        "colab": {
          "base_uri": "https://localhost:8080/"
        },
        "id": "h2iYECBFETsE",
        "outputId": "2fa47d15-cbab-490f-8451-2c769ff9b139"
      },
      "source": [
        "mu=np.median(f,axis=0)\n",
        "sigma=(np.std(f,axis=0))/T**.5\n",
        "tstat=mu/sigma\n",
        "tstat\n",
        "#tstat<1.96"
      ],
      "execution_count": 230,
      "outputs": [
        {
          "output_type": "execute_result",
          "data": {
            "text/plain": [
              "array([-0.95820271, -0.22379491,  1.10361128, -0.38254266,  1.16550625])"
            ]
          },
          "metadata": {
            "tags": []
          },
          "execution_count": 230
        }
      ]
    },
    {
      "cell_type": "code",
      "metadata": {
        "id": "4YjK7U5NtLVq"
      },
      "source": [
        "f.shape # (T,#factors)# f or df I assume is gamma hat\n",
        "df_gamma.to_csv('/gdrive/My Drive/data/ayesha_gamma_q5_factors_split2017-2019.csv')"
      ],
      "execution_count": 231,
      "outputs": []
    },
    {
      "cell_type": "code",
      "metadata": {
        "id": "FZm67ZsTtsDb"
      },
      "source": [
        "#df.head()#f and df are same, gamma hat"
      ],
      "execution_count": 232,
      "outputs": []
    },
    {
      "cell_type": "code",
      "metadata": {
        "id": "xcWF_laDAlyV"
      },
      "source": [
        "import statsmodels.formula.api as smf\n",
        "import pandas as pd\n",
        "import numpy as np\n",
        "import statsmodels.stats.api as sms"
      ],
      "execution_count": 233,
      "outputs": []
    },
    {
      "cell_type": "code",
      "metadata": {
        "id": "O6mWnC7I7Nhi"
      },
      "source": [
        "data_a=data.to_numpy()\n",
        "fctrs_a=fctrs.to_numpy()"
      ],
      "execution_count": 234,
      "outputs": []
    },
    {
      "cell_type": "code",
      "metadata": {
        "id": "5kr2iYqQtsQO",
        "colab": {
          "base_uri": "https://localhost:8080/"
        },
        "outputId": "6b572811-7f52-4f8b-e118-9ef1b9cc3faf"
      },
      "source": [
        "# Compute standard error with bootstrapping (Shanken correction unnecessary)\n",
        "# One simple bootstrapping \n",
        "\n",
        "indices = np.random.randint(low=0,high=T, size=T)\n",
        "new_data = data_a[indices,:]\n",
        "new_fctrs = fctrs_a[indices,:]\n",
        "xx = indices[0]\n",
        "print(xx)\n",
        "print(new_data[0,:])\n",
        "print(data_a[xx,:])\n"
      ],
      "execution_count": 235,
      "outputs": [
        {
          "output_type": "stream",
          "text": [
            "17\n",
            "[-0.09645953 -0.08951973 -0.0881526  -0.07449757 -0.08598734 -0.08205145\n",
            " -0.07761937 -0.07551743 -0.06770004 -0.05602176 -0.05315259 -0.05884882\n",
            " -0.05428992 -0.04445478 -0.03852086 -0.04096848 -0.03876638 -0.03601103\n",
            " -0.02866498 -0.02270914 -0.03183731 -0.02201728 -0.00870138 -0.00985211\n",
            " -0.00930751]\n",
            "[-0.09645953 -0.08951973 -0.0881526  -0.07449757 -0.08598734 -0.08205145\n",
            " -0.07761937 -0.07551743 -0.06770004 -0.05602176 -0.05315259 -0.05884882\n",
            " -0.05428992 -0.04445478 -0.03852086 -0.04096848 -0.03876638 -0.03601103\n",
            " -0.02866498 -0.02270914 -0.03183731 -0.02201728 -0.00870138 -0.00985211\n",
            " -0.00930751]\n"
          ],
          "name": "stdout"
        }
      ]
    },
    {
      "cell_type": "code",
      "metadata": {
        "id": "WIcAhRZz8ipO"
      },
      "source": [
        "def efhats(data,fctrs): # function to compute average estimated factor return\n",
        "  T = data.shape[0]\n",
        "  N = data.shape[1]\n",
        "  # Step 1: Time series regression\n",
        "  x = np.c_[np.ones(T),fctrs]\n",
        "  M = np.linalg.inv(x.T @ x) @ x.T\n",
        "  bhat = (M @ data)[1:,:].T\n",
        "\n",
        "  # Step 2: cross sectional regression\n",
        "  # Include other control variables here (eg, firm characteristics)\n",
        "  x = np.c_[np.ones(N),bhat]\n",
        "  M = np.linalg.inv(x.T @ x) @ x.T\n",
        "  fhat = (M @ data.T)[1:,:].T\n",
        "  df = pd.DataFrame(fhat)\n",
        "  df.columns = ['mkt','me','roe','ia','reg']\n",
        "  E_fhat = np.average(fhat,axis=0)\n",
        "  return E_fhat \n"
      ],
      "execution_count": 236,
      "outputs": []
    },
    {
      "cell_type": "code",
      "metadata": {
        "id": "yx2wkY_z2KlU",
        "colab": {
          "base_uri": "https://localhost:8080/"
        },
        "outputId": "da55f28c-163e-4aa5-bebf-4a3201b8dfc8"
      },
      "source": [
        "E_fhat = efhats(data_a,fctrs_a)\n",
        "simn = 10**3 # of bootstrapping\n",
        "t = time.time() # bootstrapping start time \n",
        "for i in range(simn): \n",
        "  indices = np.random.randint(low=0,high=T,size=T) # resample by rows\n",
        "  new_data = data_a[indices,:] # resampled stock return data\n",
        "  new_fctrs = fctrs_a[indices,:] # resampled factor return data\n",
        "  E_fhat = np.c_[E_fhat,efhats(new_data,new_fctrs)]\n",
        "  # to check bootstrapping status\n",
        "  if i % 100 == 0: print(i)\n",
        "\n",
        "print('Simulation duration:', time.time()-t, 'seconds.')\n",
        "df = pd.DataFrame(E_fhat.T)\n",
        "df.columns = ['mkt','me','roe','ia','reg']\n",
        "print(df.describe())"
      ],
      "execution_count": 237,
      "outputs": [
        {
          "output_type": "stream",
          "text": [
            "0\n",
            "100\n",
            "200\n",
            "300\n",
            "400\n",
            "500\n",
            "600\n",
            "700\n",
            "800\n",
            "900\n",
            "Simulation duration: 1.0394949913024902 seconds.\n",
            "               mkt           me          roe           ia          reg\n",
            "count  1001.000000  1001.000000  1001.000000  1001.000000  1001.000000\n",
            "mean     -0.003539     0.000697     0.000924    -0.004062    -0.001530\n",
            "std       0.010598     0.004560     0.011130     0.012298     0.011042\n",
            "min      -0.040649    -0.015817    -0.046875    -0.040842    -0.034366\n",
            "25%      -0.010508    -0.002214    -0.006587    -0.012072    -0.008379\n",
            "50%      -0.003200     0.000657     0.001000    -0.004484    -0.001680\n",
            "75%       0.003501     0.003682     0.007580     0.003604     0.005856\n",
            "max       0.043012     0.018007     0.052302     0.051183     0.051253\n"
          ],
          "name": "stdout"
        }
      ]
    },
    {
      "cell_type": "code",
      "metadata": {
        "colab": {
          "base_uri": "https://localhost:8080/"
        },
        "id": "ZBYM0pyMrIV3",
        "outputId": "4d0cb49a-c380-499c-d9fd-832f7b32acba"
      },
      "source": [
        "print('FM regression esimate of expeced factor returns: \\n', np.average(E_fhat.T,axis=0))\n",
        "print('FM regression esimate of standard errors: \\n', np.std(E_fhat.T,axis=0))"
      ],
      "execution_count": 238,
      "outputs": [
        {
          "output_type": "stream",
          "text": [
            "FM regression esimate of expeced factor returns: \n",
            " [-0.00353864  0.00069686  0.00092379 -0.00406155 -0.00153036]\n",
            "FM regression esimate of standard errors: \n",
            " [0.01059319 0.0045576  0.0111246  0.01229204 0.01103689]\n"
          ],
          "name": "stdout"
        }
      ]
    },
    {
      "cell_type": "code",
      "metadata": {
        "id": "S6aHHRjB0RLY",
        "colab": {
          "base_uri": "https://localhost:8080/"
        },
        "outputId": "36f8f073-28a2-446b-9328-45b468711a34"
      },
      "source": [
        "#bootstrap t stats\n",
        "mu_boot=np.average(E_fhat.T,axis=0)\n",
        "sigma_boot=np.std(E_fhat.T,axis=0)\n",
        "tstat_boot=mu_boot/sigma_boot\n",
        "tstat_boot"
      ],
      "execution_count": 239,
      "outputs": [
        {
          "output_type": "execute_result",
          "data": {
            "text/plain": [
              "array([-0.33404899,  0.15290147,  0.08303993, -0.33042091, -0.13865824])"
            ]
          },
          "metadata": {
            "tags": []
          },
          "execution_count": 239
        }
      ]
    },
    {
      "cell_type": "markdown",
      "metadata": {
        "id": "hHGVO0IeM1J9"
      },
      "source": [
        "https://quant.stackexchange.com/questions/35781/how-to-interpret-the-grs-f-test-values\n",
        "#grs test\n",
        "https://stackoverflow.com/questions/24074481/fama-macbeth-regression-in-python-pandas-or-statsmodels"
      ]
    },
    {
      "cell_type": "code",
      "metadata": {
        "id": "3Jd9dKg2O7AZ",
        "colab": {
          "base_uri": "https://localhost:8080/"
        },
        "outputId": "158aef0b-0473-494d-daed-111be47f031f"
      },
      "source": [
        "pip install rpy2"
      ],
      "execution_count": null,
      "outputs": [
        {
          "output_type": "stream",
          "text": [
            "Requirement already satisfied: rpy2 in /usr/local/lib/python3.7/dist-packages (3.4.4)\n",
            "Requirement already satisfied: cffi>=1.10.0 in /usr/local/lib/python3.7/dist-packages (from rpy2) (1.14.5)\n",
            "Requirement already satisfied: jinja2 in /usr/local/lib/python3.7/dist-packages (from rpy2) (2.11.3)\n",
            "Requirement already satisfied: tzlocal in /usr/local/lib/python3.7/dist-packages (from rpy2) (1.5.1)\n",
            "Requirement already satisfied: pytz in /usr/local/lib/python3.7/dist-packages (from rpy2) (2018.9)\n",
            "Requirement already satisfied: pycparser in /usr/local/lib/python3.7/dist-packages (from cffi>=1.10.0->rpy2) (2.20)\n",
            "Requirement already satisfied: MarkupSafe>=0.23 in /usr/local/lib/python3.7/dist-packages (from jinja2->rpy2) (2.0.1)\n"
          ],
          "name": "stdout"
        }
      ]
    },
    {
      "cell_type": "code",
      "metadata": {
        "id": "jKgMKlZWv3zP"
      },
      "source": [
        "%load_ext rpy2.ipython"
      ],
      "execution_count": 41,
      "outputs": []
    },
    {
      "cell_type": "code",
      "metadata": {
        "id": "qiIiQm5ywjt5"
      },
      "source": [
        "%%R -i df -w 5 -h 5 --units in -r 200\n",
        "# import df from global environment\n",
        "# make default figure size 5 by 5 inches with 200 dpi resolution\n",
        "\n",
        "install.packages(\"GRS.test\", repos='http://cran.us.r-project.org', quiet=TRUE)\n",
        "library(GRS.test)\n"
      ],
      "execution_count": 42,
      "outputs": []
    },
    {
      "cell_type": "code",
      "metadata": {
        "colab": {
          "base_uri": "https://localhost:8080/"
        },
        "id": "yiRCSMhB6muu",
        "outputId": "dac68a27-3115-4369-ae2b-7211f343fbd8"
      },
      "source": [
        "%%R -i data,fctrs\n",
        "GRS.MLtest(data, fctrs)"
      ],
      "execution_count": 240,
      "outputs": [
        {
          "output_type": "stream",
          "text": [
            "$GRS.stat\n",
            "          GRS\n",
            "[1,] 2.045462\n",
            "\n",
            "$GRS.pval\n",
            "           GRS\n",
            "[1,] 0.1896439\n",
            "\n",
            "$thetas\n",
            "         [,1]\n",
            "[1,] 2.946525\n",
            "\n",
            "$theta\n",
            "          [,1]\n",
            "[1,] 0.4415546\n",
            "\n",
            "$ratio\n",
            "          [,1]\n",
            "[1,] 0.1498561\n",
            "\n"
          ],
          "name": "stdout"
        }
      ]
    },
    {
      "cell_type": "code",
      "metadata": {
        "id": "wfxHA5pp8-zR"
      },
      "source": [
        "%%R -o model -o coef  -o pval -o thetas -o theta -o ratio\n",
        "model<-GRS.MLtest(data, fctrs)\n",
        "coef<-model$GRS.stat\n",
        "pval<-model$GRS.pval\n",
        "thetas<-model$thetas\n",
        "theta<-model$theta\n",
        "ratio<-model$ratio"
      ],
      "execution_count": 241,
      "outputs": []
    },
    {
      "cell_type": "code",
      "metadata": {
        "colab": {
          "base_uri": "https://localhost:8080/"
        },
        "id": "XhyHrMGI9wYs",
        "outputId": "e1f56c24-4643-4d56-c91d-f77377cdef84"
      },
      "source": [
        "print(model)"
      ],
      "execution_count": 242,
      "outputs": [
        {
          "output_type": "stream",
          "text": [
            "$GRS.stat\n",
            "          GRS\n",
            "[1,] 2.045462\n",
            "\n",
            "$GRS.pval\n",
            "           GRS\n",
            "[1,] 0.1896439\n",
            "\n",
            "$thetas\n",
            "         [,1]\n",
            "[1,] 2.946525\n",
            "\n",
            "$theta\n",
            "          [,1]\n",
            "[1,] 0.4415546\n",
            "\n",
            "$ratio\n",
            "          [,1]\n",
            "[1,] 0.1498561\n",
            "\n",
            "\n"
          ],
          "name": "stdout"
        }
      ]
    },
    {
      "cell_type": "markdown",
      "metadata": {
        "id": "QhzTVJ95-OLC"
      },
      "source": [
        "W statistic given in (7) of GRS (1989) <DOI:10.2307/1913625>\n",
        "\n",
        "GRS.stat=GRS test statistic\n",
        "\n",
        "GRS.pval=its p-value\n",
        "\n",
        "theta=maximum Sharpe ratio of the K factor portfolios\n",
        "\n",
        "thetas=slope of the efficient frontier based on all assets\n",
        "\n",
        "ratio=theta/thetas, proportion of the potential efficiency\n",
        "\n",
        "References\n",
        "Gibbons, Ross, Shanken, 1989. A test of the efficiency of a given portfolio, Econometrica, 57,1121-\n",
        "1152. <DOI:10.2307/1913625>\n"
      ]
    },
    {
      "cell_type": "markdown",
      "metadata": {
        "id": "QSI9gs-I4Ubk"
      },
      "source": [
        "https://towardsdatascience.com/guide-to-r-and-python-in-a-single-jupyter-notebook-ff12532eb3ba\n",
        "\n",
        "https://www.linkedin.com/pulse/interfacing-r-from-python-3-jupyter-notebook-jared-stufft/\n",
        "how to switch R and python\n"
      ]
    },
    {
      "cell_type": "code",
      "metadata": {
        "id": "_sTHgIM2_U_T"
      },
      "source": [
        "grs_stat=repr(coef)\n",
        "grs_pval=repr(pval)\n",
        "grs_thets=repr(thetas)\n",
        "grs_theta=repr(theta)\n",
        "grs_ratio=repr(ratio)"
      ],
      "execution_count": 243,
      "outputs": []
    },
    {
      "cell_type": "code",
      "metadata": {
        "id": "YtmpT1p_PgiL"
      },
      "source": [
        "#bootstrap t stat results\n",
        "simulated_desc=repr(df.describe())\n",
        "median_est_boot=repr(mu_boot)\n",
        "std_err_boot=repr(sigma_boot)\n",
        "t_stat_boot=repr(tstat_boot)"
      ],
      "execution_count": 244,
      "outputs": []
    },
    {
      "cell_type": "code",
      "metadata": {
        "id": "mCRs8b5HAC1q"
      },
      "source": [
        "# Write lines to file\n",
        "\n",
        "with open(file_output, 'a') as writefile:\n",
        "    writefile.write(\"\\n Results of Boot Strapping Table  B\\n\")\n",
        "    writefile.write(simulated_desc+\"\\n\")\n",
        "    writefile.write(\"FM regression esimate of expeced factor returns:\"+\"\\t\"+median_est_boot+\"\\n\")\n",
        "    writefile.write(\"FM regression esimate of standard errors:\\t\"+std_err_boot+\"\\n\")\n",
        "    writefile.write(\"Tstats boot strapping: \\t\"+t_stat_boot+\"\\n\")\n",
        "    writefile.write(\"**********\\n\")\n",
        "    writefile.write(\"\\t GRS Test:\\n\")\n",
        "    writefile.write(\"**********\\n\")\n",
        "    writefile.write(\"GRS stat:\\t\"+grs_stat+\"\\n\")\n",
        "    writefile.write(\"GRS pvalue:\\t\"+grs_pval+\"\\n\")\n",
        "    writefile.write(\"GRS thetas:\\t\"+grs_thets+\"\\n\")\n",
        "    writefile.write(\"GRS theta:\\t\"+grs_theta+\"\\n\")\n",
        "    writefile.write(\"GRS ratio:\\t\"+grs_ratio+\"\\n\")"
      ],
      "execution_count": 245,
      "outputs": []
    },
    {
      "cell_type": "code",
      "metadata": {
        "id": "vd-S51FqUHC6"
      },
      "source": [
        "# Erasing the file contents of a text file will result in an empty text file.\n",
        "# file = open(file_output,\"r+\")\n",
        "# file.truncate(0)\n",
        "# file.close()"
      ],
      "execution_count": 84,
      "outputs": []
    }
  ]
}