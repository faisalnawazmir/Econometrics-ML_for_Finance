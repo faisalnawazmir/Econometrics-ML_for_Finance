{
  "nbformat": 4,
  "nbformat_minor": 0,
  "metadata": {
    "colab": {
      "name": "ARIMA_model.ipynb",
      "provenance": [],
      "authorship_tag": "ABX9TyMMsWZSDCWcZAtPa0dPm5ah",
      "include_colab_link": true
    },
    "kernelspec": {
      "name": "python3",
      "display_name": "Python 3"
    }
  },
  "cells": [
    {
      "cell_type": "markdown",
      "metadata": {
        "id": "view-in-github",
        "colab_type": "text"
      },
      "source": [
        "<a href=\"https://colab.research.google.com/github/faisalnawazmir/Econometrics-ML_for_Finance/blob/main/ARIMA_model.ipynb\" target=\"_parent\"><img src=\"https://colab.research.google.com/assets/colab-badge.svg\" alt=\"Open In Colab\"/></a>"
      ]
    },
    {
      "cell_type": "code",
      "metadata": {
        "id": "dkc3-q_AWqZF",
        "outputId": "234d1f35-8e7e-4dae-8952-c5b6fc11c7eb",
        "colab": {
          "base_uri": "https://localhost:8080/"
        }
      },
      "source": [
        "import pandas as pd\n",
        "import statsmodels.tsa.api as smt\n",
        "import pickle"
      ],
      "execution_count": null,
      "outputs": [
        {
          "output_type": "stream",
          "text": [
            "/usr/local/lib/python3.6/dist-packages/statsmodels/tools/_testing.py:19: FutureWarning: pandas.util.testing is deprecated. Use the functions in the public API at pandas.testing instead.\n",
            "  import pandas.util.testing as tm\n"
          ],
          "name": "stderr"
        }
      ]
    },
    {
      "cell_type": "code",
      "metadata": {
        "id": "GRggSctzXtsK",
        "outputId": "f82783c0-78a3-41f0-f4a7-767a7ae2052e",
        "colab": {
          "base_uri": "https://localhost:8080/"
        }
      },
      "source": [
        "from google.colab import drive\n",
        "drive.mount('/gdrive')\n",
        "%cd /gdrive"
      ],
      "execution_count": null,
      "outputs": [
        {
          "output_type": "stream",
          "text": [
            "Mounted at /gdrive\n",
            "/gdrive\n"
          ],
          "name": "stdout"
        }
      ]
    },
    {
      "cell_type": "code",
      "metadata": {
        "id": "_ExoEmNpXy19",
        "outputId": "0432b17a-9694-4198-ed66-fe3f48429f78",
        "colab": {
          "base_uri": "https://localhost:8080/",
          "height": 198
        }
      },
      "source": [
        "file = r'/gdrive/My Drive/data/UKHP.xls'\n",
        "data = pd.read_excel(file)\n",
        "data.head()"
      ],
      "execution_count": null,
      "outputs": [
        {
          "output_type": "execute_result",
          "data": {
            "text/html": [
              "<div>\n",
              "<style scoped>\n",
              "    .dataframe tbody tr th:only-of-type {\n",
              "        vertical-align: middle;\n",
              "    }\n",
              "\n",
              "    .dataframe tbody tr th {\n",
              "        vertical-align: top;\n",
              "    }\n",
              "\n",
              "    .dataframe thead th {\n",
              "        text-align: right;\n",
              "    }\n",
              "</style>\n",
              "<table border=\"1\" class=\"dataframe\">\n",
              "  <thead>\n",
              "    <tr style=\"text-align: right;\">\n",
              "      <th></th>\n",
              "      <th>Month</th>\n",
              "      <th>Average House Price</th>\n",
              "    </tr>\n",
              "  </thead>\n",
              "  <tbody>\n",
              "    <tr>\n",
              "      <th>0</th>\n",
              "      <td>1991-01-01</td>\n",
              "      <td>53051.721106</td>\n",
              "    </tr>\n",
              "    <tr>\n",
              "      <th>1</th>\n",
              "      <td>1991-02-01</td>\n",
              "      <td>53496.798746</td>\n",
              "    </tr>\n",
              "    <tr>\n",
              "      <th>2</th>\n",
              "      <td>1991-03-01</td>\n",
              "      <td>52892.861606</td>\n",
              "    </tr>\n",
              "    <tr>\n",
              "      <th>3</th>\n",
              "      <td>1991-04-01</td>\n",
              "      <td>53677.435270</td>\n",
              "    </tr>\n",
              "    <tr>\n",
              "      <th>4</th>\n",
              "      <td>1991-05-01</td>\n",
              "      <td>54385.726747</td>\n",
              "    </tr>\n",
              "  </tbody>\n",
              "</table>\n",
              "</div>"
            ],
            "text/plain": [
              "       Month  Average House Price\n",
              "0 1991-01-01         53051.721106\n",
              "1 1991-02-01         53496.798746\n",
              "2 1991-03-01         52892.861606\n",
              "3 1991-04-01         53677.435270\n",
              "4 1991-05-01         54385.726747"
            ]
          },
          "metadata": {
            "tags": []
          },
          "execution_count": 5
        }
      ]
    },
    {
      "cell_type": "code",
      "metadata": {
        "id": "InT-2zEFh1jE",
        "outputId": "8739b352-4dcf-4633-db77-685fc16ab8b4",
        "colab": {
          "base_uri": "https://localhost:8080/"
        }
      },
      "source": [
        "len(data)"
      ],
      "execution_count": null,
      "outputs": [
        {
          "output_type": "execute_result",
          "data": {
            "text/plain": [
              "326"
            ]
          },
          "metadata": {
            "tags": []
          },
          "execution_count": 25
        }
      ]
    },
    {
      "cell_type": "code",
      "metadata": {
        "id": "adQcSr4zYNMA"
      },
      "source": [
        "data['dhp'] = data['Average House Price'].\\\n",
        "transform(lambda x : (x - x.shift(1))/x.shift(1)*100)"
      ],
      "execution_count": null,
      "outputs": []
    },
    {
      "cell_type": "code",
      "metadata": {
        "id": "NLSCj7sUYsKh",
        "outputId": "e74da35b-b349-4d6f-96bc-79b40b839b5e",
        "colab": {
          "base_uri": "https://localhost:8080/",
          "height": 198
        }
      },
      "source": [
        "data = data.dropna()\n",
        "data.head()"
      ],
      "execution_count": null,
      "outputs": [
        {
          "output_type": "execute_result",
          "data": {
            "text/html": [
              "<div>\n",
              "<style scoped>\n",
              "    .dataframe tbody tr th:only-of-type {\n",
              "        vertical-align: middle;\n",
              "    }\n",
              "\n",
              "    .dataframe tbody tr th {\n",
              "        vertical-align: top;\n",
              "    }\n",
              "\n",
              "    .dataframe thead th {\n",
              "        text-align: right;\n",
              "    }\n",
              "</style>\n",
              "<table border=\"1\" class=\"dataframe\">\n",
              "  <thead>\n",
              "    <tr style=\"text-align: right;\">\n",
              "      <th></th>\n",
              "      <th>Month</th>\n",
              "      <th>Average House Price</th>\n",
              "      <th>dhp</th>\n",
              "    </tr>\n",
              "  </thead>\n",
              "  <tbody>\n",
              "    <tr>\n",
              "      <th>1</th>\n",
              "      <td>1991-02-01</td>\n",
              "      <td>53496.798746</td>\n",
              "      <td>0.838950</td>\n",
              "    </tr>\n",
              "    <tr>\n",
              "      <th>2</th>\n",
              "      <td>1991-03-01</td>\n",
              "      <td>52892.861606</td>\n",
              "      <td>-1.128922</td>\n",
              "    </tr>\n",
              "    <tr>\n",
              "      <th>3</th>\n",
              "      <td>1991-04-01</td>\n",
              "      <td>53677.435270</td>\n",
              "      <td>1.483326</td>\n",
              "    </tr>\n",
              "    <tr>\n",
              "      <th>4</th>\n",
              "      <td>1991-05-01</td>\n",
              "      <td>54385.726747</td>\n",
              "      <td>1.319533</td>\n",
              "    </tr>\n",
              "    <tr>\n",
              "      <th>5</th>\n",
              "      <td>1991-06-01</td>\n",
              "      <td>55107.375085</td>\n",
              "      <td>1.326908</td>\n",
              "    </tr>\n",
              "  </tbody>\n",
              "</table>\n",
              "</div>"
            ],
            "text/plain": [
              "       Month  Average House Price       dhp\n",
              "1 1991-02-01         53496.798746  0.838950\n",
              "2 1991-03-01         52892.861606 -1.128922\n",
              "3 1991-04-01         53677.435270  1.483326\n",
              "4 1991-05-01         54385.726747  1.319533\n",
              "5 1991-06-01         55107.375085  1.326908"
            ]
          },
          "metadata": {
            "tags": []
          },
          "execution_count": 7
        }
      ]
    },
    {
      "cell_type": "code",
      "metadata": {
        "id": "WFvUQO0dYuOf",
        "outputId": "7fe5921e-cf74-4e49-a67c-18480a498077",
        "colab": {
          "base_uri": "https://localhost:8080/"
        }
      },
      "source": [
        "acf,q,pval = smt.acf(data['dhp'],nlags=12,qstat=True)\n",
        "pacf = smt.pacf(data['dhp'],nlags=12)"
      ],
      "execution_count": null,
      "outputs": [
        {
          "output_type": "stream",
          "text": [
            "/usr/local/lib/python3.6/dist-packages/statsmodels/tsa/stattools.py:541: FutureWarning: fft=True will become the default in a future version of statsmodels. To suppress this warning, explicitly set fft=False.\n",
            "  warnings.warn(msg, FutureWarning)\n"
          ],
          "name": "stderr"
        }
      ]
    },
    {
      "cell_type": "code",
      "metadata": {
        "id": "qkXfCctwZVXQ",
        "outputId": "bb65fef1-46f1-47ad-fa0f-4cd368a944dd",
        "colab": {
          "base_uri": "https://localhost:8080/",
          "height": 409
        }
      },
      "source": [
        "correlogram = pd.DataFrame({'acf':acf[1:],\n",
        "'pacf':pacf[1:],\n",
        "'Q':q,\n",
        "'p-val':pval})\n",
        "correlogram"
      ],
      "execution_count": null,
      "outputs": [
        {
          "output_type": "execute_result",
          "data": {
            "text/html": [
              "<div>\n",
              "<style scoped>\n",
              "    .dataframe tbody tr th:only-of-type {\n",
              "        vertical-align: middle;\n",
              "    }\n",
              "\n",
              "    .dataframe tbody tr th {\n",
              "        vertical-align: top;\n",
              "    }\n",
              "\n",
              "    .dataframe thead th {\n",
              "        text-align: right;\n",
              "    }\n",
              "</style>\n",
              "<table border=\"1\" class=\"dataframe\">\n",
              "  <thead>\n",
              "    <tr style=\"text-align: right;\">\n",
              "      <th></th>\n",
              "      <th>acf</th>\n",
              "      <th>pacf</th>\n",
              "      <th>Q</th>\n",
              "      <th>p-val</th>\n",
              "    </tr>\n",
              "  </thead>\n",
              "  <tbody>\n",
              "    <tr>\n",
              "      <th>0</th>\n",
              "      <td>0.357530</td>\n",
              "      <td>0.358630</td>\n",
              "      <td>42.056495</td>\n",
              "      <td>8.867420e-11</td>\n",
              "    </tr>\n",
              "    <tr>\n",
              "      <th>1</th>\n",
              "      <td>0.418110</td>\n",
              "      <td>0.335185</td>\n",
              "      <td>99.749962</td>\n",
              "      <td>2.185601e-22</td>\n",
              "    </tr>\n",
              "    <tr>\n",
              "      <th>2</th>\n",
              "      <td>0.231136</td>\n",
              "      <td>0.016514</td>\n",
              "      <td>117.435756</td>\n",
              "      <td>2.751958e-25</td>\n",
              "    </tr>\n",
              "    <tr>\n",
              "      <th>3</th>\n",
              "      <td>0.182406</td>\n",
              "      <td>-0.019309</td>\n",
              "      <td>128.484575</td>\n",
              "      <td>8.212175e-27</td>\n",
              "    </tr>\n",
              "    <tr>\n",
              "      <th>4</th>\n",
              "      <td>0.126357</td>\n",
              "      <td>0.005922</td>\n",
              "      <td>133.803012</td>\n",
              "      <td>3.709054e-27</td>\n",
              "    </tr>\n",
              "    <tr>\n",
              "      <th>5</th>\n",
              "      <td>0.130596</td>\n",
              "      <td>0.055526</td>\n",
              "      <td>139.502089</td>\n",
              "      <td>1.276524e-27</td>\n",
              "    </tr>\n",
              "    <tr>\n",
              "      <th>6</th>\n",
              "      <td>0.060789</td>\n",
              "      <td>-0.030376</td>\n",
              "      <td>140.740725</td>\n",
              "      <td>3.555650e-27</td>\n",
              "    </tr>\n",
              "    <tr>\n",
              "      <th>7</th>\n",
              "      <td>0.096431</td>\n",
              "      <td>0.036471</td>\n",
              "      <td>143.867517</td>\n",
              "      <td>3.719180e-27</td>\n",
              "    </tr>\n",
              "    <tr>\n",
              "      <th>8</th>\n",
              "      <td>0.160491</td>\n",
              "      <td>0.148973</td>\n",
              "      <td>152.555817</td>\n",
              "      <td>2.604935e-28</td>\n",
              "    </tr>\n",
              "    <tr>\n",
              "      <th>9</th>\n",
              "      <td>0.136606</td>\n",
              "      <td>0.040527</td>\n",
              "      <td>158.870433</td>\n",
              "      <td>5.542515e-29</td>\n",
              "    </tr>\n",
              "    <tr>\n",
              "      <th>10</th>\n",
              "      <td>0.254530</td>\n",
              "      <td>0.153693</td>\n",
              "      <td>180.862084</td>\n",
              "      <td>6.804227e-33</td>\n",
              "    </tr>\n",
              "    <tr>\n",
              "      <th>11</th>\n",
              "      <td>0.299351</td>\n",
              "      <td>0.187351</td>\n",
              "      <td>211.377841</td>\n",
              "      <td>1.451072e-38</td>\n",
              "    </tr>\n",
              "  </tbody>\n",
              "</table>\n",
              "</div>"
            ],
            "text/plain": [
              "         acf      pacf           Q         p-val\n",
              "0   0.357530  0.358630   42.056495  8.867420e-11\n",
              "1   0.418110  0.335185   99.749962  2.185601e-22\n",
              "2   0.231136  0.016514  117.435756  2.751958e-25\n",
              "3   0.182406 -0.019309  128.484575  8.212175e-27\n",
              "4   0.126357  0.005922  133.803012  3.709054e-27\n",
              "5   0.130596  0.055526  139.502089  1.276524e-27\n",
              "6   0.060789 -0.030376  140.740725  3.555650e-27\n",
              "7   0.096431  0.036471  143.867517  3.719180e-27\n",
              "8   0.160491  0.148973  152.555817  2.604935e-28\n",
              "9   0.136606  0.040527  158.870433  5.542515e-29\n",
              "10  0.254530  0.153693  180.862084  6.804227e-33\n",
              "11  0.299351  0.187351  211.377841  1.451072e-38"
            ]
          },
          "metadata": {
            "tags": []
          },
          "execution_count": 9
        }
      ]
    },
    {
      "cell_type": "code",
      "metadata": {
        "id": "4qPxqMCmZZKJ",
        "outputId": "dbbbe836-0cc3-4663-fff8-c07291d9cd37",
        "colab": {
          "base_uri": "https://localhost:8080/"
        }
      },
      "source": [
        "res = smt.ARIMA(data['dhp'], order=(1,0,1)).fit()\n",
        "print(res.summary())"
      ],
      "execution_count": null,
      "outputs": [
        {
          "output_type": "stream",
          "text": [
            "                              ARMA Model Results                              \n",
            "==============================================================================\n",
            "Dep. Variable:                    dhp   No. Observations:                  326\n",
            "Model:                     ARMA(1, 1)   Log Likelihood                -462.710\n",
            "Method:                       css-mle   S.D. of innovations              1.000\n",
            "Date:                Thu, 05 Nov 2020   AIC                            933.420\n",
            "Time:                        12:43:06   BIC                            948.567\n",
            "Sample:                             0   HQIC                           939.465\n",
            "                                                                              \n",
            "==============================================================================\n",
            "                 coef    std err          z      P>|z|      [0.025      0.975]\n",
            "------------------------------------------------------------------------------\n",
            "const          0.4286      0.141      3.031      0.003       0.151       0.706\n",
            "ar.L1.dhp      0.8224      0.060     13.781      0.000       0.705       0.939\n",
            "ma.L1.dhp     -0.5417      0.088     -6.179      0.000      -0.714      -0.370\n",
            "                                    Roots                                    \n",
            "=============================================================================\n",
            "                  Real          Imaginary           Modulus         Frequency\n",
            "-----------------------------------------------------------------------------\n",
            "AR.1            1.2160           +0.0000j            1.2160            0.0000\n",
            "MA.1            1.8460           +0.0000j            1.8460            0.0000\n",
            "-----------------------------------------------------------------------------\n"
          ],
          "name": "stdout"
        },
        {
          "output_type": "stream",
          "text": [
            "/usr/local/lib/python3.6/dist-packages/statsmodels/tsa/base/tsa_model.py:215: ValueWarning: An unsupported index was provided and will be ignored when e.g. forecasting.\n",
            "  ' ignored when e.g. forecasting.', ValueWarning)\n"
          ],
          "name": "stderr"
        }
      ]
    },
    {
      "cell_type": "code",
      "metadata": {
        "id": "sj2hiQEacALf",
        "outputId": "4d5423a5-7ddd-4a70-80b0-a2187fade6e5",
        "colab": {
          "base_uri": "https://localhost:8080/"
        }
      },
      "source": [
        "print(res.aic)\n",
        "print(res.bic)"
      ],
      "execution_count": null,
      "outputs": [
        {
          "output_type": "stream",
          "text": [
            "933.4199014912797\n",
            "948.5674910167465\n"
          ],
          "name": "stdout"
        }
      ]
    },
    {
      "cell_type": "code",
      "metadata": {
        "id": "zVR6HAUwcCQA",
        "outputId": "0b818708-fb96-4016-e24c-f58e410dc180",
        "colab": {
          "base_uri": "https://localhost:8080/"
        }
      },
      "source": [
        "smt.ArmaProcess.from_estimation(res).isstationary"
      ],
      "execution_count": null,
      "outputs": [
        {
          "output_type": "execute_result",
          "data": {
            "text/plain": [
              "True"
            ]
          },
          "metadata": {
            "tags": []
          },
          "execution_count": 12
        }
      ]
    },
    {
      "cell_type": "code",
      "metadata": {
        "id": "vtiWy9GucUbI",
        "outputId": "ffb24bb1-2646-4cff-abcc-93f19e0bb347",
        "colab": {
          "base_uri": "https://localhost:8080/"
        }
      },
      "source": [
        "res1 = smt.arma_order_select_ic(data['dhp'],\\\n",
        "max_ar=5, max_ma=5, ic=['aic', 'bic'],\\\n",
        "fit_kw={'method':'css-mle',\n",
        "'solver':'bfgs'})"
      ],
      "execution_count": null,
      "outputs": [
        {
          "output_type": "stream",
          "text": [
            "/usr/local/lib/python3.6/dist-packages/statsmodels/base/model.py:492: HessianInversionWarning: Inverting hessian failed, no bse or cov_params available\n",
            "  'available', HessianInversionWarning)\n",
            "/usr/local/lib/python3.6/dist-packages/statsmodels/base/model.py:492: HessianInversionWarning: Inverting hessian failed, no bse or cov_params available\n",
            "  'available', HessianInversionWarning)\n",
            "/usr/local/lib/python3.6/dist-packages/statsmodels/base/model.py:492: HessianInversionWarning: Inverting hessian failed, no bse or cov_params available\n",
            "  'available', HessianInversionWarning)\n",
            "/usr/local/lib/python3.6/dist-packages/statsmodels/base/model.py:492: HessianInversionWarning: Inverting hessian failed, no bse or cov_params available\n",
            "  'available', HessianInversionWarning)\n"
          ],
          "name": "stderr"
        }
      ]
    },
    {
      "cell_type": "code",
      "metadata": {
        "id": "sL5Y1PbnceVm",
        "outputId": "dac8e4d9-7256-44fa-f69d-d827f520d63a",
        "colab": {
          "base_uri": "https://localhost:8080/"
        }
      },
      "source": [
        "print('AIC')\n",
        "print(res1.aic)\n",
        "print('SBIC')\n",
        "print(res1.bic)"
      ],
      "execution_count": null,
      "outputs": [
        {
          "output_type": "stream",
          "text": [
            "AIC\n",
            "             0           1           2           3           4           5\n",
            "0  1001.263704  977.402015  935.508251  931.454458  930.294945  929.950512\n",
            "1   958.791442  933.419902  925.648740  923.788834  924.499886  926.106244\n",
            "2   922.460039  924.408036  926.242696  926.408807  925.977423  928.000364\n",
            "3   924.401584  926.434415  928.183411  925.957411  925.429584  923.845552\n",
            "4   926.261040  928.258696  928.377708  930.371143  931.083906  930.382511\n",
            "5   928.245355  927.641964  927.246082  929.121257  917.127789  926.135325\n",
            "SBIC\n",
            "             0           1           2           3           4           5\n",
            "0  1008.837498  988.762707  950.655841  950.388945  953.016330  956.458793\n",
            "1   970.152134  948.567491  944.583227  946.510218  951.008168  956.401423\n",
            "2   937.607629  943.342523  948.964081  952.917089  956.272602  962.082440\n",
            "3   943.336070  949.155800  954.691693  956.252590  959.511661  961.714526\n",
            "4   948.982425  954.766978  958.672887  964.453219  968.952880  972.038382\n",
            "5   954.753636  957.937143  961.328159  966.990231  958.783660  971.578094\n"
          ],
          "name": "stdout"
        }
      ]
    },
    {
      "cell_type": "code",
      "metadata": {
        "id": "17rEr39ic5xn",
        "outputId": "4d52651f-5044-422b-fed3-a832ec061b9a",
        "colab": {
          "base_uri": "https://localhost:8080/"
        }
      },
      "source": [
        "print(res1.aic_min_order)\n",
        "print(res1.bic_min_order)"
      ],
      "execution_count": null,
      "outputs": [
        {
          "output_type": "stream",
          "text": [
            "(5, 4)\n",
            "(2, 0)\n"
          ],
          "name": "stdout"
        }
      ]
    },
    {
      "cell_type": "code",
      "metadata": {
        "id": "cCQaNSXoc6cr"
      },
      "source": [
        ""
      ],
      "execution_count": null,
      "outputs": []
    },
    {
      "cell_type": "markdown",
      "metadata": {
        "id": "80mSu1TJgxgy"
      },
      "source": [
        "#Forecasting using ARMA models"
      ]
    },
    {
      "cell_type": "code",
      "metadata": {
        "id": "Z14ZABo0gzam"
      },
      "source": [
        "import pickle\n",
        "import statsmodels.tsa.api as smt\n",
        "import numpy as np\n",
        "from sklearn.metrics import mean_squared_error\n",
        "from math import sqrt"
      ],
      "execution_count": null,
      "outputs": []
    },
    {
      "cell_type": "code",
      "metadata": {
        "id": "qIr468oWg3Si",
        "outputId": "0a11720f-92a9-46fc-816c-0a4e1325ab17",
        "colab": {
          "base_uri": "https://localhost:8080/",
          "height": 198
        }
      },
      "source": [
        "data_insample = data[1:299]\n",
        "data_insample.tail()"
      ],
      "execution_count": null,
      "outputs": [
        {
          "output_type": "execute_result",
          "data": {
            "text/html": [
              "<div>\n",
              "<style scoped>\n",
              "    .dataframe tbody tr th:only-of-type {\n",
              "        vertical-align: middle;\n",
              "    }\n",
              "\n",
              "    .dataframe tbody tr th {\n",
              "        vertical-align: top;\n",
              "    }\n",
              "\n",
              "    .dataframe thead th {\n",
              "        text-align: right;\n",
              "    }\n",
              "</style>\n",
              "<table border=\"1\" class=\"dataframe\">\n",
              "  <thead>\n",
              "    <tr style=\"text-align: right;\">\n",
              "      <th></th>\n",
              "      <th>Month</th>\n",
              "      <th>Average House Price</th>\n",
              "      <th>dhp</th>\n",
              "    </tr>\n",
              "  </thead>\n",
              "  <tbody>\n",
              "    <tr>\n",
              "      <th>295</th>\n",
              "      <td>2015-08-01</td>\n",
              "      <td>195279.056782</td>\n",
              "      <td>-0.174970</td>\n",
              "    </tr>\n",
              "    <tr>\n",
              "      <th>296</th>\n",
              "      <td>2015-09-01</td>\n",
              "      <td>195585.011303</td>\n",
              "      <td>0.156676</td>\n",
              "    </tr>\n",
              "    <tr>\n",
              "      <th>297</th>\n",
              "      <td>2015-10-01</td>\n",
              "      <td>196807.127979</td>\n",
              "      <td>0.624852</td>\n",
              "    </tr>\n",
              "    <tr>\n",
              "      <th>298</th>\n",
              "      <td>2015-11-01</td>\n",
              "      <td>196305.114697</td>\n",
              "      <td>-0.255079</td>\n",
              "    </tr>\n",
              "    <tr>\n",
              "      <th>299</th>\n",
              "      <td>2015-12-01</td>\n",
              "      <td>196999.272687</td>\n",
              "      <td>0.353612</td>\n",
              "    </tr>\n",
              "  </tbody>\n",
              "</table>\n",
              "</div>"
            ],
            "text/plain": [
              "         Month  Average House Price       dhp\n",
              "295 2015-08-01        195279.056782 -0.174970\n",
              "296 2015-09-01        195585.011303  0.156676\n",
              "297 2015-10-01        196807.127979  0.624852\n",
              "298 2015-11-01        196305.114697 -0.255079\n",
              "299 2015-12-01        196999.272687  0.353612"
            ]
          },
          "metadata": {
            "tags": []
          },
          "execution_count": 26
        }
      ]
    },
    {
      "cell_type": "code",
      "metadata": {
        "id": "-0rDdMCQhF2-",
        "outputId": "035aef24-04fa-49d0-af45-5017ddc6a24e",
        "colab": {
          "base_uri": "https://localhost:8080/"
        }
      },
      "source": [
        "model = smt.ARIMA(data_insample['dhp'], order=(2,0,0))\n",
        "res = model.fit()\n",
        "print(res.summary())"
      ],
      "execution_count": null,
      "outputs": [
        {
          "output_type": "stream",
          "text": [
            "                              ARMA Model Results                              \n",
            "==============================================================================\n",
            "Dep. Variable:                    dhp   No. Observations:                  298\n",
            "Model:                     ARMA(2, 0)   Log Likelihood                -426.936\n",
            "Method:                       css-mle   S.D. of innovations              1.013\n",
            "Date:                Thu, 05 Nov 2020   AIC                            861.873\n",
            "Time:                        13:13:19   BIC                            876.661\n",
            "Sample:                             0   HQIC                           867.792\n",
            "                                                                              \n",
            "==============================================================================\n",
            "                 coef    std err          z      P>|z|      [0.025      0.975]\n",
            "------------------------------------------------------------------------------\n",
            "const          0.4385      0.138      3.188      0.002       0.169       0.708\n",
            "ar.L1.dhp      0.2376      0.055      4.350      0.000       0.131       0.345\n",
            "ar.L2.dhp      0.3386      0.055      6.191      0.000       0.231       0.446\n",
            "                                    Roots                                    \n",
            "=============================================================================\n",
            "                  Real          Imaginary           Modulus         Frequency\n",
            "-----------------------------------------------------------------------------\n",
            "AR.1            1.4031           +0.0000j            1.4031            0.0000\n",
            "AR.2           -2.1049           +0.0000j            2.1049            0.5000\n",
            "-----------------------------------------------------------------------------\n"
          ],
          "name": "stdout"
        },
        {
          "output_type": "stream",
          "text": [
            "/usr/local/lib/python3.6/dist-packages/statsmodels/tsa/base/tsa_model.py:215: ValueWarning: An unsupported index was provided and will be ignored when e.g. forecasting.\n",
            "  ' ignored when e.g. forecasting.', ValueWarning)\n"
          ],
          "name": "stderr"
        }
      ]
    },
    {
      "cell_type": "code",
      "metadata": {
        "id": "UZdJIbUiik41",
        "outputId": "ec199ff7-7d36-4ca6-95b0-66b531d80dc4",
        "colab": {
          "base_uri": "https://localhost:8080/",
          "height": 637
        }
      },
      "source": [
        "model = smt.ARIMA(data['dhp'], order=(2,0,0))\n",
        "res = model.fit()\n",
        "res.plot_predict(300,326,dynamic=False)"
      ],
      "execution_count": null,
      "outputs": [
        {
          "output_type": "stream",
          "text": [
            "/usr/local/lib/python3.6/dist-packages/statsmodels/tsa/base/tsa_model.py:215: ValueWarning: An unsupported index was provided and will be ignored when e.g. forecasting.\n",
            "  ' ignored when e.g. forecasting.', ValueWarning)\n",
            "/usr/local/lib/python3.6/dist-packages/statsmodels/tsa/base/tsa_model.py:576: ValueWarning: No supported index is available. Prediction results will be given with an integer index beginning at `start`.\n",
            "  ValueWarning)\n",
            "/usr/local/lib/python3.6/dist-packages/statsmodels/tsa/base/tsa_model.py:576: ValueWarning: No supported index is available. Prediction results will be given with an integer index beginning at `start`.\n",
            "  ValueWarning)\n"
          ],
          "name": "stderr"
        },
        {
          "output_type": "execute_result",
          "data": {
            "image/png": "[encoded data removed]",
            "text/plain": [
              "<Figure size 432x288 with 1 Axes>"
            ]
          },
          "metadata": {
            "tags": []
          },
          "execution_count": 29
        },
        {
          "output_type": "display_data",
          "data": {
            "image/png": "[encoded data removed]",
            "text/plain": [
              "<Figure size 432x288 with 1 Axes>"
            ]
          },
          "metadata": {
            "tags": [],
            "needs_background": "light"
          }
        }
      ]
    },
    {
      "cell_type": "code",
      "metadata": {
        "id": "CsgT6b44i9ON",
        "outputId": "898ec928-ea4f-430c-a4e7-8f356182d340",
        "colab": {
          "base_uri": "https://localhost:8080/",
          "height": 606
        }
      },
      "source": [
        "res.plot_predict(300,326,dynamic=True)"
      ],
      "execution_count": null,
      "outputs": [
        {
          "output_type": "stream",
          "text": [
            "/usr/local/lib/python3.6/dist-packages/statsmodels/tsa/base/tsa_model.py:576: ValueWarning: No supported index is available. Prediction results will be given with an integer index beginning at `start`.\n",
            "  ValueWarning)\n",
            "/usr/local/lib/python3.6/dist-packages/statsmodels/tsa/base/tsa_model.py:576: ValueWarning: No supported index is available. Prediction results will be given with an integer index beginning at `start`.\n",
            "  ValueWarning)\n"
          ],
          "name": "stderr"
        },
        {
          "output_type": "execute_result",
          "data": {
            "image/png": "[encoded data removed]",
            "text/plain": [
              "<Figure size 432x288 with 1 Axes>"
            ]
          },
          "metadata": {
            "tags": []
          },
          "execution_count": 30
        },
        {
          "output_type": "display_data",
          "data": {
            "image/png": "[encoded data removed]",
            "text/plain": [
              "<Figure size 432x288 with 1 Axes>"
            ]
          },
          "metadata": {
            "tags": [],
            "needs_background": "light"
          }
        }
      ]
    },
    {
      "cell_type": "code",
      "metadata": {
        "id": "A4xuxCk3jd3v"
      },
      "source": [
        "def rmse(pred, target):\n",
        "  return np.sqrt(((pred - target) ** 2).mean())\n",
        "  "
      ],
      "execution_count": null,
      "outputs": []
    },
    {
      "cell_type": "code",
      "metadata": {
        "id": "oNewGoU7kHGS",
        "outputId": "d6fbdc12-a4f1-4d68-f392-f096e0b50716",
        "colab": {
          "base_uri": "https://localhost:8080/",
          "height": 435
        }
      },
      "source": [
        "data_outsample = data[300:326]\n",
        "pred = res.predict(300,326, dynamic=False)\n",
        "\n",
        "stats1 = rmse(pred, data_outsample['dhp'])\n",
        "print('root mean squared error1: {}'.format(stats1) )\n",
        "\n",
        "stats2 = sqrt(mean_squared_error(data_outsample['dhp'], pred))\n",
        "print('root mean squared error2: {}'.format(stats2) )"
      ],
      "execution_count": null,
      "outputs": [
        {
          "output_type": "stream",
          "text": [
            "root mean squared error1: 0.4304839340873937\n"
          ],
          "name": "stdout"
        },
        {
          "output_type": "stream",
          "text": [
            "/usr/local/lib/python3.6/dist-packages/statsmodels/tsa/base/tsa_model.py:576: ValueWarning: No supported index is available. Prediction results will be given with an integer index beginning at `start`.\n",
            "  ValueWarning)\n"
          ],
          "name": "stderr"
        },
        {
          "output_type": "error",
          "ename": "ValueError",
          "evalue": "ignored",
          "traceback": [
            "\u001b[0;31m---------------------------------------------------------------------------\u001b[0m",
            "\u001b[0;31mValueError\u001b[0m                                Traceback (most recent call last)",
            "\u001b[0;32m<ipython-input-39-23a10c351662>\u001b[0m in \u001b[0;36m<module>\u001b[0;34m()\u001b[0m\n\u001b[1;32m      5\u001b[0m \u001b[0mprint\u001b[0m\u001b[0;34m(\u001b[0m\u001b[0;34m'root mean squared error1: {}'\u001b[0m\u001b[0;34m.\u001b[0m\u001b[0mformat\u001b[0m\u001b[0;34m(\u001b[0m\u001b[0mstats1\u001b[0m\u001b[0;34m)\u001b[0m \u001b[0;34m)\u001b[0m\u001b[0;34m\u001b[0m\u001b[0;34m\u001b[0m\u001b[0m\n\u001b[1;32m      6\u001b[0m \u001b[0;34m\u001b[0m\u001b[0m\n\u001b[0;32m----> 7\u001b[0;31m \u001b[0mstats2\u001b[0m \u001b[0;34m=\u001b[0m \u001b[0msqrt\u001b[0m\u001b[0;34m(\u001b[0m\u001b[0mmean_squared_error\u001b[0m\u001b[0;34m(\u001b[0m\u001b[0mdata_outsample\u001b[0m\u001b[0;34m[\u001b[0m\u001b[0;34m'dhp'\u001b[0m\u001b[0;34m]\u001b[0m\u001b[0;34m,\u001b[0m \u001b[0mpred\u001b[0m\u001b[0;34m)\u001b[0m\u001b[0;34m)\u001b[0m\u001b[0;34m\u001b[0m\u001b[0;34m\u001b[0m\u001b[0m\n\u001b[0m\u001b[1;32m      8\u001b[0m \u001b[0mprint\u001b[0m\u001b[0;34m(\u001b[0m\u001b[0;34m'root mean squared error2: {}'\u001b[0m\u001b[0;34m.\u001b[0m\u001b[0mformat\u001b[0m\u001b[0;34m(\u001b[0m\u001b[0mstats2\u001b[0m\u001b[0;34m)\u001b[0m \u001b[0;34m)\u001b[0m\u001b[0;34m\u001b[0m\u001b[0;34m\u001b[0m\u001b[0m\n",
            "\u001b[0;32m/usr/local/lib/python3.6/dist-packages/sklearn/metrics/_regression.py\u001b[0m in \u001b[0;36mmean_squared_error\u001b[0;34m(y_true, y_pred, sample_weight, multioutput, squared)\u001b[0m\n\u001b[1;32m    250\u001b[0m     \"\"\"\n\u001b[1;32m    251\u001b[0m     y_type, y_true, y_pred, multioutput = _check_reg_targets(\n\u001b[0;32m--> 252\u001b[0;31m         y_true, y_pred, multioutput)\n\u001b[0m\u001b[1;32m    253\u001b[0m     \u001b[0mcheck_consistent_length\u001b[0m\u001b[0;34m(\u001b[0m\u001b[0my_true\u001b[0m\u001b[0;34m,\u001b[0m \u001b[0my_pred\u001b[0m\u001b[0;34m,\u001b[0m \u001b[0msample_weight\u001b[0m\u001b[0;34m)\u001b[0m\u001b[0;34m\u001b[0m\u001b[0;34m\u001b[0m\u001b[0m\n\u001b[1;32m    254\u001b[0m     output_errors = np.average((y_true - y_pred) ** 2, axis=0,\n",
            "\u001b[0;32m/usr/local/lib/python3.6/dist-packages/sklearn/metrics/_regression.py\u001b[0m in \u001b[0;36m_check_reg_targets\u001b[0;34m(y_true, y_pred, multioutput, dtype)\u001b[0m\n\u001b[1;32m     82\u001b[0m \u001b[0;34m\u001b[0m\u001b[0m\n\u001b[1;32m     83\u001b[0m     \"\"\"\n\u001b[0;32m---> 84\u001b[0;31m     \u001b[0mcheck_consistent_length\u001b[0m\u001b[0;34m(\u001b[0m\u001b[0my_true\u001b[0m\u001b[0;34m,\u001b[0m \u001b[0my_pred\u001b[0m\u001b[0;34m)\u001b[0m\u001b[0;34m\u001b[0m\u001b[0;34m\u001b[0m\u001b[0m\n\u001b[0m\u001b[1;32m     85\u001b[0m     \u001b[0my_true\u001b[0m \u001b[0;34m=\u001b[0m \u001b[0mcheck_array\u001b[0m\u001b[0;34m(\u001b[0m\u001b[0my_true\u001b[0m\u001b[0;34m,\u001b[0m \u001b[0mensure_2d\u001b[0m\u001b[0;34m=\u001b[0m\u001b[0;32mFalse\u001b[0m\u001b[0;34m,\u001b[0m \u001b[0mdtype\u001b[0m\u001b[0;34m=\u001b[0m\u001b[0mdtype\u001b[0m\u001b[0;34m)\u001b[0m\u001b[0;34m\u001b[0m\u001b[0;34m\u001b[0m\u001b[0m\n\u001b[1;32m     86\u001b[0m     \u001b[0my_pred\u001b[0m \u001b[0;34m=\u001b[0m \u001b[0mcheck_array\u001b[0m\u001b[0;34m(\u001b[0m\u001b[0my_pred\u001b[0m\u001b[0;34m,\u001b[0m \u001b[0mensure_2d\u001b[0m\u001b[0;34m=\u001b[0m\u001b[0;32mFalse\u001b[0m\u001b[0;34m,\u001b[0m \u001b[0mdtype\u001b[0m\u001b[0;34m=\u001b[0m\u001b[0mdtype\u001b[0m\u001b[0;34m)\u001b[0m\u001b[0;34m\u001b[0m\u001b[0;34m\u001b[0m\u001b[0m\n",
            "\u001b[0;32m/usr/local/lib/python3.6/dist-packages/sklearn/utils/validation.py\u001b[0m in \u001b[0;36mcheck_consistent_length\u001b[0;34m(*arrays)\u001b[0m\n\u001b[1;32m    210\u001b[0m     \u001b[0;32mif\u001b[0m \u001b[0mlen\u001b[0m\u001b[0;34m(\u001b[0m\u001b[0muniques\u001b[0m\u001b[0;34m)\u001b[0m \u001b[0;34m>\u001b[0m \u001b[0;36m1\u001b[0m\u001b[0;34m:\u001b[0m\u001b[0;34m\u001b[0m\u001b[0;34m\u001b[0m\u001b[0m\n\u001b[1;32m    211\u001b[0m         raise ValueError(\"Found input variables with inconsistent numbers of\"\n\u001b[0;32m--> 212\u001b[0;31m                          \" samples: %r\" % [int(l) for l in lengths])\n\u001b[0m\u001b[1;32m    213\u001b[0m \u001b[0;34m\u001b[0m\u001b[0m\n\u001b[1;32m    214\u001b[0m \u001b[0;34m\u001b[0m\u001b[0m\n",
            "\u001b[0;31mValueError\u001b[0m: Found input variables with inconsistent numbers of samples: [26, 27]"
          ]
        }
      ]
    },
    {
      "cell_type": "code",
      "metadata": {
        "id": "RwAzbX_MkrhQ"
      },
      "source": [
        ""
      ],
      "execution_count": null,
      "outputs": []
    }
  ]
}