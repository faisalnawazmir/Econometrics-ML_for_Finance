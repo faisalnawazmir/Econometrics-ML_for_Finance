{
  "nbformat": 4,
  "nbformat_minor": 0,
  "metadata": {
    "colab": {
      "name": "Copy of Fama MacBeth class.ipynb",
      "provenance": [],
      "collapsed_sections": [],
      "include_colab_link": true
    },
    "kernelspec": {
      "name": "python3",
      "display_name": "Python 3"
    }
  },
  "cells": [
    {
      "cell_type": "markdown",
      "metadata": {
        "id": "view-in-github",
        "colab_type": "text"
      },
      "source": [
        "<a href=\"https://colab.research.google.com/github/faisalnawazmir/Econometrics-ML_for_Finance/blob/main/Copy_of_Fama_MacBeth_class.ipynb\" target=\"_parent\"><img src=\"https://colab.research.google.com/assets/colab-badge.svg\" alt=\"Open In Colab\"/></a>"
      ]
    },
    {
      "cell_type": "code",
      "metadata": {
        "id": "XGS1SczsW-5T",
        "colab": {
          "base_uri": "https://localhost:8080/"
        },
        "outputId": "ed70af8d-2aeb-412a-9f00-d78af4faff20"
      },
      "source": [
        "import numpy as np\n",
        "import pandas as pd\n",
        "from sklearn.linear_model import LinearRegression \n",
        "from sklearn.metrics import mean_squared_error, r2_score\n",
        "import statsmodels.api as sm \n",
        "from tabulate import tabulate\n",
        "import time\n",
        "np.random.seed(12345)"
      ],
      "execution_count": null,
      "outputs": [
        {
          "output_type": "stream",
          "text": [
            "/usr/local/lib/python3.7/dist-packages/statsmodels/tools/_testing.py:19: FutureWarning: pandas.util.testing is deprecated. Use the functions in the public API at pandas.testing instead.\n",
            "  import pandas.util.testing as tm\n"
          ],
          "name": "stderr"
        }
      ]
    },
    {
      "cell_type": "markdown",
      "metadata": {
        "id": "940i72vLXitj"
      },
      "source": [
        "$Y$: Stock return data (T x N matrix)\n",
        "By CAPM,\n",
        "\n",
        "$$r_{i,t} = r_f + \\beta_i \\cdot mkt_t + \\epsilon_{i,t}.$$\n",
        "\n",
        "$$Y = r_f + \\vec{\\beta}^T \\vec{mkt} + \\Omega.$$\n"
      ]
    },
    {
      "cell_type": "code",
      "metadata": {
        "colab": {
          "base_uri": "https://localhost:8080/"
        },
        "id": "jQ_SFMhyWWhr",
        "outputId": "00eae544-eec8-483a-adef-1cd1405482dd"
      },
      "source": [
        "rf = 0.01 # risk free rate\n",
        "N = 2000  # of firms in an economy\n",
        "T = 2520  # length of periods \n",
        "dt = 1/252. # length of a time unit (annualized)\n",
        "s = 0.5*dt**.05 # average idiosyncratic risks \n",
        "\n",
        "# to specify the risk of a firm\n",
        "beta_true = np.random.random((N,1)) # true betas of N firms\n",
        "mkt = 0.06*dt + np.random.standard_normal((T,1)) # market factor\n",
        "# to simulate stock return data upon capital asset pricing model (CAPM)\n",
        "data = rf*dt + np.transpose(beta_true) * mkt + s*np.random.standard_normal((T,N))\n",
        "data.shape"
      ],
      "execution_count": null,
      "outputs": [
        {
          "output_type": "execute_result",
          "data": {
            "text/plain": [
              "(2520, 2000)"
            ]
          },
          "metadata": {
            "tags": []
          },
          "execution_count": 3
        }
      ]
    },
    {
      "cell_type": "code",
      "metadata": {
        "colab": {
          "base_uri": "https://localhost:8080/"
        },
        "id": "JeWqeS0Thp_o",
        "outputId": "4a08e5ad-07bd-4309-cd4b-30e757837f3e"
      },
      "source": [
        "(np.transpose(beta_true) * mkt).shape"
      ],
      "execution_count": null,
      "outputs": [
        {
          "output_type": "execute_result",
          "data": {
            "text/plain": [
              "(2520, 2000)"
            ]
          },
          "metadata": {
            "tags": []
          },
          "execution_count": 4
        }
      ]
    },
    {
      "cell_type": "markdown",
      "metadata": {
        "id": "RSNYhM__YsNJ"
      },
      "source": [
        "We regard data given and estimate the model with Fama-MacBeth regression."
      ]
    },
    {
      "cell_type": "code",
      "metadata": {
        "colab": {
          "base_uri": "https://localhost:8080/"
        },
        "id": "buI7-QzgOJZd",
        "outputId": "c281ec85-3f17-46db-b314-c59d5c8e8968"
      },
      "source": [
        "len(y)"
      ],
      "execution_count": null,
      "outputs": [
        {
          "output_type": "execute_result",
          "data": {
            "text/plain": [
              "2520"
            ]
          },
          "metadata": {
            "tags": []
          },
          "execution_count": 27
        }
      ]
    },
    {
      "cell_type": "markdown",
      "metadata": {
        "id": "f5smrZYPOgoN"
      },
      "source": [
        "y should be returns and mkt should be market returns, I assume"
      ]
    },
    {
      "cell_type": "code",
      "metadata": {
        "colab": {
          "base_uri": "https://localhost:8080/"
        },
        "id": "c9ahxA9LYxWR",
        "outputId": "672ac3e6-399e-47bc-e03c-6bbb25ea6305"
      },
      "source": [
        "# Test\n",
        "y = data[:,12] # pick a firm's time series data\n",
        "model = LinearRegression()\n",
        "model.fit(mkt,y)\n",
        "print('Intercept:', model.intercept_)\n",
        "print('Estimated Coefficient:', model.coef_[0])\n",
        "print('True Coefficient:', beta_true[12][0])\n",
        "print('Coefficient of determination (R-squared) %.2f' \n",
        "      % r2_score(y, model.predict(mkt)), '\\n')\n",
        "\n",
        "\n",
        "# Alternatively\n",
        "x = sm.add_constant(mkt)\n",
        "model = sm.OLS(y,x).fit()\n",
        "print(model.summary())\n",
        "\n",
        "# Linear algebra \n",
        "x = np.c_[np.ones(T),mkt]\n",
        "M = np.linalg.inv(x.T @ x) @ x.T \n",
        "print(M @ y)"
      ],
      "execution_count": null,
      "outputs": [
        {
          "output_type": "stream",
          "text": [
            "Intercept: 0.0034267901570485433\n",
            "Estimated Coefficient: 0.5952905170613728\n",
            "True Coefficient: 0.6036431486612096\n",
            "Coefficient of determination (R-squared) 0.73 \n",
            "\n",
            "                            OLS Regression Results                            \n",
            "==============================================================================\n",
            "Dep. Variable:                      y   R-squared:                       0.729\n",
            "Model:                            OLS   Adj. R-squared:                  0.729\n",
            "Method:                 Least Squares   F-statistic:                     6761.\n",
            "Date:                Thu, 08 Apr 2021   Prob (F-statistic):               0.00\n",
            "Time:                        05:07:37   Log-Likelihood:                -1062.6\n",
            "No. Observations:                2520   AIC:                             2129.\n",
            "Df Residuals:                    2518   BIC:                             2141.\n",
            "Df Model:                           1                                         \n",
            "Covariance Type:            nonrobust                                         \n",
            "==============================================================================\n",
            "                 coef    std err          t      P>|t|      [0.025      0.975]\n",
            "------------------------------------------------------------------------------\n",
            "const          0.0034      0.007      0.466      0.641      -0.011       0.018\n",
            "x1             0.5953      0.007     82.227      0.000       0.581       0.609\n",
            "==============================================================================\n",
            "Omnibus:                        1.398   Durbin-Watson:                   1.958\n",
            "Prob(Omnibus):                  0.497   Jarque-Bera (JB):                1.433\n",
            "Skew:                           0.034   Prob(JB):                        0.489\n",
            "Kurtosis:                       2.905   Cond. No.                         1.02\n",
            "==============================================================================\n",
            "\n",
            "Warnings:\n",
            "[1] Standard Errors assume that the covariance matrix of the errors is correctly specified.\n",
            "[0.00342679 0.59529052]\n"
          ],
          "name": "stdout"
        }
      ]
    },
    {
      "cell_type": "markdown",
      "metadata": {
        "id": "nvTnNgffbFTR"
      },
      "source": [
        "To explain the linear algebra in our model \n",
        "\n",
        "$$ X \\equiv \\begin{bmatrix} 1,x_1 \\\\1, x_2 \\\\ ... \\\\1, x_T \\end{bmatrix}$$\n",
        "$$ \\hat{\\beta} = (X'X)^{-1}X'y \\equiv My$$\n",
        "\n",
        "To estimate all betas simultaneously, we can run:\n",
        "\n",
        "$$ \\hat{B_{2xN}} = (X'X)^{-1}X' \\cdot Y_{TxN} \\equiv M \\cdot Y_{TxN}$$\n",
        "\n"
      ]
    },
    {
      "cell_type": "code",
      "metadata": {
        "colab": {
          "base_uri": "https://localhost:8080/"
        },
        "id": "PF6XAE7JcU5T",
        "outputId": "8916437e-3db0-454c-f387-354aa2a6f225"
      },
      "source": [
        "# time series regression for all N firms (FM step 1)\n",
        "# regress time series stock return data of each firm one-by-one to multifactors\n",
        "# here we have only one factor for simplicity \n",
        "\n",
        "b = np.array([]) # save market betas here \n",
        "for i in range(N): # time series regression for N firms one-by-one to esimate their betas\n",
        "  model = LinearRegression()\n",
        "  model.fit(mkt,data[:,i])\n",
        "  b = np.r_[b, model.coef_]\n",
        "\n",
        "# To check estimated b with linear algebra \n",
        "bhat = (M @ data).T[:,1]\n",
        "bhat.shape"
      ],
      "execution_count": null,
      "outputs": [
        {
          "output_type": "execute_result",
          "data": {
            "text/plain": [
              "(2000,)"
            ]
          },
          "metadata": {
            "tags": []
          },
          "execution_count": 6
        }
      ]
    },
    {
      "cell_type": "code",
      "metadata": {
        "id": "1mbvxM_EdTLa"
      },
      "source": [
        "print(tabulate(list(zip(beta_true,b,bhat))))# it is very large output so I clear output"
      ],
      "execution_count": null,
      "outputs": []
    },
    {
      "cell_type": "code",
      "metadata": {
        "colab": {
          "base_uri": "https://localhost:8080/"
        },
        "id": "bWHl4wj5esmi",
        "outputId": "127ef94a-4d59-4bca-b382-81591554c7ab"
      },
      "source": [
        "# cross-sectional regression for all T times (FM step 2)\n",
        "# regres cross section of stock return on each firm's beta (time-by-time)\n",
        "b = np.reshape(b,(N,1))\n",
        "f = np.array([]) # store estiamted mkt factor returns here\n",
        "for i in range(T): # FM step 2: time-by-time cross sectional regression\n",
        "  model = LinearRegression()\n",
        "  model.fit(b,data[i,:]) # cross section regression part!\n",
        "  f = np.r_[f,model.coef_]\n",
        "\n",
        "df = pd.DataFrame(f)\n",
        "print(df.describe())\n",
        "print('average factor return:', df.mean())\n",
        "print('standard error of factor return (without Shanken correction):', df.std()/T**.5)\n",
        "\n"
      ],
      "execution_count": null,
      "outputs": [
        {
          "output_type": "stream",
          "text": [
            "                 0\n",
            "count  2520.000000\n",
            "mean      0.014260\n",
            "std       1.016108\n",
            "min      -3.331924\n",
            "25%      -0.658718\n",
            "50%      -0.000033\n",
            "75%       0.685279\n",
            "max       3.580075\n",
            "average factor return: 0    0.01426\n",
            "dtype: float64\n",
            "standard error of factor return (without Shanken correction): 0    0.020241\n",
            "dtype: float64\n"
          ],
          "name": "stdout"
        }
      ]
    },
    {
      "cell_type": "markdown",
      "metadata": {
        "id": "0-NQyg8uMPsr"
      },
      "source": [
        "#Real example"
      ]
    },
    {
      "cell_type": "code",
      "metadata": {
        "id": "3bxnSfTYMVfW"
      },
      "source": [
        "import numpy as np\n",
        "import pandas as pd\n",
        "from sklearn.linear_model import LinearRegression \n",
        "from sklearn.metrics import mean_squared_error, r2_score\n",
        "import statsmodels.api as sm \n",
        "from tabulate import tabulate\n",
        "import time\n",
        "np.random.seed(12345)"
      ],
      "execution_count": null,
      "outputs": []
    },
    {
      "cell_type": "code",
      "metadata": {
        "colab": {
          "base_uri": "https://localhost:8080/",
          "height": 262
        },
        "id": "TG-06u7FO5en",
        "outputId": "1b1d33e4-d725-48ea-b865-6622c8b8928b"
      },
      "source": [
        "#copying data from excel file 25 portfoli\n",
        "from google.colab import drive\n",
        "drive.mount('/gdrive')\n",
        "%cd /gdrive\n",
        "file = r'/gdrive/My Drive/data/ff_data_python.csv'\n",
        "df = pd.read_csv(file)\n",
        "df.head()"
      ],
      "execution_count": null,
      "outputs": [
        {
          "output_type": "stream",
          "text": [
            "Drive already mounted at /gdrive; to attempt to forcibly remount, call drive.mount(\"/gdrive\", force_remount=True).\n",
            "/gdrive\n"
          ],
          "name": "stdout"
        },
        {
          "output_type": "execute_result",
          "data": {
            "text/html": [
              "<div>\n",
              "<style scoped>\n",
              "    .dataframe tbody tr th:only-of-type {\n",
              "        vertical-align: middle;\n",
              "    }\n",
              "\n",
              "    .dataframe tbody tr th {\n",
              "        vertical-align: top;\n",
              "    }\n",
              "\n",
              "    .dataframe thead th {\n",
              "        text-align: right;\n",
              "    }\n",
              "</style>\n",
              "<table border=\"1\" class=\"dataframe\">\n",
              "  <thead>\n",
              "    <tr style=\"text-align: right;\">\n",
              "      <th></th>\n",
              "      <th>date</th>\n",
              "      <th>Pr11</th>\n",
              "      <th>Pr12</th>\n",
              "      <th>Pr13</th>\n",
              "      <th>Pr14</th>\n",
              "      <th>Pr15</th>\n",
              "      <th>Pr21</th>\n",
              "      <th>Pr22</th>\n",
              "      <th>Pr23</th>\n",
              "      <th>Pr24</th>\n",
              "      <th>Pr25</th>\n",
              "      <th>Pr31</th>\n",
              "      <th>Pr32</th>\n",
              "      <th>Pr33</th>\n",
              "      <th>Pr34</th>\n",
              "      <th>Pr35</th>\n",
              "      <th>Pr41</th>\n",
              "      <th>Pr42</th>\n",
              "      <th>Pr43</th>\n",
              "      <th>Pr44</th>\n",
              "      <th>Pr45</th>\n",
              "      <th>Pr51</th>\n",
              "      <th>Pr52</th>\n",
              "      <th>Pr53</th>\n",
              "      <th>Pr54</th>\n",
              "      <th>Pr55</th>\n",
              "      <th>Mkt_rf</th>\n",
              "      <th>SMB</th>\n",
              "      <th>HML</th>\n",
              "      <th>rf</th>\n",
              "    </tr>\n",
              "  </thead>\n",
              "  <tbody>\n",
              "    <tr>\n",
              "      <th>0</th>\n",
              "      <td>192607</td>\n",
              "      <td>3.7782</td>\n",
              "      <td>-0.4119</td>\n",
              "      <td>-1.9434</td>\n",
              "      <td>0.3530</td>\n",
              "      <td>2.0534</td>\n",
              "      <td>2.1904</td>\n",
              "      <td>2.4192</td>\n",
              "      <td>0.4926</td>\n",
              "      <td>-1.5770</td>\n",
              "      <td>-0.3344</td>\n",
              "      <td>1.9116</td>\n",
              "      <td>2.4336</td>\n",
              "      <td>0.0053</td>\n",
              "      <td>3.4572</td>\n",
              "      <td>-1.2629</td>\n",
              "      <td>1.5893</td>\n",
              "      <td>1.5278</td>\n",
              "      <td>1.1869</td>\n",
              "      <td>0.2727</td>\n",
              "      <td>2.4678</td>\n",
              "      <td>3.4539</td>\n",
              "      <td>6.0902</td>\n",
              "      <td>2.0266</td>\n",
              "      <td>3.1111</td>\n",
              "      <td>0.5623</td>\n",
              "      <td>2.96</td>\n",
              "      <td>-2.30</td>\n",
              "      <td>-2.87</td>\n",
              "      <td>0.22</td>\n",
              "    </tr>\n",
              "    <tr>\n",
              "      <th>1</th>\n",
              "      <td>192608</td>\n",
              "      <td>-2.2074</td>\n",
              "      <td>-8.7275</td>\n",
              "      <td>2.4404</td>\n",
              "      <td>0.6086</td>\n",
              "      <td>8.3968</td>\n",
              "      <td>2.1709</td>\n",
              "      <td>-1.1849</td>\n",
              "      <td>4.0084</td>\n",
              "      <td>0.4643</td>\n",
              "      <td>6.1675</td>\n",
              "      <td>-0.9390</td>\n",
              "      <td>2.3886</td>\n",
              "      <td>1.9681</td>\n",
              "      <td>4.4450</td>\n",
              "      <td>8.1169</td>\n",
              "      <td>1.3336</td>\n",
              "      <td>3.8730</td>\n",
              "      <td>2.0059</td>\n",
              "      <td>2.1706</td>\n",
              "      <td>5.3422</td>\n",
              "      <td>1.0124</td>\n",
              "      <td>4.1903</td>\n",
              "      <td>2.0131</td>\n",
              "      <td>5.4849</td>\n",
              "      <td>7.7576</td>\n",
              "      <td>2.64</td>\n",
              "      <td>-1.40</td>\n",
              "      <td>4.19</td>\n",
              "      <td>0.25</td>\n",
              "    </tr>\n",
              "    <tr>\n",
              "      <th>2</th>\n",
              "      <td>192609</td>\n",
              "      <td>-6.2113</td>\n",
              "      <td>-0.2989</td>\n",
              "      <td>-6.1982</td>\n",
              "      <td>-1.6368</td>\n",
              "      <td>0.8649</td>\n",
              "      <td>-1.8550</td>\n",
              "      <td>-1.2618</td>\n",
              "      <td>1.0829</td>\n",
              "      <td>-3.0405</td>\n",
              "      <td>-0.9401</td>\n",
              "      <td>-0.3898</td>\n",
              "      <td>0.1690</td>\n",
              "      <td>-2.1368</td>\n",
              "      <td>2.6865</td>\n",
              "      <td>-3.6215</td>\n",
              "      <td>1.0923</td>\n",
              "      <td>-0.5250</td>\n",
              "      <td>-1.7314</td>\n",
              "      <td>1.4646</td>\n",
              "      <td>0.8730</td>\n",
              "      <td>-1.2906</td>\n",
              "      <td>3.6538</td>\n",
              "      <td>0.0950</td>\n",
              "      <td>-0.7487</td>\n",
              "      <td>-2.4284</td>\n",
              "      <td>0.36</td>\n",
              "      <td>-1.32</td>\n",
              "      <td>0.01</td>\n",
              "      <td>0.23</td>\n",
              "    </tr>\n",
              "    <tr>\n",
              "      <th>3</th>\n",
              "      <td>192610</td>\n",
              "      <td>-8.6241</td>\n",
              "      <td>-3.7532</td>\n",
              "      <td>-5.6719</td>\n",
              "      <td>5.7170</td>\n",
              "      <td>-2.5476</td>\n",
              "      <td>-1.7995</td>\n",
              "      <td>-3.2663</td>\n",
              "      <td>-5.0745</td>\n",
              "      <td>-8.0450</td>\n",
              "      <td>-1.3213</td>\n",
              "      <td>-5.1161</td>\n",
              "      <td>-2.5583</td>\n",
              "      <td>0.2670</td>\n",
              "      <td>-1.9818</td>\n",
              "      <td>-3.1373</td>\n",
              "      <td>-3.3361</td>\n",
              "      <td>-2.6559</td>\n",
              "      <td>-2.0316</td>\n",
              "      <td>-3.1051</td>\n",
              "      <td>-5.3525</td>\n",
              "      <td>-2.7413</td>\n",
              "      <td>-3.0071</td>\n",
              "      <td>-2.2437</td>\n",
              "      <td>-4.6719</td>\n",
              "      <td>-5.8129</td>\n",
              "      <td>-3.24</td>\n",
              "      <td>0.04</td>\n",
              "      <td>0.51</td>\n",
              "      <td>0.32</td>\n",
              "    </tr>\n",
              "    <tr>\n",
              "      <th>4</th>\n",
              "      <td>192611</td>\n",
              "      <td>3.4744</td>\n",
              "      <td>6.6476</td>\n",
              "      <td>2.2634</td>\n",
              "      <td>-4.7020</td>\n",
              "      <td>0.5362</td>\n",
              "      <td>2.9051</td>\n",
              "      <td>-2.3690</td>\n",
              "      <td>3.0078</td>\n",
              "      <td>4.6649</td>\n",
              "      <td>2.7292</td>\n",
              "      <td>1.9107</td>\n",
              "      <td>4.5467</td>\n",
              "      <td>0.0854</td>\n",
              "      <td>5.1183</td>\n",
              "      <td>3.7333</td>\n",
              "      <td>3.4448</td>\n",
              "      <td>2.3887</td>\n",
              "      <td>3.7403</td>\n",
              "      <td>4.9320</td>\n",
              "      <td>1.8213</td>\n",
              "      <td>4.2946</td>\n",
              "      <td>2.5326</td>\n",
              "      <td>1.5204</td>\n",
              "      <td>3.6619</td>\n",
              "      <td>2.5636</td>\n",
              "      <td>2.53</td>\n",
              "      <td>-0.20</td>\n",
              "      <td>-0.35</td>\n",
              "      <td>0.31</td>\n",
              "    </tr>\n",
              "  </tbody>\n",
              "</table>\n",
              "</div>"
            ],
            "text/plain": [
              "     date    Pr11    Pr12    Pr13    Pr14  ...    Pr55  Mkt_rf   SMB   HML    rf\n",
              "0  192607  3.7782 -0.4119 -1.9434  0.3530  ...  0.5623    2.96 -2.30 -2.87  0.22\n",
              "1  192608 -2.2074 -8.7275  2.4404  0.6086  ...  7.7576    2.64 -1.40  4.19  0.25\n",
              "2  192609 -6.2113 -0.2989 -6.1982 -1.6368  ... -2.4284    0.36 -1.32  0.01  0.23\n",
              "3  192610 -8.6241 -3.7532 -5.6719  5.7170  ... -5.8129   -3.24  0.04  0.51  0.32\n",
              "4  192611  3.4744  6.6476  2.2634 -4.7020  ...  2.5636    2.53 -0.20 -0.35  0.31\n",
              "\n",
              "[5 rows x 30 columns]"
            ]
          },
          "metadata": {
            "tags": []
          },
          "execution_count": 6
        }
      ]
    },
    {
      "cell_type": "code",
      "metadata": {
        "id": "iCcHkAxhRDVx"
      },
      "source": [
        "#N = 25  # of firms in an economy, here # of portfolios, here len(data)\n",
        "T = len(df)  # length of periods # here 1136#df.columns.array\n",
        "#  data\n",
        "data = df.loc[:,'Pr11':'Pr55']\n",
        "data.shape#(T,N)\n",
        "x,y=data.shape\n",
        "N=y#  # of firms in an economy, here # of portfolios, here len(data)\n",
        "#T = data.shape[0]\n",
        "#N = data.shape[1]"
      ],
      "execution_count": null,
      "outputs": []
    },
    {
      "cell_type": "code",
      "metadata": {
        "id": "KxRoNnjRNyL9"
      },
      "source": [
        "# simulate factor loadings (ie, coefficients)\n",
        "b_mkt = np.zeros((1,N)) # true loadings for market factor\n",
        "b_smb = np.zeros((1,N)) # true loadings for size factor\n",
        "b_hml = np.zeros((1,N)) # true loadings for value factor"
      ],
      "execution_count": null,
      "outputs": []
    },
    {
      "cell_type": "code",
      "metadata": {
        "id": "03H5lY3KTxUQ"
      },
      "source": [
        "#  factor returns\n",
        "mkt = df['Mkt_rf'] # market factor\n",
        "smb = df['SMB'] # size factor\n",
        "hml = df['HML'] # value factor"
      ],
      "execution_count": null,
      "outputs": []
    },
    {
      "cell_type": "code",
      "metadata": {
        "colab": {
          "base_uri": "https://localhost:8080/",
          "height": 206
        },
        "id": "HSqR7bS0XF-x",
        "outputId": "955307c1-6e52-471f-8dda-89150e2d6260"
      },
      "source": [
        "#data.iloc[:,1]\n",
        "fctrs = df[[\"Mkt_rf\",\"SMB\",\"HML\"]]\n",
        "fctrs.head()\n"
      ],
      "execution_count": null,
      "outputs": [
        {
          "output_type": "execute_result",
          "data": {
            "text/html": [
              "<div>\n",
              "<style scoped>\n",
              "    .dataframe tbody tr th:only-of-type {\n",
              "        vertical-align: middle;\n",
              "    }\n",
              "\n",
              "    .dataframe tbody tr th {\n",
              "        vertical-align: top;\n",
              "    }\n",
              "\n",
              "    .dataframe thead th {\n",
              "        text-align: right;\n",
              "    }\n",
              "</style>\n",
              "<table border=\"1\" class=\"dataframe\">\n",
              "  <thead>\n",
              "    <tr style=\"text-align: right;\">\n",
              "      <th></th>\n",
              "      <th>Mkt_rf</th>\n",
              "      <th>SMB</th>\n",
              "      <th>HML</th>\n",
              "    </tr>\n",
              "  </thead>\n",
              "  <tbody>\n",
              "    <tr>\n",
              "      <th>0</th>\n",
              "      <td>2.96</td>\n",
              "      <td>-2.30</td>\n",
              "      <td>-2.87</td>\n",
              "    </tr>\n",
              "    <tr>\n",
              "      <th>1</th>\n",
              "      <td>2.64</td>\n",
              "      <td>-1.40</td>\n",
              "      <td>4.19</td>\n",
              "    </tr>\n",
              "    <tr>\n",
              "      <th>2</th>\n",
              "      <td>0.36</td>\n",
              "      <td>-1.32</td>\n",
              "      <td>0.01</td>\n",
              "    </tr>\n",
              "    <tr>\n",
              "      <th>3</th>\n",
              "      <td>-3.24</td>\n",
              "      <td>0.04</td>\n",
              "      <td>0.51</td>\n",
              "    </tr>\n",
              "    <tr>\n",
              "      <th>4</th>\n",
              "      <td>2.53</td>\n",
              "      <td>-0.20</td>\n",
              "      <td>-0.35</td>\n",
              "    </tr>\n",
              "  </tbody>\n",
              "</table>\n",
              "</div>"
            ],
            "text/plain": [
              "   Mkt_rf   SMB   HML\n",
              "0    2.96 -2.30 -2.87\n",
              "1    2.64 -1.40  4.19\n",
              "2    0.36 -1.32  0.01\n",
              "3   -3.24  0.04  0.51\n",
              "4    2.53 -0.20 -0.35"
            ]
          },
          "metadata": {
            "tags": []
          },
          "execution_count": 13
        }
      ]
    },
    {
      "cell_type": "code",
      "metadata": {
        "id": "kKFLlGnbdaca"
      },
      "source": [
        ""
      ],
      "execution_count": null,
      "outputs": []
    },
    {
      "cell_type": "code",
      "metadata": {
        "colab": {
          "base_uri": "https://localhost:8080/"
        },
        "id": "WE8ICMwZV5Nk",
        "outputId": "bb293c3a-5ef5-4412-cf07-510457212008"
      },
      "source": [
        "# Step 1: time series regression firm by firm\n",
        "#fctrs = np.c_[mkt, smb, hml]\n",
        "b = np.zeros(3)\n",
        "for i in range(N): # firm-by-firm time series regression\n",
        "  model = LinearRegression()\n",
        "  model.fit(fctrs,data.iloc[:,i])\n",
        "  b = np.c_[b,model.coef_]\n",
        "\n",
        "b  = np.transpose(b[:,1:])\n",
        "b.shape"
      ],
      "execution_count": null,
      "outputs": [
        {
          "output_type": "execute_result",
          "data": {
            "text/plain": [
              "(25, 3)"
            ]
          },
          "metadata": {
            "tags": []
          },
          "execution_count": 14
        }
      ]
    },
    {
      "cell_type": "code",
      "metadata": {
        "colab": {
          "base_uri": "https://localhost:8080/"
        },
        "id": "3LvYh6Mjs7wi",
        "outputId": "54adb39c-4168-4c2a-de8f-2c0f8689aa25"
      },
      "source": [
        "#b is bhat\n",
        "#b\n",
        "b.shape# (N,#factors)"
      ],
      "execution_count": null,
      "outputs": [
        {
          "output_type": "execute_result",
          "data": {
            "text/plain": [
              "(25, 3)"
            ]
          },
          "metadata": {
            "tags": []
          },
          "execution_count": 20
        }
      ]
    },
    {
      "cell_type": "code",
      "metadata": {
        "colab": {
          "base_uri": "https://localhost:8080/"
        },
        "id": "225EJNSVtLJ8",
        "outputId": "87108ba0-2fbe-404b-aa22-07676b8cba97"
      },
      "source": [
        "# Step 2: cross sectional regression time-by-time\n",
        "f = np.zeros(3)\n",
        "for i in range(T): # time-by-time cross sectional regression\n",
        "  model = LinearRegression()\n",
        "  model.fit(b,data.iloc[i,:])\n",
        "  f = np.c_[f,model.coef_]\n",
        "\n",
        "f = np.transpose(f[:,1:])\n",
        "df = pd.DataFrame(f)\n",
        "df.columns = ['mkt','smb','hml']\n",
        "print(df.describe())\n",
        "print('Median estimate:', np.median(f,axis=0))\n",
        "print('Standard errors (without Shanken correction):', np.std(f,axis=0)/T**.5)"
      ],
      "execution_count": null,
      "outputs": [
        {
          "output_type": "stream",
          "text": [
            "               mkt          smb          hml\n",
            "count  1136.000000  1136.000000  1136.000000\n",
            "mean     -0.870123     0.132969     0.349423\n",
            "std      13.604152     3.400634     3.623516\n",
            "min     -57.731686   -17.616666   -15.177030\n",
            "25%      -5.997532    -1.582336    -1.353527\n",
            "50%      -1.049825    -0.160114     0.117558\n",
            "75%       3.812761     1.542761     1.860811\n",
            "max     202.454236    47.700908    37.165228\n",
            "Median estimate: [-1.04982526 -0.16011439  0.1175578 ]\n",
            "Standard errors (without Shanken correction): [0.40345125 0.10085083 0.10746074]\n"
          ],
          "name": "stdout"
        }
      ]
    },
    {
      "cell_type": "code",
      "metadata": {
        "colab": {
          "base_uri": "https://localhost:8080/"
        },
        "id": "4YjK7U5NtLVq",
        "outputId": "09831efd-4625-4dee-a7d5-9c48f083e1f6"
      },
      "source": [
        "f.shape # (T,#factors)# f or df I assume is gamma hat"
      ],
      "execution_count": null,
      "outputs": [
        {
          "output_type": "execute_result",
          "data": {
            "text/plain": [
              "(1136, 3)"
            ]
          },
          "metadata": {
            "tags": []
          },
          "execution_count": 21
        }
      ]
    },
    {
      "cell_type": "code",
      "metadata": {
        "colab": {
          "base_uri": "https://localhost:8080/",
          "height": 206
        },
        "id": "FZm67ZsTtsDb",
        "outputId": "41857bf4-4a9b-4811-fe14-c6a78c02e74b"
      },
      "source": [
        "df.head()#f and df are same, gamma hat"
      ],
      "execution_count": null,
      "outputs": [
        {
          "output_type": "execute_result",
          "data": {
            "text/html": [
              "<div>\n",
              "<style scoped>\n",
              "    .dataframe tbody tr th:only-of-type {\n",
              "        vertical-align: middle;\n",
              "    }\n",
              "\n",
              "    .dataframe tbody tr th {\n",
              "        vertical-align: top;\n",
              "    }\n",
              "\n",
              "    .dataframe thead th {\n",
              "        text-align: right;\n",
              "    }\n",
              "</style>\n",
              "<table border=\"1\" class=\"dataframe\">\n",
              "  <thead>\n",
              "    <tr style=\"text-align: right;\">\n",
              "      <th></th>\n",
              "      <th>mkt</th>\n",
              "      <th>smb</th>\n",
              "      <th>hml</th>\n",
              "    </tr>\n",
              "  </thead>\n",
              "  <tbody>\n",
              "    <tr>\n",
              "      <th>0</th>\n",
              "      <td>3.872728</td>\n",
              "      <td>-1.232069</td>\n",
              "      <td>-1.749981</td>\n",
              "    </tr>\n",
              "    <tr>\n",
              "      <th>1</th>\n",
              "      <td>-2.625232</td>\n",
              "      <td>-2.833247</td>\n",
              "      <td>5.161434</td>\n",
              "    </tr>\n",
              "    <tr>\n",
              "      <th>2</th>\n",
              "      <td>-9.443148</td>\n",
              "      <td>-1.475617</td>\n",
              "      <td>-0.582003</td>\n",
              "    </tr>\n",
              "    <tr>\n",
              "      <th>3</th>\n",
              "      <td>-18.128677</td>\n",
              "      <td>0.322757</td>\n",
              "      <td>0.087905</td>\n",
              "    </tr>\n",
              "    <tr>\n",
              "      <th>4</th>\n",
              "      <td>7.651868</td>\n",
              "      <td>-0.867883</td>\n",
              "      <td>-0.753345</td>\n",
              "    </tr>\n",
              "  </tbody>\n",
              "</table>\n",
              "</div>"
            ],
            "text/plain": [
              "         mkt       smb       hml\n",
              "0   3.872728 -1.232069 -1.749981\n",
              "1  -2.625232 -2.833247  5.161434\n",
              "2  -9.443148 -1.475617 -0.582003\n",
              "3 -18.128677  0.322757  0.087905\n",
              "4   7.651868 -0.867883 -0.753345"
            ]
          },
          "metadata": {
            "tags": []
          },
          "execution_count": 23
        }
      ]
    },
    {
      "cell_type": "code",
      "metadata": {
        "id": "5kr2iYqQtsQO"
      },
      "source": [
        ""
      ],
      "execution_count": null,
      "outputs": []
    },
    {
      "cell_type": "markdown",
      "metadata": {
        "id": "IX9BnrLiV-AF"
      },
      "source": [
        "#Here is real code\n"
      ]
    },
    {
      "cell_type": "code",
      "metadata": {
        "colab": {
          "base_uri": "https://localhost:8080/"
        },
        "id": "DxApqx6_ggKY",
        "outputId": "3bef7f7a-136f-47bf-d7dd-e831fb1def52"
      },
      "source": [
        "# Let us practice FM regression one more time with multifactor model\n",
        "# Here we will illustrate Fama-French three factor model.\n",
        "# Three factors are market (mkt), size (smb), and value (hml) factors\n",
        "\n",
        "# simulate factor loadings (ie, coefficients)\n",
        "b_mkt = np.random.random((1,N)) # true loadings for market factor\n",
        "b_smb = np.random.random((1,N)) # true loadings for size factor\n",
        "b_hml = np.random.random((1,N)) # true loadings for value factor\n",
        "\n",
        "# simulate factor returns\n",
        "mkt = 0.06*dt + np.random.standard_normal((T,1)) # market factor\n",
        "smb = 0.06*dt + np.random.standard_normal((T,1)) # size factor\n",
        "hml = 0.06*dt + np.random.standard_normal((T,1)) # value factor\n",
        "\n",
        "# simulate data\n",
        "data = rf*dt + b_mkt*mkt + b_smb*smb + b_hml*hml + s*np.random.standard_normal((T,N))\n",
        "data.shape"
      ],
      "execution_count": null,
      "outputs": [
        {
          "output_type": "execute_result",
          "data": {
            "text/plain": [
              "(2520, 2000)"
            ]
          },
          "metadata": {
            "tags": []
          },
          "execution_count": 9
        }
      ]
    },
    {
      "cell_type": "code",
      "metadata": {
        "colab": {
          "base_uri": "https://localhost:8080/"
        },
        "id": "jW5z_pj3h8iI",
        "outputId": "d65ed5aa-a979-4c89-b123-d7f63b4984d8"
      },
      "source": [
        "# Step 1: time series regression firm by firm\n",
        "fctrs = np.c_[mkt, smb, hml]\n",
        "b = np.zeros(3)\n",
        "for i in range(N): # firm-by-firm time series regression\n",
        "  model = LinearRegression()\n",
        "  model.fit(fctrs,data[:,i])\n",
        "  b = np.c_[b,model.coef_]\n",
        "\n",
        "b  = np.transpose(b[:,1:])\n",
        "b.shape"
      ],
      "execution_count": null,
      "outputs": [
        {
          "output_type": "execute_result",
          "data": {
            "text/plain": [
              "(2000, 3)"
            ]
          },
          "metadata": {
            "tags": []
          },
          "execution_count": 10
        }
      ]
    },
    {
      "cell_type": "code",
      "metadata": {
        "colab": {
          "base_uri": "https://localhost:8080/"
        },
        "id": "ZIl2slq8iozA",
        "outputId": "b666fdfa-d165-447f-eab3-5ce4610419b0"
      },
      "source": [
        "# Step 2: cross sectional regression time-by-time\n",
        "f = np.zeros(3)\n",
        "for i in range(T): # time-by-time cross sectional regression\n",
        "  model = LinearRegression()\n",
        "  model.fit(b,data[i,:])\n",
        "  f = np.c_[f,model.coef_]\n",
        "\n",
        "f = np.transpose(f[:,1:])\n",
        "df = pd.DataFrame(f)\n",
        "df.columns = ['mkt','smb','hml']\n",
        "print(df.describe())\n",
        "print('Median estimate:', np.median(f,axis=0))\n",
        "print('Standard errors (without Shanken correction):', np.std(f,axis=0)/T**.5)"
      ],
      "execution_count": null,
      "outputs": [
        {
          "output_type": "stream",
          "text": [
            "               mkt          smb          hml\n",
            "count  2520.000000  2520.000000  2520.000000\n",
            "mean     -0.003421     0.011328     0.000661\n",
            "std       0.995024     0.983638     0.993616\n",
            "min      -3.479207    -3.922783    -3.245370\n",
            "25%      -0.687729    -0.681748    -0.682121\n",
            "50%      -0.013429     0.022652    -0.016188\n",
            "75%       0.677624     0.680134     0.659688\n",
            "max       3.499484     3.324647     3.169219\n",
            "Median estimate: [-0.01342926  0.02265249 -0.0161883 ]\n",
            "Standard errors (without Shanken correction): [0.01981743 0.01959064 0.01978938]\n"
          ],
          "name": "stdout"
        }
      ]
    },
    {
      "cell_type": "code",
      "metadata": {
        "colab": {
          "base_uri": "https://localhost:8080/"
        },
        "id": "4LDWelxdkvQw",
        "outputId": "68a72fe6-02ee-4b81-c29c-59e96d3684b0"
      },
      "source": [
        "# Check the answers with linear algebra \n",
        "# Step 1: Time series regression\n",
        "x = np.c_[np.ones(T),fctrs]\n",
        "M = np.linalg.inv(x.T @ x) @ x.T\n",
        "bhat = M @ data\n",
        "bhat = bhat[1:,:].T\n",
        "\n",
        "# Step 2: cross sectional regression\n",
        "x = np.c_[np.ones(N),bhat]\n",
        "M = np.linalg.inv(x.T @ x) @ x.T\n",
        "fhat = (M @ data.T)[1:,:].T\n",
        "df = pd.DataFrame(fhat)\n",
        "df.columns = ['mkt','smb','hml']\n",
        "print(df.describe())\n"
      ],
      "execution_count": null,
      "outputs": [
        {
          "output_type": "stream",
          "text": [
            "               mkt          smb          hml\n",
            "count  2520.000000  2520.000000  2520.000000\n",
            "mean     -0.008183    -0.024769    -0.012406\n",
            "std       0.993373     0.989079     0.996948\n",
            "min      -3.663301    -2.944357    -3.190319\n",
            "25%      -0.677554    -0.711218    -0.687829\n",
            "50%      -0.001417    -0.034952    -0.002823\n",
            "75%       0.685244     0.649408     0.637199\n",
            "max       3.233734     2.930666     3.915250\n"
          ],
          "name": "stdout"
        }
      ]
    },
    {
      "cell_type": "code",
      "metadata": {
        "colab": {
          "base_uri": "https://localhost:8080/"
        },
        "id": "AQAu5WXjmGjn",
        "outputId": "d0843ecc-4663-4b2e-b20c-dc62724041e7"
      },
      "source": [
        "# Compute standard error with bootstrapping (Shanken correction unnecessary)\n",
        "# One simple bootstrapping \n",
        "\n",
        "indices = np.random.randint(low=0,high=T, size=T)\n",
        "new_data = data[indices,:]\n",
        "new_fctrs = fctrs[indices,:]\n",
        "xx = indices[0]\n",
        "print(xx)\n",
        "print(new_data[0,:])\n",
        "print(data[xx,:])"
      ],
      "execution_count": null,
      "outputs": [
        {
          "output_type": "stream",
          "text": [
            "1603\n",
            "[-0.08606548  0.61997345  1.54069753 ...  1.01707778 -0.36269035\n",
            "  0.17821955]\n",
            "[-0.08606548  0.61997345  1.54069753 ...  1.01707778 -0.36269035\n",
            "  0.17821955]\n"
          ],
          "name": "stdout"
        }
      ]
    },
    {
      "cell_type": "code",
      "metadata": {
        "colab": {
          "base_uri": "https://localhost:8080/"
        },
        "id": "VNwPwUPdnKT5",
        "outputId": "7ad6edf4-89f5-465d-a3cc-ab6168c22921"
      },
      "source": [
        "# Check the answers with linear algebra \n",
        "# Step 1: Time series regression\n",
        "x = np.c_[np.ones(T),fctrs]\n",
        "M = np.linalg.inv(x.T @ x) @ x.T\n",
        "bhat = (M @ data)[1:,:].T\n",
        "\n",
        "# Step 2: cross sectional regression\n",
        "x = np.c_[np.ones(N),bhat]\n",
        "M = np.linalg.inv(x.T @ x) @ x.T\n",
        "fhat = (M @ data.T)[1:,:].T\n",
        "df = pd.DataFrame(fhat)\n",
        "df.columns = ['mkt','smb','hml']\n",
        "E_fhat = np.average(fhat,axis=0)\n",
        "print(E_fhat)\n",
        "\n",
        "def efhats(data,fctrs): # function to compute average estimated factor return\n",
        "  T = data.shape[0]\n",
        "  N = data.shape[1]\n",
        "  # Step 1: Time series regression\n",
        "  x = np.c_[np.ones(T),fctrs]\n",
        "  M = np.linalg.inv(x.T @ x) @ x.T\n",
        "  bhat = (M @ data)[1:,:].T\n",
        "\n",
        "  # Step 2: cross sectional regression\n",
        "  # Include other control variables here (eg, firm characteristics)\n",
        "  x = np.c_[np.ones(N),bhat]\n",
        "  M = np.linalg.inv(x.T @ x) @ x.T\n",
        "  fhat = (M @ data.T)[1:,:].T\n",
        "  df = pd.DataFrame(fhat)\n",
        "  df.columns = ['mkt','smb','hml']\n",
        "  E_fhat = np.average(fhat,axis=0)\n",
        "  return E_fhat \n",
        "\n",
        "print(efhats(data,fctrs))"
      ],
      "execution_count": null,
      "outputs": [
        {
          "output_type": "stream",
          "text": [
            "[-0.00342085  0.01132761  0.00066094]\n",
            "[-0.00342085  0.01132761  0.00066094]\n"
          ],
          "name": "stdout"
        }
      ]
    },
    {
      "cell_type": "code",
      "metadata": {
        "colab": {
          "base_uri": "https://localhost:8080/"
        },
        "id": "yIs5pez_pbvv",
        "outputId": "7f5480f3-3d9d-4dc7-d37e-dbd62b772e29"
      },
      "source": [
        "E_fhat = efhats(data,fctrs)\n",
        "simn = 10**3 # of bootstrapping\n",
        "t = time.time() # bootstrapping start time \n",
        "for i in range(simn): \n",
        "  indices = np.random.randint(low=0,high=T,size=T) # resample by rows\n",
        "  new_data = data[indices,:] # resampled stock return data\n",
        "  new_fctrs = fctrs[indices,:] # resampled factor return data\n",
        "  E_fhat = np.c_[E_fhat,efhats(new_data,new_fctrs)]\n",
        "  # to check bootstrapping status\n",
        "  if i % 100 == 0: print(i)\n",
        "\n",
        "print('Simulation duration:', time.time()-t, 'seconds.')\n",
        "df = pd.DataFrame(E_fhat.T)\n",
        "df.columns = ['mkt','smb','hml']\n",
        "print(df.describe())"
      ],
      "execution_count": null,
      "outputs": [
        {
          "output_type": "stream",
          "text": [
            "0\n",
            "100\n",
            "200\n",
            "300\n",
            "400\n",
            "500\n",
            "600\n",
            "700\n",
            "800\n",
            "900\n",
            "Simulation duration: 40.533711671829224 seconds.\n",
            "               mkt          smb          hml\n",
            "count  1001.000000  1001.000000  1001.000000\n",
            "mean     -0.003440     0.011409     0.000989\n",
            "std       0.019854     0.019726     0.020119\n",
            "min      -0.081165    -0.056728    -0.052518\n",
            "25%      -0.016360    -0.001080    -0.012478\n",
            "50%      -0.003115     0.011341     0.001272\n",
            "75%       0.009721     0.023982     0.014948\n",
            "max       0.068161     0.065659     0.068643\n"
          ],
          "name": "stdout"
        }
      ]
    },
    {
      "cell_type": "code",
      "metadata": {
        "colab": {
          "base_uri": "https://localhost:8080/"
        },
        "id": "ZBYM0pyMrIV3",
        "outputId": "89ca9997-4093-4950-a021-a392165fdd56"
      },
      "source": [
        "print('FM regression esimate of expeced factor returns: \\n', np.average(E_fhat.T,axis=0))\n",
        "print('FM regression esimate of standard errors: \\n', np.std(E_fhat.T,axis=0))"
      ],
      "execution_count": null,
      "outputs": [
        {
          "output_type": "stream",
          "text": [
            "FM regression esimate of expeced factor returns: \n",
            " [-0.00344017  0.01140894  0.00098873]\n",
            "FM regression esimate of standard errors: \n",
            " [0.01984397 0.01971612 0.02010855]\n"
          ],
          "name": "stdout"
        }
      ]
    }
  ]
}