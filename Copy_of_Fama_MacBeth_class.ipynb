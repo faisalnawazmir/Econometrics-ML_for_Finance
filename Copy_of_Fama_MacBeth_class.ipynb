{
  "nbformat": 4,
  "nbformat_minor": 0,
  "metadata": {
    "colab": {
      "name": "Copy of Fama MacBeth class.ipynb",
      "provenance": [],
      "collapsed_sections": [],
      "include_colab_link": true
    },
    "kernelspec": {
      "name": "python3",
      "display_name": "Python 3"
    }
  },
  "cells": [
    {
      "cell_type": "markdown",
      "metadata": {
        "id": "view-in-github",
        "colab_type": "text"
      },
      "source": [
        "<a href=\"https://colab.research.google.com/github/faisalnawazmir/Econometrics-ML_for_Finance/blob/data/Copy_of_Fama_MacBeth_class.ipynb\" target=\"_parent\"><img src=\"https://colab.research.google.com/assets/colab-badge.svg\" alt=\"Open In Colab\"/></a>"
      ]
    },
    {
      "cell_type": "code",
      "metadata": {
        "id": "XGS1SczsW-5T",
        "colab": {
          "base_uri": "https://localhost:8080/"
        },
        "outputId": "0d903af8-e4a2-4235-8b5d-2be4c9c3d79e"
      },
      "source": [
        "import numpy as np\n",
        "import pandas as pd\n",
        "from sklearn.linear_model import LinearRegression \n",
        "from sklearn.metrics import mean_squared_error, r2_score\n",
        "import statsmodels.api as sm \n",
        "from tabulate import tabulate\n",
        "import time\n",
        "np.random.seed(12345)"
      ],
      "execution_count": 1,
      "outputs": [
        {
          "output_type": "stream",
          "text": [
            "/usr/local/lib/python3.7/dist-packages/statsmodels/tools/_testing.py:19: FutureWarning: pandas.util.testing is deprecated. Use the functions in the public API at pandas.testing instead.\n",
            "  import pandas.util.testing as tm\n"
          ],
          "name": "stderr"
        }
      ]
    },
    {
      "cell_type": "markdown",
      "metadata": {
        "id": "940i72vLXitj"
      },
      "source": [
        "$Y$: Stock return data (T x N matrix)\n",
        "By CAPM,\n",
        "\n",
        "$$r_{i,t} = r_f + \\beta_i \\cdot mkt_t + \\epsilon_{i,t}.$$\n",
        "\n",
        "$$Y = r_f + \\vec{\\beta}^T \\vec{mkt} + \\Omega.$$\n"
      ]
    },
    {
      "cell_type": "code",
      "metadata": {
        "colab": {
          "base_uri": "https://localhost:8080/"
        },
        "id": "jQ_SFMhyWWhr",
        "outputId": "00eae544-eec8-483a-adef-1cd1405482dd"
      },
      "source": [
        "rf = 0.01 # risk free rate\n",
        "N = 2000  # of firms in an economy\n",
        "T = 2520  # length of periods \n",
        "dt = 1/252. # length of a time unit (annualized)\n",
        "s = 0.5*dt**.05 # average idiosyncratic risks \n",
        "\n",
        "# to specify the risk of a firm\n",
        "beta_true = np.random.random((N,1)) # true betas of N firms\n",
        "mkt = 0.06*dt + np.random.standard_normal((T,1)) # market factor\n",
        "# to simulate stock return data upon capital asset pricing model (CAPM)\n",
        "data = rf*dt + np.transpose(beta_true) * mkt + s*np.random.standard_normal((T,N))\n",
        "data.shape"
      ],
      "execution_count": 3,
      "outputs": [
        {
          "output_type": "execute_result",
          "data": {
            "text/plain": [
              "(2520, 2000)"
            ]
          },
          "metadata": {
            "tags": []
          },
          "execution_count": 3
        }
      ]
    },
    {
      "cell_type": "code",
      "metadata": {
        "colab": {
          "base_uri": "https://localhost:8080/"
        },
        "id": "JeWqeS0Thp_o",
        "outputId": "4a08e5ad-07bd-4309-cd4b-30e757837f3e"
      },
      "source": [
        "(np.transpose(beta_true) * mkt).shape"
      ],
      "execution_count": 4,
      "outputs": [
        {
          "output_type": "execute_result",
          "data": {
            "text/plain": [
              "(2520, 2000)"
            ]
          },
          "metadata": {
            "tags": []
          },
          "execution_count": 4
        }
      ]
    },
    {
      "cell_type": "markdown",
      "metadata": {
        "id": "RSNYhM__YsNJ"
      },
      "source": [
        "We regard data given and estimate the model with Fama-MacBeth regression."
      ]
    },
    {
      "cell_type": "code",
      "metadata": {
        "colab": {
          "base_uri": "https://localhost:8080/"
        },
        "id": "c9ahxA9LYxWR",
        "outputId": "672ac3e6-399e-47bc-e03c-6bbb25ea6305"
      },
      "source": [
        "# Test\n",
        "y = data[:,12] # pick a firm's time series data\n",
        "model = LinearRegression()\n",
        "model.fit(mkt,y)\n",
        "print('Intercept:', model.intercept_)\n",
        "print('Estimated Coefficient:', model.coef_[0])\n",
        "print('True Coefficient:', beta_true[12][0])\n",
        "print('Coefficient of determination (R-squared) %.2f' \n",
        "      % r2_score(y, model.predict(mkt)), '\\n')\n",
        "\n",
        "\n",
        "# Alternatively\n",
        "x = sm.add_constant(mkt)\n",
        "model = sm.OLS(y,x).fit()\n",
        "print(model.summary())\n",
        "\n",
        "# Linear algebra \n",
        "x = np.c_[np.ones(T),mkt]\n",
        "M = np.linalg.inv(x.T @ x) @ x.T \n",
        "print(M @ y)"
      ],
      "execution_count": 5,
      "outputs": [
        {
          "output_type": "stream",
          "text": [
            "Intercept: 0.0034267901570485433\n",
            "Estimated Coefficient: 0.5952905170613728\n",
            "True Coefficient: 0.6036431486612096\n",
            "Coefficient of determination (R-squared) 0.73 \n",
            "\n",
            "                            OLS Regression Results                            \n",
            "==============================================================================\n",
            "Dep. Variable:                      y   R-squared:                       0.729\n",
            "Model:                            OLS   Adj. R-squared:                  0.729\n",
            "Method:                 Least Squares   F-statistic:                     6761.\n",
            "Date:                Thu, 08 Apr 2021   Prob (F-statistic):               0.00\n",
            "Time:                        05:07:37   Log-Likelihood:                -1062.6\n",
            "No. Observations:                2520   AIC:                             2129.\n",
            "Df Residuals:                    2518   BIC:                             2141.\n",
            "Df Model:                           1                                         \n",
            "Covariance Type:            nonrobust                                         \n",
            "==============================================================================\n",
            "                 coef    std err          t      P>|t|      [0.025      0.975]\n",
            "------------------------------------------------------------------------------\n",
            "const          0.0034      0.007      0.466      0.641      -0.011       0.018\n",
            "x1             0.5953      0.007     82.227      0.000       0.581       0.609\n",
            "==============================================================================\n",
            "Omnibus:                        1.398   Durbin-Watson:                   1.958\n",
            "Prob(Omnibus):                  0.497   Jarque-Bera (JB):                1.433\n",
            "Skew:                           0.034   Prob(JB):                        0.489\n",
            "Kurtosis:                       2.905   Cond. No.                         1.02\n",
            "==============================================================================\n",
            "\n",
            "Warnings:\n",
            "[1] Standard Errors assume that the covariance matrix of the errors is correctly specified.\n",
            "[0.00342679 0.59529052]\n"
          ],
          "name": "stdout"
        }
      ]
    },
    {
      "cell_type": "markdown",
      "metadata": {
        "id": "nvTnNgffbFTR"
      },
      "source": [
        "To explain the linear algebra in our model \n",
        "\n",
        "$$ X \\equiv \\begin{bmatrix} 1,x_1 \\\\1, x_2 \\\\ ... \\\\1, x_T \\end{bmatrix}$$\n",
        "$$ \\hat{\\beta} = (X'X)^{-1}X'y \\equiv My$$\n",
        "\n",
        "To estimate all betas simultaneously, we can run:\n",
        "\n",
        "$$ \\hat{B_{2xN}} = (X'X)^{-1}X' \\cdot Y_{TxN} \\equiv M \\cdot Y_{TxN}$$\n",
        "\n"
      ]
    },
    {
      "cell_type": "code",
      "metadata": {
        "colab": {
          "base_uri": "https://localhost:8080/"
        },
        "id": "PF6XAE7JcU5T",
        "outputId": "8916437e-3db0-454c-f387-354aa2a6f225"
      },
      "source": [
        "# time series regression for all N firms (FM step 1)\n",
        "# regress time series stock return data of each firm one-by-one to multifactors\n",
        "# here we have only one factor for simplicity \n",
        "\n",
        "b = np.array([]) # save market betas here \n",
        "for i in range(N): # time series regression for N firms one-by-one to esimate their betas\n",
        "  model = LinearRegression()\n",
        "  model.fit(mkt,data[:,i])\n",
        "  b = np.r_[b, model.coef_]\n",
        "\n",
        "# To check estimated b with linear algebra \n",
        "bhat = (M @ data).T[:,1]\n",
        "bhat.shape"
      ],
      "execution_count": 6,
      "outputs": [
        {
          "output_type": "execute_result",
          "data": {
            "text/plain": [
              "(2000,)"
            ]
          },
          "metadata": {
            "tags": []
          },
          "execution_count": 6
        }
      ]
    },
    {
      "cell_type": "code",
      "metadata": {
        "id": "1mbvxM_EdTLa"
      },
      "source": [
        "print(tabulate(list(zip(beta_true,b,bhat))))# it is very large output so I clear output"
      ],
      "execution_count": null,
      "outputs": []
    },
    {
      "cell_type": "code",
      "metadata": {
        "colab": {
          "base_uri": "https://localhost:8080/"
        },
        "id": "bWHl4wj5esmi",
        "outputId": "127ef94a-4d59-4bca-b382-81591554c7ab"
      },
      "source": [
        "# cross-sectional regression for all T times (FM step 2)\n",
        "# regres cross section of stock return on each firm's beta (time-by-time)\n",
        "b = np.reshape(b,(N,1))\n",
        "f = np.array([]) # store estiamted mkt factor returns here\n",
        "for i in range(T): # FM step 2: time-by-time cross sectional regression\n",
        "  model = LinearRegression()\n",
        "  model.fit(b,data[i,:]) # cross section regression part!\n",
        "  f = np.r_[f,model.coef_]\n",
        "\n",
        "df = pd.DataFrame(f)\n",
        "print(df.describe())\n",
        "print('average factor return:', df.mean())\n",
        "print('standard error of factor return (without Shanken correction):', df.std()/T**.5)\n",
        "\n"
      ],
      "execution_count": 8,
      "outputs": [
        {
          "output_type": "stream",
          "text": [
            "                 0\n",
            "count  2520.000000\n",
            "mean      0.014260\n",
            "std       1.016108\n",
            "min      -3.331924\n",
            "25%      -0.658718\n",
            "50%      -0.000033\n",
            "75%       0.685279\n",
            "max       3.580075\n",
            "average factor return: 0    0.01426\n",
            "dtype: float64\n",
            "standard error of factor return (without Shanken correction): 0    0.020241\n",
            "dtype: float64\n"
          ],
          "name": "stdout"
        }
      ]
    },
    {
      "cell_type": "code",
      "metadata": {
        "colab": {
          "base_uri": "https://localhost:8080/"
        },
        "id": "DxApqx6_ggKY",
        "outputId": "3bef7f7a-136f-47bf-d7dd-e831fb1def52"
      },
      "source": [
        "# Let us practice FM regression one more time with multifactor model\n",
        "# Here we will illustrate Fama-French three factor model.\n",
        "# Three factors are market (mkt), size (smb), and value (hml) factors\n",
        "\n",
        "# simulate factor loadings (ie, coefficients)\n",
        "b_mkt = np.random.random((1,N)) # true loadings for market factor\n",
        "b_smb = np.random.random((1,N)) # true loadings for size factor\n",
        "b_hml = np.random.random((1,N)) # true loadings for value factor\n",
        "\n",
        "# simulate factor returns\n",
        "mkt = 0.06*dt + np.random.standard_normal((T,1)) # market factor\n",
        "smb = 0.06*dt + np.random.standard_normal((T,1)) # size factor\n",
        "hml = 0.06*dt + np.random.standard_normal((T,1)) # value factor\n",
        "\n",
        "# simulate data\n",
        "data = rf*dt + b_mkt*mkt + b_smb*smb + b_hml*hml + s*np.random.standard_normal((T,N))\n",
        "data.shape"
      ],
      "execution_count": 9,
      "outputs": [
        {
          "output_type": "execute_result",
          "data": {
            "text/plain": [
              "(2520, 2000)"
            ]
          },
          "metadata": {
            "tags": []
          },
          "execution_count": 9
        }
      ]
    },
    {
      "cell_type": "code",
      "metadata": {
        "colab": {
          "base_uri": "https://localhost:8080/"
        },
        "id": "jW5z_pj3h8iI",
        "outputId": "d65ed5aa-a979-4c89-b123-d7f63b4984d8"
      },
      "source": [
        "# Step 1: time series regression firm by firm\n",
        "fctrs = np.c_[mkt, smb, hml]\n",
        "b = np.zeros(3)\n",
        "for i in range(N): # firm-by-firm time series regression\n",
        "  model = LinearRegression()\n",
        "  model.fit(fctrs,data[:,i])\n",
        "  b = np.c_[b,model.coef_]\n",
        "\n",
        "b  = np.transpose(b[:,1:])\n",
        "b.shape"
      ],
      "execution_count": 10,
      "outputs": [
        {
          "output_type": "execute_result",
          "data": {
            "text/plain": [
              "(2000, 3)"
            ]
          },
          "metadata": {
            "tags": []
          },
          "execution_count": 10
        }
      ]
    },
    {
      "cell_type": "code",
      "metadata": {
        "colab": {
          "base_uri": "https://localhost:8080/"
        },
        "id": "ZIl2slq8iozA",
        "outputId": "b666fdfa-d165-447f-eab3-5ce4610419b0"
      },
      "source": [
        "# Step 2: cross sectional regression time-by-time\n",
        "f = np.zeros(3)\n",
        "for i in range(T): # time-by-time cross sectional regression\n",
        "  model = LinearRegression()\n",
        "  model.fit(b,data[i,:])\n",
        "  f = np.c_[f,model.coef_]\n",
        "\n",
        "f = np.transpose(f[:,1:])\n",
        "df = pd.DataFrame(f)\n",
        "df.columns = ['mkt','smb','hml']\n",
        "print(df.describe())\n",
        "print('Median estimate:', np.median(f,axis=0))\n",
        "print('Standard errors (without Shanken correction):', np.std(f,axis=0)/T**.5)"
      ],
      "execution_count": 11,
      "outputs": [
        {
          "output_type": "stream",
          "text": [
            "               mkt          smb          hml\n",
            "count  2520.000000  2520.000000  2520.000000\n",
            "mean     -0.003421     0.011328     0.000661\n",
            "std       0.995024     0.983638     0.993616\n",
            "min      -3.479207    -3.922783    -3.245370\n",
            "25%      -0.687729    -0.681748    -0.682121\n",
            "50%      -0.013429     0.022652    -0.016188\n",
            "75%       0.677624     0.680134     0.659688\n",
            "max       3.499484     3.324647     3.169219\n",
            "Median estimate: [-0.01342926  0.02265249 -0.0161883 ]\n",
            "Standard errors (without Shanken correction): [0.01981743 0.01959064 0.01978938]\n"
          ],
          "name": "stdout"
        }
      ]
    },
    {
      "cell_type": "code",
      "metadata": {
        "colab": {
          "base_uri": "https://localhost:8080/"
        },
        "id": "4LDWelxdkvQw",
        "outputId": "68a72fe6-02ee-4b81-c29c-59e96d3684b0"
      },
      "source": [
        "# Check the answers with linear algebra \n",
        "# Step 1: Time series regression\n",
        "x = np.c_[np.ones(T),fctrs]\n",
        "M = np.linalg.inv(x.T @ x) @ x.T\n",
        "bhat = M @ data\n",
        "bhat = bhat[1:,:].T\n",
        "\n",
        "# Step 2: cross sectional regression\n",
        "x = np.c_[np.ones(N),bhat]\n",
        "M = np.linalg.inv(x.T @ x) @ x.T\n",
        "fhat = (M @ data.T)[1:,:].T\n",
        "df = pd.DataFrame(fhat)\n",
        "df.columns = ['mkt','smb','hml']\n",
        "print(df.describe())\n"
      ],
      "execution_count": null,
      "outputs": [
        {
          "output_type": "stream",
          "text": [
            "               mkt          smb          hml\n",
            "count  2520.000000  2520.000000  2520.000000\n",
            "mean     -0.008183    -0.024769    -0.012406\n",
            "std       0.993373     0.989079     0.996948\n",
            "min      -3.663301    -2.944357    -3.190319\n",
            "25%      -0.677554    -0.711218    -0.687829\n",
            "50%      -0.001417    -0.034952    -0.002823\n",
            "75%       0.685244     0.649408     0.637199\n",
            "max       3.233734     2.930666     3.915250\n"
          ],
          "name": "stdout"
        }
      ]
    },
    {
      "cell_type": "code",
      "metadata": {
        "colab": {
          "base_uri": "https://localhost:8080/"
        },
        "id": "AQAu5WXjmGjn",
        "outputId": "d0843ecc-4663-4b2e-b20c-dc62724041e7"
      },
      "source": [
        "# Compute standard error with bootstrapping (Shanken correction unnecessary)\n",
        "# One simple bootstrapping \n",
        "\n",
        "indices = np.random.randint(low=0,high=T, size=T)\n",
        "new_data = data[indices,:]\n",
        "new_fctrs = fctrs[indices,:]\n",
        "xx = indices[0]\n",
        "print(xx)\n",
        "print(new_data[0,:])\n",
        "print(data[xx,:])"
      ],
      "execution_count": 12,
      "outputs": [
        {
          "output_type": "stream",
          "text": [
            "1603\n",
            "[-0.08606548  0.61997345  1.54069753 ...  1.01707778 -0.36269035\n",
            "  0.17821955]\n",
            "[-0.08606548  0.61997345  1.54069753 ...  1.01707778 -0.36269035\n",
            "  0.17821955]\n"
          ],
          "name": "stdout"
        }
      ]
    },
    {
      "cell_type": "code",
      "metadata": {
        "colab": {
          "base_uri": "https://localhost:8080/"
        },
        "id": "VNwPwUPdnKT5",
        "outputId": "7ad6edf4-89f5-465d-a3cc-ab6168c22921"
      },
      "source": [
        "# Check the answers with linear algebra \n",
        "# Step 1: Time series regression\n",
        "x = np.c_[np.ones(T),fctrs]\n",
        "M = np.linalg.inv(x.T @ x) @ x.T\n",
        "bhat = (M @ data)[1:,:].T\n",
        "\n",
        "# Step 2: cross sectional regression\n",
        "x = np.c_[np.ones(N),bhat]\n",
        "M = np.linalg.inv(x.T @ x) @ x.T\n",
        "fhat = (M @ data.T)[1:,:].T\n",
        "df = pd.DataFrame(fhat)\n",
        "df.columns = ['mkt','smb','hml']\n",
        "E_fhat = np.average(fhat,axis=0)\n",
        "print(E_fhat)\n",
        "\n",
        "def efhats(data,fctrs): # function to compute average estimated factor return\n",
        "  T = data.shape[0]\n",
        "  N = data.shape[1]\n",
        "  # Step 1: Time series regression\n",
        "  x = np.c_[np.ones(T),fctrs]\n",
        "  M = np.linalg.inv(x.T @ x) @ x.T\n",
        "  bhat = (M @ data)[1:,:].T\n",
        "\n",
        "  # Step 2: cross sectional regression\n",
        "  # Include other control variables here (eg, firm characteristics)\n",
        "  x = np.c_[np.ones(N),bhat]\n",
        "  M = np.linalg.inv(x.T @ x) @ x.T\n",
        "  fhat = (M @ data.T)[1:,:].T\n",
        "  df = pd.DataFrame(fhat)\n",
        "  df.columns = ['mkt','smb','hml']\n",
        "  E_fhat = np.average(fhat,axis=0)\n",
        "  return E_fhat \n",
        "\n",
        "print(efhats(data,fctrs))"
      ],
      "execution_count": 13,
      "outputs": [
        {
          "output_type": "stream",
          "text": [
            "[-0.00342085  0.01132761  0.00066094]\n",
            "[-0.00342085  0.01132761  0.00066094]\n"
          ],
          "name": "stdout"
        }
      ]
    },
    {
      "cell_type": "code",
      "metadata": {
        "colab": {
          "base_uri": "https://localhost:8080/"
        },
        "id": "yIs5pez_pbvv",
        "outputId": "7f5480f3-3d9d-4dc7-d37e-dbd62b772e29"
      },
      "source": [
        "E_fhat = efhats(data,fctrs)\n",
        "simn = 10**3 # of bootstrapping\n",
        "t = time.time() # bootstrapping start time \n",
        "for i in range(simn): \n",
        "  indices = np.random.randint(low=0,high=T,size=T) # resample by rows\n",
        "  new_data = data[indices,:] # resampled stock return data\n",
        "  new_fctrs = fctrs[indices,:] # resampled factor return data\n",
        "  E_fhat = np.c_[E_fhat,efhats(new_data,new_fctrs)]\n",
        "  # to check bootstrapping status\n",
        "  if i % 100 == 0: print(i)\n",
        "\n",
        "print('Simulation duration:', time.time()-t, 'seconds.')\n",
        "df = pd.DataFrame(E_fhat.T)\n",
        "df.columns = ['mkt','smb','hml']\n",
        "print(df.describe())"
      ],
      "execution_count": 14,
      "outputs": [
        {
          "output_type": "stream",
          "text": [
            "0\n",
            "100\n",
            "200\n",
            "300\n",
            "400\n",
            "500\n",
            "600\n",
            "700\n",
            "800\n",
            "900\n",
            "Simulation duration: 40.533711671829224 seconds.\n",
            "               mkt          smb          hml\n",
            "count  1001.000000  1001.000000  1001.000000\n",
            "mean     -0.003440     0.011409     0.000989\n",
            "std       0.019854     0.019726     0.020119\n",
            "min      -0.081165    -0.056728    -0.052518\n",
            "25%      -0.016360    -0.001080    -0.012478\n",
            "50%      -0.003115     0.011341     0.001272\n",
            "75%       0.009721     0.023982     0.014948\n",
            "max       0.068161     0.065659     0.068643\n"
          ],
          "name": "stdout"
        }
      ]
    },
    {
      "cell_type": "code",
      "metadata": {
        "colab": {
          "base_uri": "https://localhost:8080/"
        },
        "id": "ZBYM0pyMrIV3",
        "outputId": "89ca9997-4093-4950-a021-a392165fdd56"
      },
      "source": [
        "print('FM regression esimate of expeced factor returns: \\n', np.average(E_fhat.T,axis=0))\n",
        "print('FM regression esimate of standard errors: \\n', np.std(E_fhat.T,axis=0))"
      ],
      "execution_count": 15,
      "outputs": [
        {
          "output_type": "stream",
          "text": [
            "FM regression esimate of expeced factor returns: \n",
            " [-0.00344017  0.01140894  0.00098873]\n",
            "FM regression esimate of standard errors: \n",
            " [0.01984397 0.01971612 0.02010855]\n"
          ],
          "name": "stdout"
        }
      ]
    }
  ]
}