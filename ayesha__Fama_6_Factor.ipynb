{
  "nbformat": 4,
  "nbformat_minor": 0,
  "metadata": {
    "colab": {
      "name": "ayesha_ Fama_6_Factor.ipynb",
      "provenance": [],
      "collapsed_sections": [],
      "include_colab_link": true
    },
    "kernelspec": {
      "name": "python3",
      "display_name": "Python 3"
    }
  },
  "cells": [
    {
      "cell_type": "markdown",
      "metadata": {
        "id": "view-in-github",
        "colab_type": "text"
      },
      "source": [
        "<a href=\"https://colab.research.google.com/github/faisalnawazmir/Econometrics-ML_for_Finance/blob/main/ayesha__Fama_6_Factor.ipynb\" target=\"_parent\"><img src=\"https://colab.research.google.com/assets/colab-badge.svg\" alt=\"Open In Colab\"/></a>"
      ]
    },
    {
      "cell_type": "markdown",
      "metadata": {
        "id": "0-NQyg8uMPsr"
      },
      "source": [
        "#Fama French Six Factor Model"
      ]
    },
    {
      "cell_type": "code",
      "metadata": {
        "id": "3bxnSfTYMVfW",
        "colab": {
          "base_uri": "https://localhost:8080/"
        },
        "outputId": "2b2c198c-6b5c-405d-fc5e-fe48004218d8"
      },
      "source": [
        "import numpy as np\n",
        "import pandas as pd\n",
        "from sklearn.linear_model import LinearRegression \n",
        "from sklearn.metrics import mean_squared_error, r2_score\n",
        "import statsmodels.api as sm \n",
        "from tabulate import tabulate\n",
        "import time\n",
        "np.random.seed(12345)"
      ],
      "execution_count": 1,
      "outputs": [
        {
          "output_type": "stream",
          "text": [
            "/usr/local/lib/python3.7/dist-packages/statsmodels/tools/_testing.py:19: FutureWarning: pandas.util.testing is deprecated. Use the functions in the public API at pandas.testing instead.\n",
            "  import pandas.util.testing as tm\n"
          ],
          "name": "stderr"
        }
      ]
    },
    {
      "cell_type": "code",
      "metadata": {
        "colab": {
          "base_uri": "https://localhost:8080/",
          "height": 262
        },
        "id": "TG-06u7FO5en",
        "outputId": "4db10206-5d69-41ae-be92-afe00b429c63"
      },
      "source": [
        "#copying data from excel file 25 portfoli\n",
        "from google.colab import drive\n",
        "drive.mount('/gdrive')\n",
        "%cd /gdrive\n",
        "file = r'/gdrive/My Drive/data/Factors FF_ayesha.xlsx'\n",
        "df = pd.read_excel(file)\n",
        "df.head()"
      ],
      "execution_count": 34,
      "outputs": [
        {
          "output_type": "stream",
          "text": [
            "Drive already mounted at /gdrive; to attempt to forcibly remount, call drive.mount(\"/gdrive\", force_remount=True).\n",
            "/gdrive\n"
          ],
          "name": "stdout"
        },
        {
          "output_type": "execute_result",
          "data": {
            "text/html": [
              "<div>\n",
              "<style scoped>\n",
              "    .dataframe tbody tr th:only-of-type {\n",
              "        vertical-align: middle;\n",
              "    }\n",
              "\n",
              "    .dataframe tbody tr th {\n",
              "        vertical-align: top;\n",
              "    }\n",
              "\n",
              "    .dataframe thead th {\n",
              "        text-align: right;\n",
              "    }\n",
              "</style>\n",
              "<table border=\"1\" class=\"dataframe\">\n",
              "  <thead>\n",
              "    <tr style=\"text-align: right;\">\n",
              "      <th></th>\n",
              "      <th>Date</th>\n",
              "      <th>p1</th>\n",
              "      <th>p2</th>\n",
              "      <th>p3</th>\n",
              "      <th>p4</th>\n",
              "      <th>p5</th>\n",
              "      <th>p6</th>\n",
              "      <th>p7</th>\n",
              "      <th>p8</th>\n",
              "      <th>p9</th>\n",
              "      <th>p10</th>\n",
              "      <th>p11</th>\n",
              "      <th>p12</th>\n",
              "      <th>p13</th>\n",
              "      <th>p14</th>\n",
              "      <th>p15</th>\n",
              "      <th>p16</th>\n",
              "      <th>p17</th>\n",
              "      <th>p18</th>\n",
              "      <th>p19</th>\n",
              "      <th>p20</th>\n",
              "      <th>p21</th>\n",
              "      <th>p22</th>\n",
              "      <th>p23</th>\n",
              "      <th>p24</th>\n",
              "      <th>p25</th>\n",
              "      <th>Mkt_rf</th>\n",
              "      <th>SMB</th>\n",
              "      <th>HML</th>\n",
              "      <th>WML</th>\n",
              "      <th>CMA</th>\n",
              "      <th>RMW</th>\n",
              "      <th>Reg</th>\n",
              "    </tr>\n",
              "  </thead>\n",
              "  <tbody>\n",
              "    <tr>\n",
              "      <th>0</th>\n",
              "      <td>2000-01-01</td>\n",
              "      <td>0.178104</td>\n",
              "      <td>0.149602</td>\n",
              "      <td>0.142498</td>\n",
              "      <td>0.121144</td>\n",
              "      <td>0.110616</td>\n",
              "      <td>0.117735</td>\n",
              "      <td>0.110664</td>\n",
              "      <td>0.092240</td>\n",
              "      <td>0.068990</td>\n",
              "      <td>0.076588</td>\n",
              "      <td>0.064833</td>\n",
              "      <td>0.058543</td>\n",
              "      <td>0.049305</td>\n",
              "      <td>0.035943</td>\n",
              "      <td>0.026366</td>\n",
              "      <td>0.031131</td>\n",
              "      <td>0.017331</td>\n",
              "      <td>0.001694</td>\n",
              "      <td>-0.009736</td>\n",
              "      <td>-0.014255</td>\n",
              "      <td>-0.015920</td>\n",
              "      <td>-0.021284</td>\n",
              "      <td>-0.008742</td>\n",
              "      <td>-0.037421</td>\n",
              "      <td>-0.035024</td>\n",
              "      <td>-0.040109</td>\n",
              "      <td>-0.009489</td>\n",
              "      <td>0.007305</td>\n",
              "      <td>0.029458</td>\n",
              "      <td>0.015903</td>\n",
              "      <td>0.003310</td>\n",
              "      <td>-0.040229</td>\n",
              "    </tr>\n",
              "    <tr>\n",
              "      <th>1</th>\n",
              "      <td>2000-01-02</td>\n",
              "      <td>0.092635</td>\n",
              "      <td>0.107413</td>\n",
              "      <td>0.108822</td>\n",
              "      <td>0.108591</td>\n",
              "      <td>0.111967</td>\n",
              "      <td>0.111211</td>\n",
              "      <td>0.119137</td>\n",
              "      <td>0.116468</td>\n",
              "      <td>0.120271</td>\n",
              "      <td>0.116661</td>\n",
              "      <td>0.101254</td>\n",
              "      <td>0.098793</td>\n",
              "      <td>0.109843</td>\n",
              "      <td>0.072183</td>\n",
              "      <td>0.070388</td>\n",
              "      <td>0.074738</td>\n",
              "      <td>0.064502</td>\n",
              "      <td>0.077777</td>\n",
              "      <td>0.083013</td>\n",
              "      <td>0.083013</td>\n",
              "      <td>0.104342</td>\n",
              "      <td>0.075977</td>\n",
              "      <td>0.085660</td>\n",
              "      <td>0.080385</td>\n",
              "      <td>0.090332</td>\n",
              "      <td>-0.035767</td>\n",
              "      <td>-0.005061</td>\n",
              "      <td>0.017978</td>\n",
              "      <td>0.036510</td>\n",
              "      <td>0.018628</td>\n",
              "      <td>0.008605</td>\n",
              "      <td>-0.016751</td>\n",
              "    </tr>\n",
              "    <tr>\n",
              "      <th>2</th>\n",
              "      <td>2000-01-03</td>\n",
              "      <td>0.132933</td>\n",
              "      <td>0.111175</td>\n",
              "      <td>0.102088</td>\n",
              "      <td>0.092935</td>\n",
              "      <td>0.091619</td>\n",
              "      <td>0.087737</td>\n",
              "      <td>0.089550</td>\n",
              "      <td>0.080550</td>\n",
              "      <td>0.045984</td>\n",
              "      <td>0.025300</td>\n",
              "      <td>0.020605</td>\n",
              "      <td>0.034820</td>\n",
              "      <td>0.055351</td>\n",
              "      <td>0.061460</td>\n",
              "      <td>0.068001</td>\n",
              "      <td>0.070566</td>\n",
              "      <td>0.112957</td>\n",
              "      <td>0.103677</td>\n",
              "      <td>0.108457</td>\n",
              "      <td>0.120620</td>\n",
              "      <td>0.116043</td>\n",
              "      <td>0.125302</td>\n",
              "      <td>0.154267</td>\n",
              "      <td>0.093937</td>\n",
              "      <td>0.108526</td>\n",
              "      <td>-0.081055</td>\n",
              "      <td>0.013123</td>\n",
              "      <td>0.017057</td>\n",
              "      <td>0.031607</td>\n",
              "      <td>0.007759</td>\n",
              "      <td>0.001593</td>\n",
              "      <td>0.187280</td>\n",
              "    </tr>\n",
              "    <tr>\n",
              "      <th>3</th>\n",
              "      <td>2000-01-04</td>\n",
              "      <td>0.019185</td>\n",
              "      <td>0.023567</td>\n",
              "      <td>0.046560</td>\n",
              "      <td>0.033526</td>\n",
              "      <td>0.054471</td>\n",
              "      <td>0.060460</td>\n",
              "      <td>0.068659</td>\n",
              "      <td>0.065226</td>\n",
              "      <td>0.065841</td>\n",
              "      <td>0.024099</td>\n",
              "      <td>0.018128</td>\n",
              "      <td>0.013584</td>\n",
              "      <td>0.007942</td>\n",
              "      <td>0.003133</td>\n",
              "      <td>-0.027661</td>\n",
              "      <td>-0.019598</td>\n",
              "      <td>-0.010939</td>\n",
              "      <td>0.000233</td>\n",
              "      <td>-0.005809</td>\n",
              "      <td>-0.002867</td>\n",
              "      <td>0.013325</td>\n",
              "      <td>0.008685</td>\n",
              "      <td>0.025226</td>\n",
              "      <td>0.049480</td>\n",
              "      <td>0.052285</td>\n",
              "      <td>0.022559</td>\n",
              "      <td>0.019400</td>\n",
              "      <td>0.022753</td>\n",
              "      <td>0.043048</td>\n",
              "      <td>0.022607</td>\n",
              "      <td>0.016058</td>\n",
              "      <td>-0.003890</td>\n",
              "    </tr>\n",
              "    <tr>\n",
              "      <th>4</th>\n",
              "      <td>2000-01-05</td>\n",
              "      <td>0.004970</td>\n",
              "      <td>-0.007078</td>\n",
              "      <td>-0.009864</td>\n",
              "      <td>-0.000072</td>\n",
              "      <td>0.003017</td>\n",
              "      <td>0.014748</td>\n",
              "      <td>0.014504</td>\n",
              "      <td>0.016163</td>\n",
              "      <td>0.008998</td>\n",
              "      <td>0.035545</td>\n",
              "      <td>0.028835</td>\n",
              "      <td>0.036682</td>\n",
              "      <td>0.041242</td>\n",
              "      <td>0.036976</td>\n",
              "      <td>0.053052</td>\n",
              "      <td>0.062109</td>\n",
              "      <td>0.054398</td>\n",
              "      <td>0.057881</td>\n",
              "      <td>0.079518</td>\n",
              "      <td>0.072934</td>\n",
              "      <td>0.087000</td>\n",
              "      <td>0.090995</td>\n",
              "      <td>0.122150</td>\n",
              "      <td>0.112607</td>\n",
              "      <td>0.164821</td>\n",
              "      <td>-0.001434</td>\n",
              "      <td>0.011741</td>\n",
              "      <td>0.019596</td>\n",
              "      <td>0.040089</td>\n",
              "      <td>0.014866</td>\n",
              "      <td>0.023866</td>\n",
              "      <td>0.046271</td>\n",
              "    </tr>\n",
              "  </tbody>\n",
              "</table>\n",
              "</div>"
            ],
            "text/plain": [
              "        Date        p1        p2  ...       CMA       RMW       Reg\n",
              "0 2000-01-01  0.178104  0.149602  ...  0.015903  0.003310 -0.040229\n",
              "1 2000-01-02  0.092635  0.107413  ...  0.018628  0.008605 -0.016751\n",
              "2 2000-01-03  0.132933  0.111175  ...  0.007759  0.001593  0.187280\n",
              "3 2000-01-04  0.019185  0.023567  ...  0.022607  0.016058 -0.003890\n",
              "4 2000-01-05  0.004970 -0.007078  ...  0.014866  0.023866  0.046271\n",
              "\n",
              "[5 rows x 33 columns]"
            ]
          },
          "metadata": {
            "tags": []
          },
          "execution_count": 34
        }
      ]
    },
    {
      "cell_type": "code",
      "metadata": {
        "id": "iCcHkAxhRDVx"
      },
      "source": [
        "#N = 25  # of firms in an economy, here # of portfolios, here len(data)\n",
        "T = len(df)  # length of periods # here 1136#df.columns.array\n",
        "#  data\n",
        "data = df.loc[:,'p1':'p25']\n",
        "#data.shape#(T,N)\n",
        "#x,y=data.shape\n",
        "#N=y#  # of firms in an economy, here # of portfolios, here len(data)\n",
        "#T = data.shape[0]\n",
        "N = data.shape[1]"
      ],
      "execution_count": 35,
      "outputs": []
    },
    {
      "cell_type": "code",
      "metadata": {
        "id": "KxRoNnjRNyL9"
      },
      "source": [
        "# simulate factor loadings (ie, coefficients)\n",
        "b_mkt = np.zeros((1,N)) # true loadings for market factor\n",
        "b_smb = np.zeros((1,N)) # true loadings for size factor\n",
        "b_hml = np.zeros((1,N)) # true loadings for value factor\n",
        "b_cma = np.zeros((1,N)) # true loadings for value factor\n",
        "b_rmw = np.zeros((1,N)) # true loadings for value factor\n",
        "b_umd=np.zeros((1,N)) # true loadings for value factor"
      ],
      "execution_count": 36,
      "outputs": []
    },
    {
      "cell_type": "code",
      "metadata": {
        "id": "03H5lY3KTxUQ"
      },
      "source": [
        "#  factor returns\n",
        "mkt = df['Mkt_rf'] # market factor\n",
        "smb = df['SMB'] # size factor\n",
        "hml = df['HML'] # value factor\n",
        "cma = df['CMA'] # market factor\n",
        "rmw = df['RMW'] # size factor\n",
        "umd=df['WML']# umd is growth factor\n"
      ],
      "execution_count": 37,
      "outputs": []
    },
    {
      "cell_type": "code",
      "metadata": {
        "colab": {
          "base_uri": "https://localhost:8080/",
          "height": 206
        },
        "id": "HSqR7bS0XF-x",
        "outputId": "ea81e8dd-6d3d-42cd-dc8f-f01deddee720"
      },
      "source": [
        "#data.iloc[:,1]\n",
        "fctrs = df[[\"Mkt_rf\",\"SMB\",\"HML\",\"CMA\",\"RMW\",\"WML\"]]\n",
        "fctrs.head()\n"
      ],
      "execution_count": 38,
      "outputs": [
        {
          "output_type": "execute_result",
          "data": {
            "text/html": [
              "<div>\n",
              "<style scoped>\n",
              "    .dataframe tbody tr th:only-of-type {\n",
              "        vertical-align: middle;\n",
              "    }\n",
              "\n",
              "    .dataframe tbody tr th {\n",
              "        vertical-align: top;\n",
              "    }\n",
              "\n",
              "    .dataframe thead th {\n",
              "        text-align: right;\n",
              "    }\n",
              "</style>\n",
              "<table border=\"1\" class=\"dataframe\">\n",
              "  <thead>\n",
              "    <tr style=\"text-align: right;\">\n",
              "      <th></th>\n",
              "      <th>Mkt_rf</th>\n",
              "      <th>SMB</th>\n",
              "      <th>HML</th>\n",
              "      <th>CMA</th>\n",
              "      <th>RMW</th>\n",
              "      <th>WML</th>\n",
              "    </tr>\n",
              "  </thead>\n",
              "  <tbody>\n",
              "    <tr>\n",
              "      <th>0</th>\n",
              "      <td>-0.040109</td>\n",
              "      <td>-0.009489</td>\n",
              "      <td>0.007305</td>\n",
              "      <td>0.015903</td>\n",
              "      <td>0.003310</td>\n",
              "      <td>0.029458</td>\n",
              "    </tr>\n",
              "    <tr>\n",
              "      <th>1</th>\n",
              "      <td>-0.035767</td>\n",
              "      <td>-0.005061</td>\n",
              "      <td>0.017978</td>\n",
              "      <td>0.018628</td>\n",
              "      <td>0.008605</td>\n",
              "      <td>0.036510</td>\n",
              "    </tr>\n",
              "    <tr>\n",
              "      <th>2</th>\n",
              "      <td>-0.081055</td>\n",
              "      <td>0.013123</td>\n",
              "      <td>0.017057</td>\n",
              "      <td>0.007759</td>\n",
              "      <td>0.001593</td>\n",
              "      <td>0.031607</td>\n",
              "    </tr>\n",
              "    <tr>\n",
              "      <th>3</th>\n",
              "      <td>0.022559</td>\n",
              "      <td>0.019400</td>\n",
              "      <td>0.022753</td>\n",
              "      <td>0.022607</td>\n",
              "      <td>0.016058</td>\n",
              "      <td>0.043048</td>\n",
              "    </tr>\n",
              "    <tr>\n",
              "      <th>4</th>\n",
              "      <td>-0.001434</td>\n",
              "      <td>0.011741</td>\n",
              "      <td>0.019596</td>\n",
              "      <td>0.014866</td>\n",
              "      <td>0.023866</td>\n",
              "      <td>0.040089</td>\n",
              "    </tr>\n",
              "  </tbody>\n",
              "</table>\n",
              "</div>"
            ],
            "text/plain": [
              "     Mkt_rf       SMB       HML       CMA       RMW       WML\n",
              "0 -0.040109 -0.009489  0.007305  0.015903  0.003310  0.029458\n",
              "1 -0.035767 -0.005061  0.017978  0.018628  0.008605  0.036510\n",
              "2 -0.081055  0.013123  0.017057  0.007759  0.001593  0.031607\n",
              "3  0.022559  0.019400  0.022753  0.022607  0.016058  0.043048\n",
              "4 -0.001434  0.011741  0.019596  0.014866  0.023866  0.040089"
            ]
          },
          "metadata": {
            "tags": []
          },
          "execution_count": 38
        }
      ]
    },
    {
      "cell_type": "code",
      "metadata": {
        "id": "kKFLlGnbdaca"
      },
      "source": [
        "no_factors=fctrs.shape[1]"
      ],
      "execution_count": 39,
      "outputs": []
    },
    {
      "cell_type": "code",
      "metadata": {
        "colab": {
          "base_uri": "https://localhost:8080/"
        },
        "id": "WE8ICMwZV5Nk",
        "outputId": "6e1d5cc2-18ed-4940-c9f6-1eea362b14ea"
      },
      "source": [
        "# Step 1: time series regression firm by firm\n",
        "#fctrs = np.c_[mkt, smb, hml]\n",
        "# of factors\n",
        "b = np.zeros(no_factors)\n",
        "for i in range(N): # firm-by-firm time series regression\n",
        "  model = LinearRegression()\n",
        "  model.fit(fctrs,data.iloc[:,i])\n",
        "  b = np.c_[b,model.coef_]\n",
        "\n",
        "b  = np.transpose(b[:,1:])\n",
        "b.shape\n",
        "#b should be 0.1, 0.2"
      ],
      "execution_count": 40,
      "outputs": [
        {
          "output_type": "execute_result",
          "data": {
            "text/plain": [
              "(25, 6)"
            ]
          },
          "metadata": {
            "tags": []
          },
          "execution_count": 40
        }
      ]
    },
    {
      "cell_type": "markdown",
      "metadata": {
        "id": "7xE-JEL6My8e"
      },
      "source": [
        ""
      ]
    },
    {
      "cell_type": "code",
      "metadata": {
        "id": "3LvYh6Mjs7wi"
      },
      "source": [
        "#b is bhat\n",
        "#b\n",
        "#b.shape# (N,#factors)\n",
        "df_bhat = pd.DataFrame(b)\n",
        "df_bhat.columns = ['b_01','b_02','b_03','b_04','b_05','b_06']# change according factos\n",
        "#print(df_bhat.head())\n",
        "\n",
        "from google.colab import  drive\n",
        "df_bhat.to_csv('/gdrive/My Drive/data/bhat_ayesha_6factors.csv')"
      ],
      "execution_count": 41,
      "outputs": []
    },
    {
      "cell_type": "code",
      "metadata": {
        "colab": {
          "base_uri": "https://localhost:8080/"
        },
        "id": "225EJNSVtLJ8",
        "outputId": "9cb23e27-19b5-4689-fd7a-063ff73573bf"
      },
      "source": [
        "# Step 2: cross sectional regression time-by-time\n",
        "f = np.zeros(no_factors)\n",
        "for i in range(T): # time-by-time cross sectional regression\n",
        "  model = LinearRegression()\n",
        "  model.fit(b,data.iloc[i,:])\n",
        "  f = np.c_[f,model.coef_]\n",
        "\n",
        "f = np.transpose(f[:,1:])\n",
        "df_gamma = pd.DataFrame(f)\n",
        "df_gamma.columns = ['mkt','smb','hml','cma','rmw','umd']\n",
        "print(df_gamma.describe())\n",
        "print('Median estimate:', np.median(f,axis=0))\n",
        "print('Standard errors (without Shanken correction):', np.std(f,axis=0)/T**.5)"
      ],
      "execution_count": 42,
      "outputs": [
        {
          "output_type": "stream",
          "text": [
            "              mkt         smb         hml         cma         rmw         umd\n",
            "count  240.000000  240.000000  240.000000  240.000000  240.000000  240.000000\n",
            "mean     0.013695   -0.002387   -0.008973   -0.002266    0.001594    0.013876\n",
            "std      0.391197    0.102028    0.197719    0.163688    0.153887    0.203843\n",
            "min     -1.612401   -0.505936   -0.683310   -0.457751   -0.470624   -0.732854\n",
            "25%     -0.279039   -0.066171   -0.134508   -0.098293   -0.092688   -0.114621\n",
            "50%      0.039587    0.001391    0.005737   -0.019197   -0.011903    0.013195\n",
            "75%      0.290835    0.064975    0.110178    0.090622    0.092030    0.140601\n",
            "max      0.953261    0.393729    0.490249    0.652990    0.546596    0.713661\n",
            "Median estimate: [ 0.03958745  0.00139073  0.00573665 -0.019197   -0.01190271  0.01319498]\n",
            "Standard errors (without Shanken correction): [0.02519902 0.00657213 0.0127361  0.01054397 0.00991263 0.01313057]\n"
          ],
          "name": "stdout"
        }
      ]
    },
    {
      "cell_type": "code",
      "metadata": {
        "colab": {
          "base_uri": "https://localhost:8080/"
        },
        "id": "h2iYECBFETsE",
        "outputId": "6db8c806-3b3f-4fcd-87f9-47c51b89a5d7"
      },
      "source": [
        "mu=np.median(f,axis=0)\n",
        "sigma=(np.std(f,axis=0))/T**.5\n",
        "tstat=mu/sigma\n",
        "tstat\n",
        "#tstat<1.96"
      ],
      "execution_count": 43,
      "outputs": [
        {
          "output_type": "execute_result",
          "data": {
            "text/plain": [
              "array([ 1.57099174,  0.21161007,  0.45042443, -1.82066089, -1.20076235,\n",
              "        1.00490494])"
            ]
          },
          "metadata": {
            "tags": []
          },
          "execution_count": 43
        }
      ]
    },
    {
      "cell_type": "code",
      "metadata": {
        "id": "4YjK7U5NtLVq"
      },
      "source": [
        "f.shape # (T,#factors)# f or df I assume is gamma hat\n",
        "df_gamma.to_csv('/gdrive/My Drive/data/ayesha_gamma_6factors.csv')"
      ],
      "execution_count": 44,
      "outputs": []
    },
    {
      "cell_type": "code",
      "metadata": {
        "colab": {
          "base_uri": "https://localhost:8080/",
          "height": 226
        },
        "id": "FZm67ZsTtsDb",
        "outputId": "cb2d18ed-f53e-429b-c5a4-5342ae0218d2"
      },
      "source": [
        "df.head()#f and df are same, gamma hat"
      ],
      "execution_count": 45,
      "outputs": [
        {
          "output_type": "execute_result",
          "data": {
            "text/html": [
              "<div>\n",
              "<style scoped>\n",
              "    .dataframe tbody tr th:only-of-type {\n",
              "        vertical-align: middle;\n",
              "    }\n",
              "\n",
              "    .dataframe tbody tr th {\n",
              "        vertical-align: top;\n",
              "    }\n",
              "\n",
              "    .dataframe thead th {\n",
              "        text-align: right;\n",
              "    }\n",
              "</style>\n",
              "<table border=\"1\" class=\"dataframe\">\n",
              "  <thead>\n",
              "    <tr style=\"text-align: right;\">\n",
              "      <th></th>\n",
              "      <th>Date</th>\n",
              "      <th>p1</th>\n",
              "      <th>p2</th>\n",
              "      <th>p3</th>\n",
              "      <th>p4</th>\n",
              "      <th>p5</th>\n",
              "      <th>p6</th>\n",
              "      <th>p7</th>\n",
              "      <th>p8</th>\n",
              "      <th>p9</th>\n",
              "      <th>p10</th>\n",
              "      <th>p11</th>\n",
              "      <th>p12</th>\n",
              "      <th>p13</th>\n",
              "      <th>p14</th>\n",
              "      <th>p15</th>\n",
              "      <th>p16</th>\n",
              "      <th>p17</th>\n",
              "      <th>p18</th>\n",
              "      <th>p19</th>\n",
              "      <th>p20</th>\n",
              "      <th>p21</th>\n",
              "      <th>p22</th>\n",
              "      <th>p23</th>\n",
              "      <th>p24</th>\n",
              "      <th>p25</th>\n",
              "      <th>Mkt_rf</th>\n",
              "      <th>SMB</th>\n",
              "      <th>HML</th>\n",
              "      <th>WML</th>\n",
              "      <th>CMA</th>\n",
              "      <th>RMW</th>\n",
              "      <th>Reg</th>\n",
              "    </tr>\n",
              "  </thead>\n",
              "  <tbody>\n",
              "    <tr>\n",
              "      <th>0</th>\n",
              "      <td>2000-01-01</td>\n",
              "      <td>0.178104</td>\n",
              "      <td>0.149602</td>\n",
              "      <td>0.142498</td>\n",
              "      <td>0.121144</td>\n",
              "      <td>0.110616</td>\n",
              "      <td>0.117735</td>\n",
              "      <td>0.110664</td>\n",
              "      <td>0.092240</td>\n",
              "      <td>0.068990</td>\n",
              "      <td>0.076588</td>\n",
              "      <td>0.064833</td>\n",
              "      <td>0.058543</td>\n",
              "      <td>0.049305</td>\n",
              "      <td>0.035943</td>\n",
              "      <td>0.026366</td>\n",
              "      <td>0.031131</td>\n",
              "      <td>0.017331</td>\n",
              "      <td>0.001694</td>\n",
              "      <td>-0.009736</td>\n",
              "      <td>-0.014255</td>\n",
              "      <td>-0.015920</td>\n",
              "      <td>-0.021284</td>\n",
              "      <td>-0.008742</td>\n",
              "      <td>-0.037421</td>\n",
              "      <td>-0.035024</td>\n",
              "      <td>-0.040109</td>\n",
              "      <td>-0.009489</td>\n",
              "      <td>0.007305</td>\n",
              "      <td>0.029458</td>\n",
              "      <td>0.015903</td>\n",
              "      <td>0.003310</td>\n",
              "      <td>-0.040229</td>\n",
              "    </tr>\n",
              "    <tr>\n",
              "      <th>1</th>\n",
              "      <td>2000-01-02</td>\n",
              "      <td>0.092635</td>\n",
              "      <td>0.107413</td>\n",
              "      <td>0.108822</td>\n",
              "      <td>0.108591</td>\n",
              "      <td>0.111967</td>\n",
              "      <td>0.111211</td>\n",
              "      <td>0.119137</td>\n",
              "      <td>0.116468</td>\n",
              "      <td>0.120271</td>\n",
              "      <td>0.116661</td>\n",
              "      <td>0.101254</td>\n",
              "      <td>0.098793</td>\n",
              "      <td>0.109843</td>\n",
              "      <td>0.072183</td>\n",
              "      <td>0.070388</td>\n",
              "      <td>0.074738</td>\n",
              "      <td>0.064502</td>\n",
              "      <td>0.077777</td>\n",
              "      <td>0.083013</td>\n",
              "      <td>0.083013</td>\n",
              "      <td>0.104342</td>\n",
              "      <td>0.075977</td>\n",
              "      <td>0.085660</td>\n",
              "      <td>0.080385</td>\n",
              "      <td>0.090332</td>\n",
              "      <td>-0.035767</td>\n",
              "      <td>-0.005061</td>\n",
              "      <td>0.017978</td>\n",
              "      <td>0.036510</td>\n",
              "      <td>0.018628</td>\n",
              "      <td>0.008605</td>\n",
              "      <td>-0.016751</td>\n",
              "    </tr>\n",
              "    <tr>\n",
              "      <th>2</th>\n",
              "      <td>2000-01-03</td>\n",
              "      <td>0.132933</td>\n",
              "      <td>0.111175</td>\n",
              "      <td>0.102088</td>\n",
              "      <td>0.092935</td>\n",
              "      <td>0.091619</td>\n",
              "      <td>0.087737</td>\n",
              "      <td>0.089550</td>\n",
              "      <td>0.080550</td>\n",
              "      <td>0.045984</td>\n",
              "      <td>0.025300</td>\n",
              "      <td>0.020605</td>\n",
              "      <td>0.034820</td>\n",
              "      <td>0.055351</td>\n",
              "      <td>0.061460</td>\n",
              "      <td>0.068001</td>\n",
              "      <td>0.070566</td>\n",
              "      <td>0.112957</td>\n",
              "      <td>0.103677</td>\n",
              "      <td>0.108457</td>\n",
              "      <td>0.120620</td>\n",
              "      <td>0.116043</td>\n",
              "      <td>0.125302</td>\n",
              "      <td>0.154267</td>\n",
              "      <td>0.093937</td>\n",
              "      <td>0.108526</td>\n",
              "      <td>-0.081055</td>\n",
              "      <td>0.013123</td>\n",
              "      <td>0.017057</td>\n",
              "      <td>0.031607</td>\n",
              "      <td>0.007759</td>\n",
              "      <td>0.001593</td>\n",
              "      <td>0.187280</td>\n",
              "    </tr>\n",
              "    <tr>\n",
              "      <th>3</th>\n",
              "      <td>2000-01-04</td>\n",
              "      <td>0.019185</td>\n",
              "      <td>0.023567</td>\n",
              "      <td>0.046560</td>\n",
              "      <td>0.033526</td>\n",
              "      <td>0.054471</td>\n",
              "      <td>0.060460</td>\n",
              "      <td>0.068659</td>\n",
              "      <td>0.065226</td>\n",
              "      <td>0.065841</td>\n",
              "      <td>0.024099</td>\n",
              "      <td>0.018128</td>\n",
              "      <td>0.013584</td>\n",
              "      <td>0.007942</td>\n",
              "      <td>0.003133</td>\n",
              "      <td>-0.027661</td>\n",
              "      <td>-0.019598</td>\n",
              "      <td>-0.010939</td>\n",
              "      <td>0.000233</td>\n",
              "      <td>-0.005809</td>\n",
              "      <td>-0.002867</td>\n",
              "      <td>0.013325</td>\n",
              "      <td>0.008685</td>\n",
              "      <td>0.025226</td>\n",
              "      <td>0.049480</td>\n",
              "      <td>0.052285</td>\n",
              "      <td>0.022559</td>\n",
              "      <td>0.019400</td>\n",
              "      <td>0.022753</td>\n",
              "      <td>0.043048</td>\n",
              "      <td>0.022607</td>\n",
              "      <td>0.016058</td>\n",
              "      <td>-0.003890</td>\n",
              "    </tr>\n",
              "    <tr>\n",
              "      <th>4</th>\n",
              "      <td>2000-01-05</td>\n",
              "      <td>0.004970</td>\n",
              "      <td>-0.007078</td>\n",
              "      <td>-0.009864</td>\n",
              "      <td>-0.000072</td>\n",
              "      <td>0.003017</td>\n",
              "      <td>0.014748</td>\n",
              "      <td>0.014504</td>\n",
              "      <td>0.016163</td>\n",
              "      <td>0.008998</td>\n",
              "      <td>0.035545</td>\n",
              "      <td>0.028835</td>\n",
              "      <td>0.036682</td>\n",
              "      <td>0.041242</td>\n",
              "      <td>0.036976</td>\n",
              "      <td>0.053052</td>\n",
              "      <td>0.062109</td>\n",
              "      <td>0.054398</td>\n",
              "      <td>0.057881</td>\n",
              "      <td>0.079518</td>\n",
              "      <td>0.072934</td>\n",
              "      <td>0.087000</td>\n",
              "      <td>0.090995</td>\n",
              "      <td>0.122150</td>\n",
              "      <td>0.112607</td>\n",
              "      <td>0.164821</td>\n",
              "      <td>-0.001434</td>\n",
              "      <td>0.011741</td>\n",
              "      <td>0.019596</td>\n",
              "      <td>0.040089</td>\n",
              "      <td>0.014866</td>\n",
              "      <td>0.023866</td>\n",
              "      <td>0.046271</td>\n",
              "    </tr>\n",
              "  </tbody>\n",
              "</table>\n",
              "</div>"
            ],
            "text/plain": [
              "        Date        p1        p2  ...       CMA       RMW       Reg\n",
              "0 2000-01-01  0.178104  0.149602  ...  0.015903  0.003310 -0.040229\n",
              "1 2000-01-02  0.092635  0.107413  ...  0.018628  0.008605 -0.016751\n",
              "2 2000-01-03  0.132933  0.111175  ...  0.007759  0.001593  0.187280\n",
              "3 2000-01-04  0.019185  0.023567  ...  0.022607  0.016058 -0.003890\n",
              "4 2000-01-05  0.004970 -0.007078  ...  0.014866  0.023866  0.046271\n",
              "\n",
              "[5 rows x 33 columns]"
            ]
          },
          "metadata": {
            "tags": []
          },
          "execution_count": 45
        }
      ]
    },
    {
      "cell_type": "code",
      "metadata": {
        "id": "xcWF_laDAlyV"
      },
      "source": [
        "import statsmodels.formula.api as smf\n",
        "import pandas as pd\n",
        "import numpy as np\n",
        "import statsmodels.stats.api as sms"
      ],
      "execution_count": 46,
      "outputs": []
    },
    {
      "cell_type": "code",
      "metadata": {
        "id": "O6mWnC7I7Nhi"
      },
      "source": [
        "data_a=data.to_numpy()\n",
        "fctrs_a=fctrs.to_numpy()"
      ],
      "execution_count": 47,
      "outputs": []
    },
    {
      "cell_type": "code",
      "metadata": {
        "id": "5kr2iYqQtsQO",
        "colab": {
          "base_uri": "https://localhost:8080/"
        },
        "outputId": "2150ace2-555e-4e43-8054-cc84eb629616"
      },
      "source": [
        "# Compute standard error with bootstrapping (Shanken correction unnecessary)\n",
        "# One simple bootstrapping \n",
        "\n",
        "indices = np.random.randint(low=0,high=T, size=T)\n",
        "new_data = data_a[indices,:]\n",
        "new_fctrs = fctrs_a[indices,:]\n",
        "xx = indices[0]\n",
        "print(xx)\n",
        "print(new_data[0,:])\n",
        "print(data_a[xx,:])\n"
      ],
      "execution_count": 51,
      "outputs": [
        {
          "output_type": "stream",
          "text": [
            "146\n",
            "[0.19659028 0.14938676 0.12312175 0.10458853 0.09241206 0.06785229\n",
            " 0.0759601  0.0795157  0.07748829 0.06570412 0.05692805 0.04332813\n",
            " 0.03824793 0.04702481 0.03592178 0.03487356 0.02516866 0.02749468\n",
            " 0.02521071 0.0237959  0.01980243 0.03693056 0.04543212 0.05227669\n",
            " 0.04125802]\n",
            "[0.19659028 0.14938676 0.12312175 0.10458853 0.09241206 0.06785229\n",
            " 0.0759601  0.0795157  0.07748829 0.06570412 0.05692805 0.04332813\n",
            " 0.03824793 0.04702481 0.03592178 0.03487356 0.02516866 0.02749468\n",
            " 0.02521071 0.0237959  0.01980243 0.03693056 0.04543212 0.05227669\n",
            " 0.04125802]\n"
          ],
          "name": "stdout"
        }
      ]
    },
    {
      "cell_type": "code",
      "metadata": {
        "id": "WIcAhRZz8ipO"
      },
      "source": [
        "def efhats(data,fctrs): # function to compute average estimated factor return\n",
        "  T = data.shape[0]\n",
        "  N = data.shape[1]\n",
        "  # Step 1: Time series regression\n",
        "  x = np.c_[np.ones(T),fctrs]\n",
        "  M = np.linalg.inv(x.T @ x) @ x.T\n",
        "  bhat = (M @ data)[1:,:].T\n",
        "\n",
        "  # Step 2: cross sectional regression\n",
        "  # Include other control variables here (eg, firm characteristics)\n",
        "  x = np.c_[np.ones(N),bhat]\n",
        "  M = np.linalg.inv(x.T @ x) @ x.T\n",
        "  fhat = (M @ data.T)[1:,:].T\n",
        "  df = pd.DataFrame(fhat)\n",
        "  df.columns = ['mkt','smb','hml','cma','rmw','WML']\n",
        "  E_fhat = np.average(fhat,axis=0)\n",
        "  return E_fhat \n"
      ],
      "execution_count": 49,
      "outputs": []
    },
    {
      "cell_type": "code",
      "metadata": {
        "id": "yx2wkY_z2KlU",
        "colab": {
          "base_uri": "https://localhost:8080/"
        },
        "outputId": "db04139d-1624-495f-bbf8-c9ad979b425c"
      },
      "source": [
        "E_fhat = efhats(data_a,fctrs_a)\n",
        "simn = 10**3 # of bootstrapping\n",
        "t = time.time() # bootstrapping start time \n",
        "for i in range(simn): \n",
        "  indices = np.random.randint(low=0,high=T,size=T) # resample by rows\n",
        "  new_data = data_a[indices,:] # resampled stock return data\n",
        "  new_fctrs = fctrs_a[indices,:] # resampled factor return data\n",
        "  E_fhat = np.c_[E_fhat,efhats(new_data,new_fctrs)]\n",
        "  # to check bootstrapping status\n",
        "  if i % 100 == 0: print(i)\n",
        "\n",
        "print('Simulation duration:', time.time()-t, 'seconds.')\n",
        "df = pd.DataFrame(E_fhat.T)\n",
        "df.columns = ['mkt','smb','hml','cma','rmw','WML']\n",
        "print(df.describe())"
      ],
      "execution_count": 52,
      "outputs": [
        {
          "output_type": "stream",
          "text": [
            "0\n",
            "100\n",
            "200\n",
            "300\n",
            "400\n",
            "500\n",
            "600\n",
            "700\n",
            "800\n",
            "900\n",
            "Simulation duration: 1.029529333114624 seconds.\n",
            "               mkt          smb  ...          rmw          WML\n",
            "count  1001.000000  1001.000000  ...  1001.000000  1001.000000\n",
            "mean      0.003498     0.000444  ...     0.001711     0.007235\n",
            "std       0.024845     0.005292  ...     0.008297     0.012412\n",
            "min      -0.120531    -0.014478  ...    -0.030291    -0.034998\n",
            "25%      -0.011665    -0.002989  ...    -0.003367    -0.000444\n",
            "50%       0.002718     0.000445  ...     0.001677     0.007154\n",
            "75%       0.020409     0.003802  ...     0.006808     0.015275\n",
            "max       0.095880     0.021470  ...     0.033215     0.048248\n",
            "\n",
            "[8 rows x 6 columns]\n"
          ],
          "name": "stdout"
        }
      ]
    },
    {
      "cell_type": "code",
      "metadata": {
        "colab": {
          "base_uri": "https://localhost:8080/"
        },
        "id": "ZBYM0pyMrIV3",
        "outputId": "5493ac7c-80e5-4d5e-fc21-2b882c458049"
      },
      "source": [
        "print('FM regression esimate of expeced factor returns: \\n', np.average(E_fhat.T,axis=0))\n",
        "print('FM regression esimate of standard errors: \\n', np.std(E_fhat.T,axis=0))"
      ],
      "execution_count": 53,
      "outputs": [
        {
          "output_type": "stream",
          "text": [
            "FM regression esimate of expeced factor returns: \n",
            " [ 0.00349785  0.00044426 -0.00259245 -0.00010904  0.00171064  0.00723501]\n",
            "FM regression esimate of standard errors: \n",
            " [0.02483236 0.00528934 0.00979776 0.00975433 0.00829279 0.0124056 ]\n"
          ],
          "name": "stdout"
        }
      ]
    },
    {
      "cell_type": "code",
      "metadata": {
        "id": "S6aHHRjB0RLY",
        "colab": {
          "base_uri": "https://localhost:8080/"
        },
        "outputId": "c7682e92-e121-4d20-bde2-61045ff5ba40"
      },
      "source": [
        "#bootstrap t stats\n",
        "mu_boot=np.average(E_fhat.T,axis=0)\n",
        "sigma_boot=np.std(E_fhat.T,axis=0)\n",
        "tstat_boot=mu_boot/sigma_boot\n",
        "tstat_boot"
      ],
      "execution_count": 24,
      "outputs": [
        {
          "output_type": "execute_result",
          "data": {
            "text/plain": [
              "array([ 0.09297974,  0.2516258 , -0.20584187, -0.00120543,  0.32472047,\n",
              "       -0.19321223])"
            ]
          },
          "metadata": {
            "tags": []
          },
          "execution_count": 24
        }
      ]
    },
    {
      "cell_type": "markdown",
      "metadata": {
        "id": "hHGVO0IeM1J9"
      },
      "source": [
        "https://quant.stackexchange.com/questions/35781/how-to-interpret-the-grs-f-test-values\n",
        "#grs test\n",
        "https://stackoverflow.com/questions/24074481/fama-macbeth-regression-in-python-pandas-or-statsmodels"
      ]
    },
    {
      "cell_type": "code",
      "metadata": {
        "id": "3Jd9dKg2O7AZ",
        "colab": {
          "base_uri": "https://localhost:8080/"
        },
        "outputId": "158aef0b-0473-494d-daed-111be47f031f"
      },
      "source": [
        "pip install rpy2"
      ],
      "execution_count": null,
      "outputs": [
        {
          "output_type": "stream",
          "text": [
            "Requirement already satisfied: rpy2 in /usr/local/lib/python3.7/dist-packages (3.4.4)\n",
            "Requirement already satisfied: cffi>=1.10.0 in /usr/local/lib/python3.7/dist-packages (from rpy2) (1.14.5)\n",
            "Requirement already satisfied: jinja2 in /usr/local/lib/python3.7/dist-packages (from rpy2) (2.11.3)\n",
            "Requirement already satisfied: tzlocal in /usr/local/lib/python3.7/dist-packages (from rpy2) (1.5.1)\n",
            "Requirement already satisfied: pytz in /usr/local/lib/python3.7/dist-packages (from rpy2) (2018.9)\n",
            "Requirement already satisfied: pycparser in /usr/local/lib/python3.7/dist-packages (from cffi>=1.10.0->rpy2) (2.20)\n",
            "Requirement already satisfied: MarkupSafe>=0.23 in /usr/local/lib/python3.7/dist-packages (from jinja2->rpy2) (2.0.1)\n"
          ],
          "name": "stdout"
        }
      ]
    },
    {
      "cell_type": "code",
      "metadata": {
        "id": "jKgMKlZWv3zP"
      },
      "source": [
        "%load_ext rpy2.ipython"
      ],
      "execution_count": null,
      "outputs": []
    },
    {
      "cell_type": "code",
      "metadata": {
        "id": "qiIiQm5ywjt5"
      },
      "source": [
        "%%R -i df -w 5 -h 5 --units in -r 200\n",
        "# import df from global environment\n",
        "# make default figure size 5 by 5 inches with 200 dpi resolution\n",
        "\n",
        "install.packages(\"GRS.test\", repos='http://cran.us.r-project.org', quiet=TRUE)\n",
        "library(GRS.test)\n"
      ],
      "execution_count": 55,
      "outputs": []
    },
    {
      "cell_type": "code",
      "metadata": {
        "colab": {
          "base_uri": "https://localhost:8080/"
        },
        "id": "yiRCSMhB6muu",
        "outputId": "e152a4d6-a649-48f6-b82a-91e00732db57"
      },
      "source": [
        "%%R -i data,fctrs\n",
        "\n",
        "GRS.MLtest(data, fctrs)"
      ],
      "execution_count": 56,
      "outputs": [
        {
          "output_type": "stream",
          "text": [
            "$GRS.stat\n",
            "          GRS\n",
            "[1,] 1.110444\n",
            "\n",
            "$GRS.pval\n",
            "           GRS\n",
            "[1,] 0.3327915\n",
            "\n",
            "$thetas\n",
            "         [,1]\n",
            "[1,] 1.285864\n",
            "\n",
            "$theta\n",
            "         [,1]\n",
            "[1,] 1.162049\n",
            "\n",
            "$ratio\n",
            "          [,1]\n",
            "[1,] 0.9037107\n",
            "\n"
          ],
          "name": "stdout"
        }
      ]
    },
    {
      "cell_type": "code",
      "metadata": {
        "id": "wfxHA5pp8-zR"
      },
      "source": [
        "%%R -o model -o coef\n",
        "model<-GRS.MLtest(data, fctrs)\n",
        "coef<-model$GRS.stat"
      ],
      "execution_count": 57,
      "outputs": []
    },
    {
      "cell_type": "code",
      "metadata": {
        "colab": {
          "base_uri": "https://localhost:8080/"
        },
        "id": "XhyHrMGI9wYs",
        "outputId": "4a65d1a6-1993-44fd-d582-ca0b62722eaf"
      },
      "source": [
        "print(model)"
      ],
      "execution_count": 58,
      "outputs": [
        {
          "output_type": "stream",
          "text": [
            "$GRS.stat\n",
            "          GRS\n",
            "[1,] 1.110444\n",
            "\n",
            "$GRS.pval\n",
            "           GRS\n",
            "[1,] 0.3327915\n",
            "\n",
            "$thetas\n",
            "         [,1]\n",
            "[1,] 1.285864\n",
            "\n",
            "$theta\n",
            "         [,1]\n",
            "[1,] 1.162049\n",
            "\n",
            "$ratio\n",
            "          [,1]\n",
            "[1,] 0.9037107\n",
            "\n",
            "\n"
          ],
          "name": "stdout"
        }
      ]
    },
    {
      "cell_type": "markdown",
      "metadata": {
        "id": "QhzTVJ95-OLC"
      },
      "source": [
        "W statistic given in (7) of GRS (1989) <DOI:10.2307/1913625>\n",
        "\n",
        "GRS.stat=GRS test statistic\n",
        "\n",
        "GRS.pval=its p-value\n",
        "\n",
        "theta=maximum Sharpe ratio of the K factor portfolios\n",
        "\n",
        "thetas=slope of the efficient frontier based on all assets\n",
        "\n",
        "ratio=theta/thetas, proportion of the potential efficiency\n",
        "\n",
        "References\n",
        "Gibbons, Ross, Shanken, 1989. A test of the efficiency of a given portfolio, Econometrica, 57,1121-\n",
        "1152. <DOI:10.2307/1913625>\n"
      ]
    },
    {
      "cell_type": "markdown",
      "metadata": {
        "id": "QSI9gs-I4Ubk"
      },
      "source": [
        "https://towardsdatascience.com/guide-to-r-and-python-in-a-single-jupyter-notebook-ff12532eb3ba\n",
        "\n",
        "https://www.linkedin.com/pulse/interfacing-r-from-python-3-jupyter-notebook-jared-stufft/\n",
        "how to switch R and python\n"
      ]
    },
    {
      "cell_type": "code",
      "metadata": {
        "colab": {
          "base_uri": "https://localhost:8080/"
        },
        "id": "_sTHgIM2_U_T",
        "outputId": "42e26895-786b-47d7-a4e4-faa1e151d989"
      },
      "source": [
        "print(coef)"
      ],
      "execution_count": 59,
      "outputs": [
        {
          "output_type": "stream",
          "text": [
            "[[1.11044351]]\n"
          ],
          "name": "stdout"
        }
      ]
    },
    {
      "cell_type": "code",
      "metadata": {
        "id": "mCRs8b5HAC1q"
      },
      "source": [
        ""
      ],
      "execution_count": null,
      "outputs": []
    }
  ]
}