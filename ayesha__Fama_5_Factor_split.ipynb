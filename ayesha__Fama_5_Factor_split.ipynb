{
  "nbformat": 4,
  "nbformat_minor": 0,
  "metadata": {
    "colab": {
      "name": "ayesha_ Fama_5_Factor_split.ipynb",
      "provenance": [],
      "collapsed_sections": [],
      "include_colab_link": true
    },
    "kernelspec": {
      "name": "python3",
      "display_name": "Python 3"
    }
  },
  "cells": [
    {
      "cell_type": "markdown",
      "metadata": {
        "id": "view-in-github",
        "colab_type": "text"
      },
      "source": [
        "<a href=\"https://colab.research.google.com/github/faisalnawazmir/Econometrics-ML_for_Finance/blob/main/ayesha__Fama_5_Factor_split.ipynb\" target=\"_parent\"><img src=\"https://colab.research.google.com/assets/colab-badge.svg\" alt=\"Open In Colab\"/></a>"
      ]
    },
    {
      "cell_type": "markdown",
      "metadata": {
        "id": "0-NQyg8uMPsr"
      },
      "source": [
        "#Fama French 5 Factor Model  using split data\n",
        "2000-2005,2006-2008,2009-2012,2013-2016,2017-2019 (5 splits)"
      ]
    },
    {
      "cell_type": "code",
      "metadata": {
        "id": "3bxnSfTYMVfW",
        "colab": {
          "base_uri": "https://localhost:8080/"
        },
        "outputId": "1bd19151-9c02-468d-b43f-14e5dbc4bbdc"
      },
      "source": [
        "import numpy as np\n",
        "import pandas as pd\n",
        "from sklearn.linear_model import LinearRegression \n",
        "from sklearn.metrics import mean_squared_error, r2_score\n",
        "import statsmodels.api as sm \n",
        "from tabulate import tabulate\n",
        "import time\n",
        "np.random.seed(12345)"
      ],
      "execution_count": 1,
      "outputs": [
        {
          "output_type": "stream",
          "text": [
            "/usr/local/lib/python3.7/dist-packages/statsmodels/tools/_testing.py:19: FutureWarning: pandas.util.testing is deprecated. Use the functions in the public API at pandas.testing instead.\n",
            "  import pandas.util.testing as tm\n"
          ],
          "name": "stderr"
        }
      ]
    },
    {
      "cell_type": "code",
      "metadata": {
        "id": "mkPeE05u9R12"
      },
      "source": [
        "sb='2017-2019'# split time"
      ],
      "execution_count": 445,
      "outputs": []
    },
    {
      "cell_type": "code",
      "metadata": {
        "colab": {
          "base_uri": "https://localhost:8080/",
          "height": 280
        },
        "id": "TG-06u7FO5en",
        "outputId": "edba8863-5cb8-4413-ca0b-34d4a512a9ba"
      },
      "source": [
        "#copying data from excel file 25 portfoli\n",
        "from google.colab import drive\n",
        "drive.mount('/gdrive')\n",
        "%cd /gdrive\n",
        "file = r'/gdrive/My Drive/data/FF_factor_ split_data.xlsx'\n",
        "df = pd.read_excel(file, sheet_name=sb)\n",
        "df.head()"
      ],
      "execution_count": 446,
      "outputs": [
        {
          "output_type": "stream",
          "text": [
            "Drive already mounted at /gdrive; to attempt to forcibly remount, call drive.mount(\"/gdrive\", force_remount=True).\n",
            "/gdrive\n"
          ],
          "name": "stdout"
        },
        {
          "output_type": "execute_result",
          "data": {
            "text/html": [
              "<div>\n",
              "<style scoped>\n",
              "    .dataframe tbody tr th:only-of-type {\n",
              "        vertical-align: middle;\n",
              "    }\n",
              "\n",
              "    .dataframe tbody tr th {\n",
              "        vertical-align: top;\n",
              "    }\n",
              "\n",
              "    .dataframe thead th {\n",
              "        text-align: right;\n",
              "    }\n",
              "</style>\n",
              "<table border=\"1\" class=\"dataframe\">\n",
              "  <thead>\n",
              "    <tr style=\"text-align: right;\">\n",
              "      <th></th>\n",
              "      <th>Date</th>\n",
              "      <th>Rm-Rf</th>\n",
              "      <th>SMB</th>\n",
              "      <th>HML</th>\n",
              "      <th>WML</th>\n",
              "      <th>CMA</th>\n",
              "      <th>RMW</th>\n",
              "      <th>Unnamed: 7</th>\n",
              "      <th>Unnamed: 8</th>\n",
              "      <th>Date.1</th>\n",
              "      <th>p1</th>\n",
              "      <th>p2</th>\n",
              "      <th>p3</th>\n",
              "      <th>p4</th>\n",
              "      <th>p5</th>\n",
              "      <th>p6</th>\n",
              "      <th>p7</th>\n",
              "      <th>p8</th>\n",
              "      <th>p9</th>\n",
              "      <th>p10</th>\n",
              "      <th>p11</th>\n",
              "      <th>p12</th>\n",
              "      <th>p13</th>\n",
              "      <th>p14</th>\n",
              "      <th>p15</th>\n",
              "      <th>p16</th>\n",
              "      <th>p17</th>\n",
              "      <th>p18</th>\n",
              "      <th>p19</th>\n",
              "      <th>p20</th>\n",
              "      <th>p21</th>\n",
              "      <th>p22</th>\n",
              "      <th>p23</th>\n",
              "      <th>p24</th>\n",
              "      <th>p25</th>\n",
              "    </tr>\n",
              "  </thead>\n",
              "  <tbody>\n",
              "    <tr>\n",
              "      <th>0</th>\n",
              "      <td>2017-01-01</td>\n",
              "      <td>0.014843</td>\n",
              "      <td>-0.011870</td>\n",
              "      <td>0.016629</td>\n",
              "      <td>-0.051640</td>\n",
              "      <td>-0.064430</td>\n",
              "      <td>-0.039684</td>\n",
              "      <td>NaN</td>\n",
              "      <td>NaN</td>\n",
              "      <td>2017-01-01</td>\n",
              "      <td>0.028101</td>\n",
              "      <td>0.035439</td>\n",
              "      <td>0.029060</td>\n",
              "      <td>0.037174</td>\n",
              "      <td>0.017918</td>\n",
              "      <td>0.018859</td>\n",
              "      <td>0.004814</td>\n",
              "      <td>0.009151</td>\n",
              "      <td>0.015900</td>\n",
              "      <td>0.017504</td>\n",
              "      <td>0.004397</td>\n",
              "      <td>0.005888</td>\n",
              "      <td>-0.002140</td>\n",
              "      <td>-0.008795</td>\n",
              "      <td>-0.011016</td>\n",
              "      <td>0.008446</td>\n",
              "      <td>0.011779</td>\n",
              "      <td>0.010971</td>\n",
              "      <td>0.009399</td>\n",
              "      <td>0.004280</td>\n",
              "      <td>-0.003078</td>\n",
              "      <td>-0.001203</td>\n",
              "      <td>-0.009265</td>\n",
              "      <td>-0.003336</td>\n",
              "      <td>-0.005026</td>\n",
              "    </tr>\n",
              "    <tr>\n",
              "      <th>1</th>\n",
              "      <td>2017-01-02</td>\n",
              "      <td>-0.009441</td>\n",
              "      <td>0.027685</td>\n",
              "      <td>0.061939</td>\n",
              "      <td>0.067644</td>\n",
              "      <td>0.024197</td>\n",
              "      <td>0.053202</td>\n",
              "      <td>NaN</td>\n",
              "      <td>NaN</td>\n",
              "      <td>2017-01-02</td>\n",
              "      <td>0.019074</td>\n",
              "      <td>0.036646</td>\n",
              "      <td>0.012164</td>\n",
              "      <td>0.015344</td>\n",
              "      <td>0.013320</td>\n",
              "      <td>-0.004486</td>\n",
              "      <td>-0.032764</td>\n",
              "      <td>-0.025830</td>\n",
              "      <td>-0.011593</td>\n",
              "      <td>-0.012138</td>\n",
              "      <td>0.001202</td>\n",
              "      <td>-0.012525</td>\n",
              "      <td>-0.005592</td>\n",
              "      <td>-0.002651</td>\n",
              "      <td>-0.000181</td>\n",
              "      <td>-0.000252</td>\n",
              "      <td>0.007122</td>\n",
              "      <td>0.007416</td>\n",
              "      <td>0.009492</td>\n",
              "      <td>0.010329</td>\n",
              "      <td>0.007952</td>\n",
              "      <td>0.002430</td>\n",
              "      <td>-0.016385</td>\n",
              "      <td>-0.003015</td>\n",
              "      <td>-0.011921</td>\n",
              "    </tr>\n",
              "    <tr>\n",
              "      <th>2</th>\n",
              "      <td>2017-01-03</td>\n",
              "      <td>-0.012673</td>\n",
              "      <td>0.006536</td>\n",
              "      <td>0.020698</td>\n",
              "      <td>0.020230</td>\n",
              "      <td>0.031361</td>\n",
              "      <td>0.040037</td>\n",
              "      <td>NaN</td>\n",
              "      <td>NaN</td>\n",
              "      <td>2017-01-03</td>\n",
              "      <td>-0.003348</td>\n",
              "      <td>-0.001279</td>\n",
              "      <td>0.002225</td>\n",
              "      <td>0.004086</td>\n",
              "      <td>0.018085</td>\n",
              "      <td>0.012355</td>\n",
              "      <td>0.012143</td>\n",
              "      <td>0.012874</td>\n",
              "      <td>0.018864</td>\n",
              "      <td>0.033527</td>\n",
              "      <td>0.032003</td>\n",
              "      <td>0.030343</td>\n",
              "      <td>0.037981</td>\n",
              "      <td>0.042181</td>\n",
              "      <td>0.038091</td>\n",
              "      <td>0.039651</td>\n",
              "      <td>0.040206</td>\n",
              "      <td>0.032929</td>\n",
              "      <td>0.033645</td>\n",
              "      <td>0.022575</td>\n",
              "      <td>-0.004886</td>\n",
              "      <td>0.021728</td>\n",
              "      <td>0.015195</td>\n",
              "      <td>0.011838</td>\n",
              "      <td>0.000796</td>\n",
              "    </tr>\n",
              "    <tr>\n",
              "      <th>3</th>\n",
              "      <td>2017-01-04</td>\n",
              "      <td>0.018650</td>\n",
              "      <td>-0.018119</td>\n",
              "      <td>-0.032931</td>\n",
              "      <td>-0.071948</td>\n",
              "      <td>-0.023361</td>\n",
              "      <td>0.011972</td>\n",
              "      <td>NaN</td>\n",
              "      <td>NaN</td>\n",
              "      <td>2017-01-04</td>\n",
              "      <td>0.036349</td>\n",
              "      <td>0.033226</td>\n",
              "      <td>0.030330</td>\n",
              "      <td>0.031842</td>\n",
              "      <td>0.003802</td>\n",
              "      <td>0.001619</td>\n",
              "      <td>0.017445</td>\n",
              "      <td>0.012029</td>\n",
              "      <td>0.015243</td>\n",
              "      <td>0.022545</td>\n",
              "      <td>0.023613</td>\n",
              "      <td>0.014514</td>\n",
              "      <td>0.015315</td>\n",
              "      <td>0.024276</td>\n",
              "      <td>0.026057</td>\n",
              "      <td>0.018759</td>\n",
              "      <td>-0.001152</td>\n",
              "      <td>-0.003580</td>\n",
              "      <td>0.000829</td>\n",
              "      <td>-0.008255</td>\n",
              "      <td>-0.013187</td>\n",
              "      <td>-0.025396</td>\n",
              "      <td>-0.041960</td>\n",
              "      <td>-0.047804</td>\n",
              "      <td>-0.060721</td>\n",
              "    </tr>\n",
              "    <tr>\n",
              "      <th>4</th>\n",
              "      <td>2017-01-05</td>\n",
              "      <td>0.020995</td>\n",
              "      <td>0.030408</td>\n",
              "      <td>0.034002</td>\n",
              "      <td>0.037979</td>\n",
              "      <td>0.026583</td>\n",
              "      <td>0.037446</td>\n",
              "      <td>NaN</td>\n",
              "      <td>NaN</td>\n",
              "      <td>2017-01-05</td>\n",
              "      <td>0.147400</td>\n",
              "      <td>0.101580</td>\n",
              "      <td>0.063436</td>\n",
              "      <td>0.048036</td>\n",
              "      <td>0.064690</td>\n",
              "      <td>0.066716</td>\n",
              "      <td>0.045507</td>\n",
              "      <td>0.031786</td>\n",
              "      <td>0.018769</td>\n",
              "      <td>0.008268</td>\n",
              "      <td>0.010219</td>\n",
              "      <td>-0.007003</td>\n",
              "      <td>-0.001505</td>\n",
              "      <td>-0.005142</td>\n",
              "      <td>-0.001723</td>\n",
              "      <td>-0.006371</td>\n",
              "      <td>-0.006311</td>\n",
              "      <td>-0.016328</td>\n",
              "      <td>-0.020156</td>\n",
              "      <td>-0.014850</td>\n",
              "      <td>-0.003571</td>\n",
              "      <td>0.009088</td>\n",
              "      <td>0.006389</td>\n",
              "      <td>-0.001668</td>\n",
              "      <td>-0.004995</td>\n",
              "    </tr>\n",
              "  </tbody>\n",
              "</table>\n",
              "</div>"
            ],
            "text/plain": [
              "        Date     Rm-Rf       SMB  ...       p23       p24       p25\n",
              "0 2017-01-01  0.014843 -0.011870  ... -0.009265 -0.003336 -0.005026\n",
              "1 2017-01-02 -0.009441  0.027685  ... -0.016385 -0.003015 -0.011921\n",
              "2 2017-01-03 -0.012673  0.006536  ...  0.015195  0.011838  0.000796\n",
              "3 2017-01-04  0.018650 -0.018119  ... -0.041960 -0.047804 -0.060721\n",
              "4 2017-01-05  0.020995  0.030408  ...  0.006389 -0.001668 -0.004995\n",
              "\n",
              "[5 rows x 35 columns]"
            ]
          },
          "metadata": {
            "tags": []
          },
          "execution_count": 446
        }
      ]
    },
    {
      "cell_type": "code",
      "metadata": {
        "colab": {
          "base_uri": "https://localhost:8080/",
          "height": 226
        },
        "id": "cMD5Vso1kZae",
        "outputId": "629b775c-ecc4-450c-9b7e-3878e9d78e77"
      },
      "source": [
        "# dropping passed columns\n",
        "df.drop([\"Unnamed: 7\", \"Unnamed: 8\",\"Date.1\"], axis = 1, inplace = True)\n",
        "df.head()\n",
        "#You must specify the axis argument. default is axis = 0 which is rows columns is axis = 1."
      ],
      "execution_count": 447,
      "outputs": [
        {
          "output_type": "execute_result",
          "data": {
            "text/html": [
              "<div>\n",
              "<style scoped>\n",
              "    .dataframe tbody tr th:only-of-type {\n",
              "        vertical-align: middle;\n",
              "    }\n",
              "\n",
              "    .dataframe tbody tr th {\n",
              "        vertical-align: top;\n",
              "    }\n",
              "\n",
              "    .dataframe thead th {\n",
              "        text-align: right;\n",
              "    }\n",
              "</style>\n",
              "<table border=\"1\" class=\"dataframe\">\n",
              "  <thead>\n",
              "    <tr style=\"text-align: right;\">\n",
              "      <th></th>\n",
              "      <th>Date</th>\n",
              "      <th>Rm-Rf</th>\n",
              "      <th>SMB</th>\n",
              "      <th>HML</th>\n",
              "      <th>WML</th>\n",
              "      <th>CMA</th>\n",
              "      <th>RMW</th>\n",
              "      <th>p1</th>\n",
              "      <th>p2</th>\n",
              "      <th>p3</th>\n",
              "      <th>p4</th>\n",
              "      <th>p5</th>\n",
              "      <th>p6</th>\n",
              "      <th>p7</th>\n",
              "      <th>p8</th>\n",
              "      <th>p9</th>\n",
              "      <th>p10</th>\n",
              "      <th>p11</th>\n",
              "      <th>p12</th>\n",
              "      <th>p13</th>\n",
              "      <th>p14</th>\n",
              "      <th>p15</th>\n",
              "      <th>p16</th>\n",
              "      <th>p17</th>\n",
              "      <th>p18</th>\n",
              "      <th>p19</th>\n",
              "      <th>p20</th>\n",
              "      <th>p21</th>\n",
              "      <th>p22</th>\n",
              "      <th>p23</th>\n",
              "      <th>p24</th>\n",
              "      <th>p25</th>\n",
              "    </tr>\n",
              "  </thead>\n",
              "  <tbody>\n",
              "    <tr>\n",
              "      <th>0</th>\n",
              "      <td>2017-01-01</td>\n",
              "      <td>0.014843</td>\n",
              "      <td>-0.011870</td>\n",
              "      <td>0.016629</td>\n",
              "      <td>-0.051640</td>\n",
              "      <td>-0.064430</td>\n",
              "      <td>-0.039684</td>\n",
              "      <td>0.028101</td>\n",
              "      <td>0.035439</td>\n",
              "      <td>0.029060</td>\n",
              "      <td>0.037174</td>\n",
              "      <td>0.017918</td>\n",
              "      <td>0.018859</td>\n",
              "      <td>0.004814</td>\n",
              "      <td>0.009151</td>\n",
              "      <td>0.015900</td>\n",
              "      <td>0.017504</td>\n",
              "      <td>0.004397</td>\n",
              "      <td>0.005888</td>\n",
              "      <td>-0.002140</td>\n",
              "      <td>-0.008795</td>\n",
              "      <td>-0.011016</td>\n",
              "      <td>0.008446</td>\n",
              "      <td>0.011779</td>\n",
              "      <td>0.010971</td>\n",
              "      <td>0.009399</td>\n",
              "      <td>0.004280</td>\n",
              "      <td>-0.003078</td>\n",
              "      <td>-0.001203</td>\n",
              "      <td>-0.009265</td>\n",
              "      <td>-0.003336</td>\n",
              "      <td>-0.005026</td>\n",
              "    </tr>\n",
              "    <tr>\n",
              "      <th>1</th>\n",
              "      <td>2017-01-02</td>\n",
              "      <td>-0.009441</td>\n",
              "      <td>0.027685</td>\n",
              "      <td>0.061939</td>\n",
              "      <td>0.067644</td>\n",
              "      <td>0.024197</td>\n",
              "      <td>0.053202</td>\n",
              "      <td>0.019074</td>\n",
              "      <td>0.036646</td>\n",
              "      <td>0.012164</td>\n",
              "      <td>0.015344</td>\n",
              "      <td>0.013320</td>\n",
              "      <td>-0.004486</td>\n",
              "      <td>-0.032764</td>\n",
              "      <td>-0.025830</td>\n",
              "      <td>-0.011593</td>\n",
              "      <td>-0.012138</td>\n",
              "      <td>0.001202</td>\n",
              "      <td>-0.012525</td>\n",
              "      <td>-0.005592</td>\n",
              "      <td>-0.002651</td>\n",
              "      <td>-0.000181</td>\n",
              "      <td>-0.000252</td>\n",
              "      <td>0.007122</td>\n",
              "      <td>0.007416</td>\n",
              "      <td>0.009492</td>\n",
              "      <td>0.010329</td>\n",
              "      <td>0.007952</td>\n",
              "      <td>0.002430</td>\n",
              "      <td>-0.016385</td>\n",
              "      <td>-0.003015</td>\n",
              "      <td>-0.011921</td>\n",
              "    </tr>\n",
              "    <tr>\n",
              "      <th>2</th>\n",
              "      <td>2017-01-03</td>\n",
              "      <td>-0.012673</td>\n",
              "      <td>0.006536</td>\n",
              "      <td>0.020698</td>\n",
              "      <td>0.020230</td>\n",
              "      <td>0.031361</td>\n",
              "      <td>0.040037</td>\n",
              "      <td>-0.003348</td>\n",
              "      <td>-0.001279</td>\n",
              "      <td>0.002225</td>\n",
              "      <td>0.004086</td>\n",
              "      <td>0.018085</td>\n",
              "      <td>0.012355</td>\n",
              "      <td>0.012143</td>\n",
              "      <td>0.012874</td>\n",
              "      <td>0.018864</td>\n",
              "      <td>0.033527</td>\n",
              "      <td>0.032003</td>\n",
              "      <td>0.030343</td>\n",
              "      <td>0.037981</td>\n",
              "      <td>0.042181</td>\n",
              "      <td>0.038091</td>\n",
              "      <td>0.039651</td>\n",
              "      <td>0.040206</td>\n",
              "      <td>0.032929</td>\n",
              "      <td>0.033645</td>\n",
              "      <td>0.022575</td>\n",
              "      <td>-0.004886</td>\n",
              "      <td>0.021728</td>\n",
              "      <td>0.015195</td>\n",
              "      <td>0.011838</td>\n",
              "      <td>0.000796</td>\n",
              "    </tr>\n",
              "    <tr>\n",
              "      <th>3</th>\n",
              "      <td>2017-01-04</td>\n",
              "      <td>0.018650</td>\n",
              "      <td>-0.018119</td>\n",
              "      <td>-0.032931</td>\n",
              "      <td>-0.071948</td>\n",
              "      <td>-0.023361</td>\n",
              "      <td>0.011972</td>\n",
              "      <td>0.036349</td>\n",
              "      <td>0.033226</td>\n",
              "      <td>0.030330</td>\n",
              "      <td>0.031842</td>\n",
              "      <td>0.003802</td>\n",
              "      <td>0.001619</td>\n",
              "      <td>0.017445</td>\n",
              "      <td>0.012029</td>\n",
              "      <td>0.015243</td>\n",
              "      <td>0.022545</td>\n",
              "      <td>0.023613</td>\n",
              "      <td>0.014514</td>\n",
              "      <td>0.015315</td>\n",
              "      <td>0.024276</td>\n",
              "      <td>0.026057</td>\n",
              "      <td>0.018759</td>\n",
              "      <td>-0.001152</td>\n",
              "      <td>-0.003580</td>\n",
              "      <td>0.000829</td>\n",
              "      <td>-0.008255</td>\n",
              "      <td>-0.013187</td>\n",
              "      <td>-0.025396</td>\n",
              "      <td>-0.041960</td>\n",
              "      <td>-0.047804</td>\n",
              "      <td>-0.060721</td>\n",
              "    </tr>\n",
              "    <tr>\n",
              "      <th>4</th>\n",
              "      <td>2017-01-05</td>\n",
              "      <td>0.020995</td>\n",
              "      <td>0.030408</td>\n",
              "      <td>0.034002</td>\n",
              "      <td>0.037979</td>\n",
              "      <td>0.026583</td>\n",
              "      <td>0.037446</td>\n",
              "      <td>0.147400</td>\n",
              "      <td>0.101580</td>\n",
              "      <td>0.063436</td>\n",
              "      <td>0.048036</td>\n",
              "      <td>0.064690</td>\n",
              "      <td>0.066716</td>\n",
              "      <td>0.045507</td>\n",
              "      <td>0.031786</td>\n",
              "      <td>0.018769</td>\n",
              "      <td>0.008268</td>\n",
              "      <td>0.010219</td>\n",
              "      <td>-0.007003</td>\n",
              "      <td>-0.001505</td>\n",
              "      <td>-0.005142</td>\n",
              "      <td>-0.001723</td>\n",
              "      <td>-0.006371</td>\n",
              "      <td>-0.006311</td>\n",
              "      <td>-0.016328</td>\n",
              "      <td>-0.020156</td>\n",
              "      <td>-0.014850</td>\n",
              "      <td>-0.003571</td>\n",
              "      <td>0.009088</td>\n",
              "      <td>0.006389</td>\n",
              "      <td>-0.001668</td>\n",
              "      <td>-0.004995</td>\n",
              "    </tr>\n",
              "  </tbody>\n",
              "</table>\n",
              "</div>"
            ],
            "text/plain": [
              "        Date     Rm-Rf       SMB  ...       p23       p24       p25\n",
              "0 2017-01-01  0.014843 -0.011870  ... -0.009265 -0.003336 -0.005026\n",
              "1 2017-01-02 -0.009441  0.027685  ... -0.016385 -0.003015 -0.011921\n",
              "2 2017-01-03 -0.012673  0.006536  ...  0.015195  0.011838  0.000796\n",
              "3 2017-01-04  0.018650 -0.018119  ... -0.041960 -0.047804 -0.060721\n",
              "4 2017-01-05  0.020995  0.030408  ...  0.006389 -0.001668 -0.004995\n",
              "\n",
              "[5 rows x 32 columns]"
            ]
          },
          "metadata": {
            "tags": []
          },
          "execution_count": 447
        }
      ]
    },
    {
      "cell_type": "code",
      "metadata": {
        "id": "iCcHkAxhRDVx"
      },
      "source": [
        "#N = 25  # of firms in an economy, here # of portfolios, here len(data)\n",
        "T = len(df)  # length of periods # here 1136#df.columns.array\n",
        "#  data\n",
        "data = df.loc[:,'p1':'p25']\n",
        "#data.shape#(T,N)\n",
        "#x,y=data.shape\n",
        "#N=y#  # of firms in an economy, here # of portfolios, here len(data)\n",
        "#T = data.shape[0]\n",
        "N = data.shape[1]"
      ],
      "execution_count": 448,
      "outputs": []
    },
    {
      "cell_type": "code",
      "metadata": {
        "id": "2jV07dsBJU-1"
      },
      "source": [
        "b_mkt = np.zeros((1,N)) # true loadings for market factor\n",
        "b_smb = np.zeros((1,N)) # true loadings for size factor\n",
        "b_hml = np.zeros((1,N)) # true loadings for value factor\n",
        "b_cma = np.zeros((1,N)) # true loadings for value factor\n",
        "b_rmw = np.zeros((1,N)) # true loadings for value factor\n",
        "#b_umd=np.zeros((1,N)) # it is 6th factor "
      ],
      "execution_count": 449,
      "outputs": []
    },
    {
      "cell_type": "code",
      "metadata": {
        "id": "NfigWhd6Jdrw"
      },
      "source": [
        "#  factor returns\n",
        "mkt = df['Rm-Rf'] # market factor\n",
        "smb = df['SMB'] # size factor\n",
        "hml = df['HML'] # value factor\n",
        "cma = df['CMA'] # market factor\n",
        "rmw = df['RMW'] # size factor\n",
        "#umd=df['WML']# umd is growth factor"
      ],
      "execution_count": 450,
      "outputs": []
    },
    {
      "cell_type": "code",
      "metadata": {
        "colab": {
          "base_uri": "https://localhost:8080/",
          "height": 206
        },
        "id": "HSqR7bS0XF-x",
        "outputId": "e2cedd45-b01d-4309-c47a-0c049d5d7d05"
      },
      "source": [
        "#data.iloc[:,1]\n",
        "fctrs = df[[\"Rm-Rf\",\"SMB\",\"HML\",\"CMA\",\"RMW\"]]\n",
        "fctrs.head()\n"
      ],
      "execution_count": 451,
      "outputs": [
        {
          "output_type": "execute_result",
          "data": {
            "text/html": [
              "<div>\n",
              "<style scoped>\n",
              "    .dataframe tbody tr th:only-of-type {\n",
              "        vertical-align: middle;\n",
              "    }\n",
              "\n",
              "    .dataframe tbody tr th {\n",
              "        vertical-align: top;\n",
              "    }\n",
              "\n",
              "    .dataframe thead th {\n",
              "        text-align: right;\n",
              "    }\n",
              "</style>\n",
              "<table border=\"1\" class=\"dataframe\">\n",
              "  <thead>\n",
              "    <tr style=\"text-align: right;\">\n",
              "      <th></th>\n",
              "      <th>Rm-Rf</th>\n",
              "      <th>SMB</th>\n",
              "      <th>HML</th>\n",
              "      <th>CMA</th>\n",
              "      <th>RMW</th>\n",
              "    </tr>\n",
              "  </thead>\n",
              "  <tbody>\n",
              "    <tr>\n",
              "      <th>0</th>\n",
              "      <td>0.014843</td>\n",
              "      <td>-0.011870</td>\n",
              "      <td>0.016629</td>\n",
              "      <td>-0.064430</td>\n",
              "      <td>-0.039684</td>\n",
              "    </tr>\n",
              "    <tr>\n",
              "      <th>1</th>\n",
              "      <td>-0.009441</td>\n",
              "      <td>0.027685</td>\n",
              "      <td>0.061939</td>\n",
              "      <td>0.024197</td>\n",
              "      <td>0.053202</td>\n",
              "    </tr>\n",
              "    <tr>\n",
              "      <th>2</th>\n",
              "      <td>-0.012673</td>\n",
              "      <td>0.006536</td>\n",
              "      <td>0.020698</td>\n",
              "      <td>0.031361</td>\n",
              "      <td>0.040037</td>\n",
              "    </tr>\n",
              "    <tr>\n",
              "      <th>3</th>\n",
              "      <td>0.018650</td>\n",
              "      <td>-0.018119</td>\n",
              "      <td>-0.032931</td>\n",
              "      <td>-0.023361</td>\n",
              "      <td>0.011972</td>\n",
              "    </tr>\n",
              "    <tr>\n",
              "      <th>4</th>\n",
              "      <td>0.020995</td>\n",
              "      <td>0.030408</td>\n",
              "      <td>0.034002</td>\n",
              "      <td>0.026583</td>\n",
              "      <td>0.037446</td>\n",
              "    </tr>\n",
              "  </tbody>\n",
              "</table>\n",
              "</div>"
            ],
            "text/plain": [
              "      Rm-Rf       SMB       HML       CMA       RMW\n",
              "0  0.014843 -0.011870  0.016629 -0.064430 -0.039684\n",
              "1 -0.009441  0.027685  0.061939  0.024197  0.053202\n",
              "2 -0.012673  0.006536  0.020698  0.031361  0.040037\n",
              "3  0.018650 -0.018119 -0.032931 -0.023361  0.011972\n",
              "4  0.020995  0.030408  0.034002  0.026583  0.037446"
            ]
          },
          "metadata": {
            "tags": []
          },
          "execution_count": 451
        }
      ]
    },
    {
      "cell_type": "code",
      "metadata": {
        "id": "kKFLlGnbdaca"
      },
      "source": [
        "no_factors=fctrs.shape[1]"
      ],
      "execution_count": 452,
      "outputs": []
    },
    {
      "cell_type": "code",
      "metadata": {
        "colab": {
          "base_uri": "https://localhost:8080/"
        },
        "id": "WE8ICMwZV5Nk",
        "outputId": "577d52f7-5bd6-445d-a385-892e9d408e26"
      },
      "source": [
        "# Step 1: time series regression firm by firm\n",
        "#fctrs = np.c_[mkt, smb, hml]\n",
        "# of factors\n",
        "b = np.zeros(no_factors)\n",
        "for i in range(N): # firm-by-firm time series regression\n",
        "  model = LinearRegression()\n",
        "  model.fit(fctrs,data.iloc[:,i])\n",
        "  b = np.c_[b,model.coef_]\n",
        "\n",
        "b  = np.transpose(b[:,1:])\n",
        "b.shape\n",
        "#b should be 0.1, 0.2"
      ],
      "execution_count": 453,
      "outputs": [
        {
          "output_type": "execute_result",
          "data": {
            "text/plain": [
              "(25, 5)"
            ]
          },
          "metadata": {
            "tags": []
          },
          "execution_count": 453
        }
      ]
    },
    {
      "cell_type": "code",
      "metadata": {
        "id": "3LvYh6Mjs7wi"
      },
      "source": [
        "#b is bhat\n",
        "#b\n",
        "#b.shape# (N,#factors)\n",
        "df_bhat = pd.DataFrame(b)\n",
        "df_bhat.columns = ['b_01','b_02','b_03','b_04','b_05']# change according factos\n",
        "#print(df_bhat.head())\n",
        "\n",
        "from google.colab import  drive\n",
        "df_bhat.to_csv('/gdrive/My Drive/data/bhat_ayesha_5_factors_split_'+sb+'.csv')"
      ],
      "execution_count": 454,
      "outputs": []
    },
    {
      "cell_type": "code",
      "metadata": {
        "colab": {
          "base_uri": "https://localhost:8080/"
        },
        "id": "225EJNSVtLJ8",
        "outputId": "75f75dc6-d231-4969-feb8-1560a68d8075"
      },
      "source": [
        "# Step 2: cross sectional regression time-by-time\n",
        "f = np.zeros(no_factors)\n",
        "for i in range(T): # time-by-time cross sectional regression\n",
        "  model = LinearRegression()\n",
        "  model.fit(b,data.iloc[i,:])\n",
        "  f = np.c_[f,model.coef_]\n",
        "\n",
        "f = np.transpose(f[:,1:])\n",
        "df_gamma = pd.DataFrame(f)\n",
        "df_gamma.columns = ['mkt','smb','hml','cma','rmw']\n",
        "print(df_gamma.describe())\n",
        "print('Median estimate:', np.median(f,axis=0))\n",
        "print('Standard errors (without Shanken correction):', np.std(f,axis=0)/T**.5)"
      ],
      "execution_count": 455,
      "outputs": [
        {
          "output_type": "stream",
          "text": [
            "             mkt        smb        hml        cma        rmw\n",
            "count  36.000000  36.000000  36.000000  36.000000  36.000000\n",
            "mean   -0.002391   0.002338  -0.006759  -0.006853   0.010412\n",
            "std     0.061759   0.025376   0.057872   0.060400   0.050974\n",
            "min    -0.141370  -0.050171  -0.105611  -0.166794  -0.117410\n",
            "25%    -0.035106  -0.017171  -0.048528  -0.023177  -0.009296\n",
            "50%    -0.007727   0.000879  -0.016191  -0.002380   0.015234\n",
            "75%     0.036929   0.016978   0.027222   0.032337   0.039905\n",
            "max     0.182999   0.077372   0.145358   0.117478   0.128126\n",
            "Median estimate: [-0.00772712  0.00087922 -0.01619113 -0.00237996  0.01523374]\n",
            "Standard errors (without Shanken correction): [0.01014919 0.00417023 0.00951039 0.00992594 0.00837685]\n"
          ],
          "name": "stdout"
        }
      ]
    },
    {
      "cell_type": "markdown",
      "metadata": {
        "id": "-MlklL92L7KI"
      },
      "source": [
        "## Writing output to the text file"
      ]
    },
    {
      "cell_type": "code",
      "metadata": {
        "id": "0Fksdj95T4mA"
      },
      "source": [
        "file_output=r'/gdrive/My Drive/data/output_5_factor_split_'+sb+'.txt'\n",
        "desc=repr(df_gamma.describe())\n",
        "median_est=repr(np.median(f,axis=0))\n",
        "std_err=repr(np.std(f,axis=0)/T**.5)"
      ],
      "execution_count": 456,
      "outputs": []
    },
    {
      "cell_type": "markdown",
      "metadata": {
        "id": "cy7GTsOXNS4G"
      },
      "source": [
        "Using the with statement is better practice, it automatically closes the file even if the code encounters an exception. The code will run everything in the indent block then close the file object. "
      ]
    },
    {
      "cell_type": "code",
      "metadata": {
        "id": "h2iYECBFETsE"
      },
      "source": [
        "mu=np.median(f,axis=0)\n",
        "sigma=(np.std(f,axis=0))/T**.5\n",
        "tstat=mu/sigma\n",
        "tstat\n",
        "t_stats=repr(tstat)\n",
        "#tstat<1.96"
      ],
      "execution_count": 457,
      "outputs": []
    },
    {
      "cell_type": "code",
      "metadata": {
        "id": "xzW_C1sffvr0"
      },
      "source": [
        "# Write lines to file\n",
        "\n",
        "with open(file_output, 'w+') as writefile:\n",
        "    writefile.write(\"Results of Table  A\\n\")\n",
        "    writefile.write(desc+\"\\n\")\n",
        "    writefile.write(\"Median estimate:\"+\"\\t\"+median_est+\"\\n\")\n",
        "    writefile.write(\"Standard errors (without Shanken correction):\\t\"+std_err+\"\\n\")\n",
        "    writefile.write(\"T stats: \\t\"+t_stats+\"\\n\")\n",
        "    writefile.write(\"***********\\n\\n\")\n"
      ],
      "execution_count": 458,
      "outputs": []
    },
    {
      "cell_type": "code",
      "metadata": {
        "colab": {
          "base_uri": "https://localhost:8080/"
        },
        "id": "MbAqnzZ9cwBy",
        "outputId": "ca4406a8-932b-4a70-bc3a-c6f96311deb0"
      },
      "source": [
        "# Check whether write to file\n",
        "\n",
        "with open(file_output, 'r') as testwritefile:\n",
        "    print(testwritefile.read())"
      ],
      "execution_count": 459,
      "outputs": [
        {
          "output_type": "stream",
          "text": [
            "Results of Table  A\n",
            "             mkt        smb        hml        cma        rmw\n",
            "count  36.000000  36.000000  36.000000  36.000000  36.000000\n",
            "mean   -0.002391   0.002338  -0.006759  -0.006853   0.010412\n",
            "std     0.061759   0.025376   0.057872   0.060400   0.050974\n",
            "min    -0.141370  -0.050171  -0.105611  -0.166794  -0.117410\n",
            "25%    -0.035106  -0.017171  -0.048528  -0.023177  -0.009296\n",
            "50%    -0.007727   0.000879  -0.016191  -0.002380   0.015234\n",
            "75%     0.036929   0.016978   0.027222   0.032337   0.039905\n",
            "max     0.182999   0.077372   0.145358   0.117478   0.128126\n",
            "Median estimate:\tarray([-0.00772712,  0.00087922, -0.01619113, -0.00237996,  0.01523374])\n",
            "Standard errors (without Shanken correction):\tarray([0.01014919, 0.00417023, 0.00951039, 0.00992594, 0.00837685])\n",
            "T stats: \tarray([-0.76135328,  0.21083278, -1.70246721, -0.23977145,  1.81855193])\n",
            "***********\n",
            "\n",
            "\n"
          ],
          "name": "stdout"
        }
      ]
    },
    {
      "cell_type": "code",
      "metadata": {
        "id": "4YjK7U5NtLVq"
      },
      "source": [
        "f.shape # (T,#factors)# f or df I assume is gamma hat\n",
        "df_gamma.to_csv('/gdrive/My Drive/data/ayesha_gamma_5_factors_split_'+sb+'.csv')"
      ],
      "execution_count": 460,
      "outputs": []
    },
    {
      "cell_type": "code",
      "metadata": {
        "id": "FZm67ZsTtsDb"
      },
      "source": [
        "#df.head()#f and df are same, gamma hat"
      ],
      "execution_count": 461,
      "outputs": []
    },
    {
      "cell_type": "code",
      "metadata": {
        "id": "xcWF_laDAlyV"
      },
      "source": [
        "import statsmodels.formula.api as smf\n",
        "import pandas as pd\n",
        "import numpy as np\n",
        "import statsmodels.stats.api as sms"
      ],
      "execution_count": 462,
      "outputs": []
    },
    {
      "cell_type": "code",
      "metadata": {
        "id": "O6mWnC7I7Nhi"
      },
      "source": [
        "\n",
        "data_a=data.to_numpy()\n",
        "fctrs_a=fctrs.to_numpy()"
      ],
      "execution_count": 463,
      "outputs": []
    },
    {
      "cell_type": "code",
      "metadata": {
        "id": "5kr2iYqQtsQO",
        "colab": {
          "base_uri": "https://localhost:8080/"
        },
        "outputId": "b14ee417-f3f7-43f2-ca50-727a1ab9b7db"
      },
      "source": [
        "# Compute standard error with bootstrapping (Shanken correction unnecessary)\n",
        "# One simple bootstrapping \n",
        "\n",
        "indices = np.random.randint(low=0,high=T, size=T)\n",
        "new_data = data_a[indices,:]\n",
        "new_fctrs = fctrs_a[indices,:]\n",
        "xx = indices[0]\n",
        "print(xx)\n",
        "print(new_data[0,:])\n",
        "print(data_a[xx,:])\n"
      ],
      "execution_count": 464,
      "outputs": [
        {
          "output_type": "stream",
          "text": [
            "12\n",
            "[ 0.17243952  0.12078118  0.11782312  0.10210069  0.09973716  0.10326357\n",
            "  0.09905175  0.09769874  0.08539624  0.088562    0.0716488   0.06318648\n",
            "  0.04292555  0.0379884   0.0387974   0.0380009   0.03704397  0.03477571\n",
            "  0.02494563  0.01519083 -0.01386608 -0.02554553 -0.01888292 -0.01453388\n",
            " -0.04770314]\n",
            "[ 0.17243952  0.12078118  0.11782312  0.10210069  0.09973716  0.10326357\n",
            "  0.09905175  0.09769874  0.08539624  0.088562    0.0716488   0.06318648\n",
            "  0.04292555  0.0379884   0.0387974   0.0380009   0.03704397  0.03477571\n",
            "  0.02494563  0.01519083 -0.01386608 -0.02554553 -0.01888292 -0.01453388\n",
            " -0.04770314]\n"
          ],
          "name": "stdout"
        }
      ]
    },
    {
      "cell_type": "code",
      "metadata": {
        "id": "WIcAhRZz8ipO"
      },
      "source": [
        "def efhats(data,fctrs): # function to compute average estimated factor return\n",
        "  T = data.shape[0]\n",
        "  N = data.shape[1]\n",
        "  # Step 1: Time series regression\n",
        "  x = np.c_[np.ones(T),fctrs]\n",
        "  M = np.linalg.inv(x.T @ x) @ x.T\n",
        "  bhat = (M @ data)[1:,:].T\n",
        "\n",
        "  # Step 2: cross sectional regression\n",
        "  # Include other control variables here (eg, firm characteristics)\n",
        "  x = np.c_[np.ones(N),bhat]\n",
        "  M = np.linalg.inv(x.T @ x) @ x.T\n",
        "  fhat = (M @ data.T)[1:,:].T\n",
        "  df = pd.DataFrame(fhat)\n",
        "  df.columns = ['mkt','smb','hml','cma','rmw']\n",
        "  E_fhat = np.average(fhat,axis=0)\n",
        "  return E_fhat \n"
      ],
      "execution_count": 465,
      "outputs": []
    },
    {
      "cell_type": "code",
      "metadata": {
        "id": "yx2wkY_z2KlU",
        "colab": {
          "base_uri": "https://localhost:8080/"
        },
        "outputId": "49cf1b09-e106-4ed8-f5ed-b79a49d9dab7"
      },
      "source": [
        "E_fhat = efhats(data_a,fctrs_a)\n",
        "simn = 10**3 # of bootstrapping\n",
        "t = time.time() # bootstrapping start time \n",
        "for i in range(simn): \n",
        "  indices = np.random.randint(low=0,high=T,size=T) # resample by rows\n",
        "  new_data = data_a[indices,:] # resampled stock return data\n",
        "  new_fctrs = fctrs_a[indices,:] # resampled factor return data\n",
        "  E_fhat = np.c_[E_fhat,efhats(new_data,new_fctrs)]\n",
        "  # to check bootstrapping status\n",
        "  if i % 100 == 0: print(i)\n",
        "\n",
        "print('Simulation duration:', time.time()-t, 'seconds.')\n",
        "df = pd.DataFrame(E_fhat.T)\n",
        "df.columns =['mkt','smb','hml','cma','rmw']\n",
        "print(df.describe())"
      ],
      "execution_count": 466,
      "outputs": [
        {
          "output_type": "stream",
          "text": [
            "0\n",
            "100\n",
            "200\n",
            "300\n",
            "400\n",
            "500\n",
            "600\n",
            "700\n",
            "800\n",
            "900\n",
            "Simulation duration: 1.0311472415924072 seconds.\n",
            "               mkt          smb          hml          cma          rmw\n",
            "count  1001.000000  1001.000000  1001.000000  1001.000000  1001.000000\n",
            "mean     -0.003671     0.001200     0.000040    -0.003643     0.002120\n",
            "std       0.010892     0.004584     0.009924     0.011712     0.011352\n",
            "min      -0.040884    -0.014140    -0.036213    -0.036906    -0.031291\n",
            "25%      -0.011510    -0.001638    -0.006913    -0.011671    -0.005519\n",
            "50%      -0.003685     0.001247    -0.000296    -0.004027     0.001800\n",
            "75%       0.003970     0.003973     0.006687     0.003973     0.009011\n",
            "max       0.031052     0.017748     0.035194     0.048140     0.038236\n"
          ],
          "name": "stdout"
        }
      ]
    },
    {
      "cell_type": "code",
      "metadata": {
        "colab": {
          "base_uri": "https://localhost:8080/"
        },
        "id": "ZBYM0pyMrIV3",
        "outputId": "0ece4ff7-3cd0-4319-e9ce-274abfa009e7"
      },
      "source": [
        "print('FM regression esimate of expeced factor returns: \\n', np.average(E_fhat.T,axis=0))\n",
        "print('FM regression esimate of standard errors: \\n', np.std(E_fhat.T,axis=0))"
      ],
      "execution_count": 467,
      "outputs": [
        {
          "output_type": "stream",
          "text": [
            "FM regression esimate of expeced factor returns: \n",
            " [-3.67127010e-03  1.20017613e-03  4.01074385e-05 -3.64250502e-03\n",
            "  2.11995537e-03]\n",
            "FM regression esimate of standard errors: \n",
            " [0.01088672 0.00458169 0.00991929 0.0117062  0.01134673]\n"
          ],
          "name": "stdout"
        }
      ]
    },
    {
      "cell_type": "code",
      "metadata": {
        "id": "S6aHHRjB0RLY",
        "colab": {
          "base_uri": "https://localhost:8080/"
        },
        "outputId": "cbc1d298-eb53-487b-bfb7-b1fddbe24469"
      },
      "source": [
        "#bootstrap t stats\n",
        "mu_boot=np.average(E_fhat.T,axis=0)\n",
        "sigma_boot=np.std(E_fhat.T,axis=0)\n",
        "tstat_boot=mu_boot/sigma_boot\n",
        "tstat_boot"
      ],
      "execution_count": 468,
      "outputs": [
        {
          "output_type": "execute_result",
          "data": {
            "text/plain": [
              "array([-0.33722467,  0.26195045,  0.00404338, -0.31116044,  0.1868341 ])"
            ]
          },
          "metadata": {
            "tags": []
          },
          "execution_count": 468
        }
      ]
    },
    {
      "cell_type": "markdown",
      "metadata": {
        "id": "hHGVO0IeM1J9"
      },
      "source": [
        "https://quant.stackexchange.com/questions/35781/how-to-interpret-the-grs-f-test-values\n",
        "#grs test\n",
        "https://stackoverflow.com/questions/24074481/fama-macbeth-regression-in-python-pandas-or-statsmodels"
      ]
    },
    {
      "cell_type": "code",
      "metadata": {
        "id": "3Jd9dKg2O7AZ",
        "colab": {
          "base_uri": "https://localhost:8080/"
        },
        "outputId": "158aef0b-0473-494d-daed-111be47f031f"
      },
      "source": [
        "pip install rpy2"
      ],
      "execution_count": null,
      "outputs": [
        {
          "output_type": "stream",
          "text": [
            "Requirement already satisfied: rpy2 in /usr/local/lib/python3.7/dist-packages (3.4.4)\n",
            "Requirement already satisfied: cffi>=1.10.0 in /usr/local/lib/python3.7/dist-packages (from rpy2) (1.14.5)\n",
            "Requirement already satisfied: jinja2 in /usr/local/lib/python3.7/dist-packages (from rpy2) (2.11.3)\n",
            "Requirement already satisfied: tzlocal in /usr/local/lib/python3.7/dist-packages (from rpy2) (1.5.1)\n",
            "Requirement already satisfied: pytz in /usr/local/lib/python3.7/dist-packages (from rpy2) (2018.9)\n",
            "Requirement already satisfied: pycparser in /usr/local/lib/python3.7/dist-packages (from cffi>=1.10.0->rpy2) (2.20)\n",
            "Requirement already satisfied: MarkupSafe>=0.23 in /usr/local/lib/python3.7/dist-packages (from jinja2->rpy2) (2.0.1)\n"
          ],
          "name": "stdout"
        }
      ]
    },
    {
      "cell_type": "code",
      "metadata": {
        "id": "jKgMKlZWv3zP",
        "colab": {
          "base_uri": "https://localhost:8080/"
        },
        "outputId": "46d6a461-c6bc-4a3b-a78b-0bfe8536ab11"
      },
      "source": [
        "%load_ext rpy2.ipython"
      ],
      "execution_count": 40,
      "outputs": [
        {
          "output_type": "stream",
          "text": [
            "The rpy2.ipython extension is already loaded. To reload it, use:\n",
            "  %reload_ext rpy2.ipython\n"
          ],
          "name": "stdout"
        }
      ]
    },
    {
      "cell_type": "code",
      "metadata": {
        "id": "qiIiQm5ywjt5"
      },
      "source": [
        "%%R -i df -w 5 -h 5 --units in -r 200\n",
        "# import df from global environment\n",
        "# make default figure size 5 by 5 inches with 200 dpi resolution\n",
        "\n",
        "install.packages(\"GRS.test\", repos='http://cran.us.r-project.org', quiet=TRUE)\n",
        "library(GRS.test)\n"
      ],
      "execution_count": 172,
      "outputs": []
    },
    {
      "cell_type": "code",
      "metadata": {
        "colab": {
          "base_uri": "https://localhost:8080/"
        },
        "id": "yiRCSMhB6muu",
        "outputId": "ee5132d6-222c-44ff-929a-22f543fcc7b5"
      },
      "source": [
        "%%R -i data,fctrs\n",
        "GRS.MLtest(data, fctrs)"
      ],
      "execution_count": 469,
      "outputs": [
        {
          "output_type": "stream",
          "text": [
            "$GRS.stat\n",
            "          GRS\n",
            "[1,] 2.109917\n",
            "\n",
            "$GRS.pval\n",
            "           GRS\n",
            "[1,] 0.1788939\n",
            "\n",
            "$thetas\n",
            "         [,1]\n",
            "[1,] 2.989298\n",
            "\n",
            "$theta\n",
            "          [,1]\n",
            "[1,] 0.4397095\n",
            "\n",
            "$ratio\n",
            "          [,1]\n",
            "[1,] 0.1470945\n",
            "\n"
          ],
          "name": "stdout"
        }
      ]
    },
    {
      "cell_type": "code",
      "metadata": {
        "id": "wfxHA5pp8-zR"
      },
      "source": [
        "%%R -o model -o coef  -o pval -o thetas -o theta -o ratio\n",
        "model<-GRS.MLtest(data, fctrs)\n",
        "coef<-model$GRS.stat\n",
        "pval<-model$GRS.pval\n",
        "thetas<-model$thetas\n",
        "theta<-model$theta\n",
        "ratio<-model$ratio"
      ],
      "execution_count": 470,
      "outputs": []
    },
    {
      "cell_type": "code",
      "metadata": {
        "colab": {
          "base_uri": "https://localhost:8080/"
        },
        "id": "XhyHrMGI9wYs",
        "outputId": "3ce861b1-4e75-4f1b-f74c-910157ade33d"
      },
      "source": [
        "print(model)"
      ],
      "execution_count": 471,
      "outputs": [
        {
          "output_type": "stream",
          "text": [
            "$GRS.stat\n",
            "          GRS\n",
            "[1,] 2.109917\n",
            "\n",
            "$GRS.pval\n",
            "           GRS\n",
            "[1,] 0.1788939\n",
            "\n",
            "$thetas\n",
            "         [,1]\n",
            "[1,] 2.989298\n",
            "\n",
            "$theta\n",
            "          [,1]\n",
            "[1,] 0.4397095\n",
            "\n",
            "$ratio\n",
            "          [,1]\n",
            "[1,] 0.1470945\n",
            "\n",
            "\n"
          ],
          "name": "stdout"
        }
      ]
    },
    {
      "cell_type": "markdown",
      "metadata": {
        "id": "QhzTVJ95-OLC"
      },
      "source": [
        "W statistic given in (7) of GRS (1989) <DOI:10.2307/1913625>\n",
        "\n",
        "GRS.stat=GRS test statistic\n",
        "\n",
        "GRS.pval=its p-value\n",
        "\n",
        "theta=maximum Sharpe ratio of the K factor portfolios\n",
        "\n",
        "thetas=slope of the efficient frontier based on all assets\n",
        "\n",
        "ratio=theta/thetas, proportion of the potential efficiency\n",
        "\n",
        "References\n",
        "Gibbons, Ross, Shanken, 1989. A test of the efficiency of a given portfolio, Econometrica, 57,1121-\n",
        "1152. <DOI:10.2307/1913625>\n"
      ]
    },
    {
      "cell_type": "markdown",
      "metadata": {
        "id": "QSI9gs-I4Ubk"
      },
      "source": [
        "https://towardsdatascience.com/guide-to-r-and-python-in-a-single-jupyter-notebook-ff12532eb3ba\n",
        "\n",
        "https://www.linkedin.com/pulse/interfacing-r-from-python-3-jupyter-notebook-jared-stufft/\n",
        "how to switch R and python\n"
      ]
    },
    {
      "cell_type": "code",
      "metadata": {
        "id": "_sTHgIM2_U_T"
      },
      "source": [
        "grs_stat=repr(coef)\n",
        "grs_pval=repr(pval)\n",
        "grs_thets=repr(thetas)\n",
        "grs_theta=repr(theta)\n",
        "grs_ratio=repr(ratio)"
      ],
      "execution_count": 472,
      "outputs": []
    },
    {
      "cell_type": "code",
      "metadata": {
        "id": "YtmpT1p_PgiL"
      },
      "source": [
        "#bootstrap t stat results\n",
        "simulated_desc=repr(df.describe())\n",
        "median_est_boot=repr(mu_boot)\n",
        "std_err_boot=repr(sigma_boot)\n",
        "t_stat_boot=repr(tstat_boot)"
      ],
      "execution_count": 473,
      "outputs": []
    },
    {
      "cell_type": "code",
      "metadata": {
        "id": "mCRs8b5HAC1q"
      },
      "source": [
        "# Write lines to file\n",
        "\n",
        "with open(file_output, 'a') as writefile:\n",
        "    writefile.write(\"\\n Results of Boot Strapping Table  B\\n\")\n",
        "    writefile.write(simulated_desc+\"\\n\")\n",
        "    writefile.write(\"FM regression esimate of expeced factor returns:\"+\"\\t\"+median_est_boot+\"\\n\")\n",
        "    writefile.write(\"FM regression esimate of standard errors:\\t\"+std_err_boot+\"\\n\")\n",
        "    writefile.write(\"Tstats boot strapping: \\t\"+t_stat_boot+\"\\n\")\n",
        "    writefile.write(\"**********\\n\")\n",
        "    writefile.write(\"\\t GRS Test:\\n\")\n",
        "    writefile.write(\"**********\\n\")\n",
        "    writefile.write(\"GRS stat:\\t\"+grs_stat+\"\\n\")\n",
        "    writefile.write(\"GRS pvalue:\\t\"+grs_pval+\"\\n\")\n",
        "    writefile.write(\"GRS thetas:\\t\"+grs_thets+\"\\n\")\n",
        "    writefile.write(\"GRS theta:\\t\"+grs_theta+\"\\n\")\n",
        "    writefile.write(\"GRS ratio:\\t\"+grs_ratio+\"\\n\")"
      ],
      "execution_count": 474,
      "outputs": []
    },
    {
      "cell_type": "code",
      "metadata": {
        "id": "vd-S51FqUHC6"
      },
      "source": [
        "#Erasing the file contents of a text file will result in an empty text file.\n",
        "# file = open(file_output,\"r+\")\n",
        "# file.truncate(0)\n",
        "# file.close()"
      ],
      "execution_count": 444,
      "outputs": []
    },
    {
      "cell_type": "code",
      "metadata": {
        "id": "rXdIY4v5OUb1"
      },
      "source": [
        ""
      ],
      "execution_count": null,
      "outputs": []
    }
  ]
}