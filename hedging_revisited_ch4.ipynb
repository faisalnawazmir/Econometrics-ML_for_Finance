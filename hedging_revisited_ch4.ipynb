{
  "nbformat": 4,
  "nbformat_minor": 0,
  "metadata": {
    "colab": {
      "name": "hedging_revisited_ch4.ipynb",
      "provenance": [],
      "authorship_tag": "ABX9TyPJGd/EyYYsNfx9wESMiAgr",
      "include_colab_link": true
    },
    "kernelspec": {
      "name": "python3",
      "display_name": "Python 3"
    }
  },
  "cells": [
    {
      "cell_type": "markdown",
      "metadata": {
        "id": "view-in-github",
        "colab_type": "text"
      },
      "source": [
        "<a href=\"https://colab.research.google.com/github/faisalnawazmir/Econometrics-ML_for_Finance/blob/main/hedging_revisited_ch4.ipynb\" target=\"_parent\"><img src=\"https://colab.research.google.com/assets/colab-badge.svg\" alt=\"Open In Colab\"/></a>"
      ]
    },
    {
      "cell_type": "code",
      "metadata": {
        "id": "obUaSMaIjkqe"
      },
      "source": [
        "import pandas as pd\n",
        "import numpy as np\n",
        "import matplotlib.pyplot as plt\n",
        "%matplotlib inline"
      ],
      "execution_count": null,
      "outputs": []
    },
    {
      "cell_type": "code",
      "metadata": {
        "id": "CY_aqRj6jngn",
        "outputId": "c2dd3265-30bb-4dcb-b661-6019ef41d31f",
        "colab": {
          "base_uri": "https://localhost:8080/",
          "height": 52
        }
      },
      "source": [
        "from google.colab import drive\n",
        "drive.mount('/gdrive')\n",
        "%cd /gdrive"
      ],
      "execution_count": null,
      "outputs": [
        {
          "output_type": "stream",
          "text": [
            "Mounted at /gdrive\n",
            "/gdrive\n"
          ],
          "name": "stdout"
        }
      ]
    },
    {
      "cell_type": "code",
      "metadata": {
        "id": "lI9FP2g_js5k",
        "outputId": "5928feb5-c0a1-4bd6-fe60-d75417ff0ddd",
        "colab": {
          "base_uri": "https://localhost:8080/",
          "height": 206
        }
      },
      "source": [
        "file = r'/gdrive/My Drive/data/SandPhedge.xls'\n",
        "data= pd.read_excel(file)\n",
        "data.head()"
      ],
      "execution_count": null,
      "outputs": [
        {
          "output_type": "execute_result",
          "data": {
            "text/html": [
              "<div>\n",
              "<style scoped>\n",
              "    .dataframe tbody tr th:only-of-type {\n",
              "        vertical-align: middle;\n",
              "    }\n",
              "\n",
              "    .dataframe tbody tr th {\n",
              "        vertical-align: top;\n",
              "    }\n",
              "\n",
              "    .dataframe thead th {\n",
              "        text-align: right;\n",
              "    }\n",
              "</style>\n",
              "<table border=\"1\" class=\"dataframe\">\n",
              "  <thead>\n",
              "    <tr style=\"text-align: right;\">\n",
              "      <th></th>\n",
              "      <th>Date</th>\n",
              "      <th>Spot</th>\n",
              "      <th>Futures</th>\n",
              "    </tr>\n",
              "  </thead>\n",
              "  <tbody>\n",
              "    <tr>\n",
              "      <th>0</th>\n",
              "      <td>1997-09-01</td>\n",
              "      <td>947.280029</td>\n",
              "      <td>954.50</td>\n",
              "    </tr>\n",
              "    <tr>\n",
              "      <th>1</th>\n",
              "      <td>1997-10-01</td>\n",
              "      <td>914.619995</td>\n",
              "      <td>924.00</td>\n",
              "    </tr>\n",
              "    <tr>\n",
              "      <th>2</th>\n",
              "      <td>1997-11-01</td>\n",
              "      <td>955.400024</td>\n",
              "      <td>955.00</td>\n",
              "    </tr>\n",
              "    <tr>\n",
              "      <th>3</th>\n",
              "      <td>1997-12-01</td>\n",
              "      <td>970.429993</td>\n",
              "      <td>979.25</td>\n",
              "    </tr>\n",
              "    <tr>\n",
              "      <th>4</th>\n",
              "      <td>1998-01-01</td>\n",
              "      <td>980.280029</td>\n",
              "      <td>987.75</td>\n",
              "    </tr>\n",
              "  </tbody>\n",
              "</table>\n",
              "</div>"
            ],
            "text/plain": [
              "        Date        Spot  Futures\n",
              "0 1997-09-01  947.280029   954.50\n",
              "1 1997-10-01  914.619995   924.00\n",
              "2 1997-11-01  955.400024   955.00\n",
              "3 1997-12-01  970.429993   979.25\n",
              "4 1998-01-01  980.280029   987.75"
            ]
          },
          "metadata": {
            "tags": []
          },
          "execution_count": 3
        }
      ]
    },
    {
      "cell_type": "code",
      "metadata": {
        "id": "bCOtN_MqkLpc"
      },
      "source": [
        "#https://www.statsmodels.org/stable/index.html\n",
        "import statsmodels.api as sm\n",
        "import statsmodels.formula.api as smf\n",
        "import pandas.util.testing as tm"
      ],
      "execution_count": 5,
      "outputs": []
    },
    {
      "cell_type": "code",
      "metadata": {
        "id": "IWXwFCyCGO94",
        "outputId": "3799af9a-4d68-40c7-e032-3c6b69acd847",
        "colab": {
          "base_uri": "https://localhost:8080/",
          "height": 34
        }
      },
      "source": [
        "formula = 'Spot ~ Futures'\n",
        "hypotheses = 'Futures = 1'\n",
        "results = smf.ols(formula, data).fit()\n",
        "f_test = results.f_test(hypotheses)\n",
        "print(f_test)"
      ],
      "execution_count": 6,
      "outputs": [
        {
          "output_type": "stream",
          "text": [
            "<F test: F=array([[2.58463856]]), p=0.10919294686206271, df_denom=245, df_num=1>\n"
          ],
          "name": "stdout"
        }
      ]
    },
    {
      "cell_type": "code",
      "metadata": {
        "id": "F1x-Zg8WGFXF"
      },
      "source": [
        "def LogDiff(x):\n",
        "    x_diff = 100*np.log(x/x.shift(1))\n",
        "    x_diff = x_diff.dropna()\n",
        "    return x_diff\n"
      ],
      "execution_count": 7,
      "outputs": []
    },
    {
      "cell_type": "code",
      "metadata": {
        "id": "gGERp3-tGemt"
      },
      "source": [
        "data = pd.DataFrame({'ret_spot' : LogDiff(data['Spot']),\n",
        "                    'ret_future':LogDiff(data['Futures'])})"
      ],
      "execution_count": 8,
      "outputs": []
    },
    {
      "cell_type": "code",
      "metadata": {
        "id": "3ECNftmzGhv3",
        "outputId": "c1dbf1fd-80bf-4a3d-c9a0-2e57c86f22e9",
        "colab": {
          "base_uri": "https://localhost:8080/",
          "height": 34
        }
      },
      "source": [
        "  formula = 'ret_spot ~ ret_future'\n",
        "hypotheses = 'ret_future = 1'\n",
        "\n",
        "results = smf.ols(formula, data).fit()\n",
        "f_test = results.f_test(hypotheses)\n",
        "print(f_test)\n"
      ],
      "execution_count": 9,
      "outputs": [
        {
          "output_type": "stream",
          "text": [
            "<F test: F=array([[14.02980961]]), p=0.00022456631728787958, df_denom=244, df_num=1>\n"
          ],
          "name": "stdout"
        }
      ]
    }
  ]
}