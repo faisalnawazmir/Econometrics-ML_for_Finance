{
  "nbformat": 4,
  "nbformat_minor": 0,
  "metadata": {
    "colab": {
      "name": "Simple_linear_Regression_ch3.ipynb",
      "provenance": [],
      "authorship_tag": "ABX9TyNZBTrj5JSaW6gwpb5l1J97",
      "include_colab_link": true
    },
    "kernelspec": {
      "name": "python3",
      "display_name": "Python 3"
    }
  },
  "cells": [
    {
      "cell_type": "markdown",
      "metadata": {
        "id": "view-in-github",
        "colab_type": "text"
      },
      "source": [
        "<a href=\"https://colab.research.google.com/github/faisalnawazmir/Econometrics-ML_for_Finance/blob/main/Simple_linear_Regression_ch3.ipynb\" target=\"_parent\"><img src=\"https://colab.research.google.com/assets/colab-badge.svg\" alt=\"Open In Colab\"/></a>"
      ]
    },
    {
      "cell_type": "code",
      "metadata": {
        "id": "Qxm21I5Ak4Rf"
      },
      "source": [
        "import pandas as pd\n",
        "import numpy as np\n",
        "import matplotlib.pyplot as plt\n",
        "%matplotlib inline\n"
      ],
      "execution_count": null,
      "outputs": []
    },
    {
      "cell_type": "code",
      "metadata": {
        "id": "QoyjfSepk882",
        "outputId": "01727a6f-d628-4c1f-9a7c-53c6b24707b3",
        "colab": {
          "base_uri": "https://localhost:8080/",
          "height": 52
        }
      },
      "source": [
        "from google.colab import drive\n",
        "drive.mount('/gdrive')\n",
        "%cd /gdrive\n"
      ],
      "execution_count": null,
      "outputs": [
        {
          "output_type": "stream",
          "text": [
            "Mounted at /gdrive\n",
            "/gdrive\n"
          ],
          "name": "stdout"
        }
      ]
    },
    {
      "cell_type": "code",
      "metadata": {
        "id": "BOz9UR7ZlBF4",
        "outputId": "4c523161-9260-464e-f1d5-5dcf0876e9cf",
        "colab": {
          "base_uri": "https://localhost:8080/",
          "height": 206
        }
      },
      "source": [
        "file = r'/gdrive/My Drive/data/SandPhedge.xls'\n",
        "data = pd.read_excel(file)\n",
        "data.head()"
      ],
      "execution_count": null,
      "outputs": [
        {
          "output_type": "execute_result",
          "data": {
            "text/html": [
              "<div>\n",
              "<style scoped>\n",
              "    .dataframe tbody tr th:only-of-type {\n",
              "        vertical-align: middle;\n",
              "    }\n",
              "\n",
              "    .dataframe tbody tr th {\n",
              "        vertical-align: top;\n",
              "    }\n",
              "\n",
              "    .dataframe thead th {\n",
              "        text-align: right;\n",
              "    }\n",
              "</style>\n",
              "<table border=\"1\" class=\"dataframe\">\n",
              "  <thead>\n",
              "    <tr style=\"text-align: right;\">\n",
              "      <th></th>\n",
              "      <th>Date</th>\n",
              "      <th>Spot</th>\n",
              "      <th>Futures</th>\n",
              "    </tr>\n",
              "  </thead>\n",
              "  <tbody>\n",
              "    <tr>\n",
              "      <th>0</th>\n",
              "      <td>1997-09-01</td>\n",
              "      <td>947.280029</td>\n",
              "      <td>954.50</td>\n",
              "    </tr>\n",
              "    <tr>\n",
              "      <th>1</th>\n",
              "      <td>1997-10-01</td>\n",
              "      <td>914.619995</td>\n",
              "      <td>924.00</td>\n",
              "    </tr>\n",
              "    <tr>\n",
              "      <th>2</th>\n",
              "      <td>1997-11-01</td>\n",
              "      <td>955.400024</td>\n",
              "      <td>955.00</td>\n",
              "    </tr>\n",
              "    <tr>\n",
              "      <th>3</th>\n",
              "      <td>1997-12-01</td>\n",
              "      <td>970.429993</td>\n",
              "      <td>979.25</td>\n",
              "    </tr>\n",
              "    <tr>\n",
              "      <th>4</th>\n",
              "      <td>1998-01-01</td>\n",
              "      <td>980.280029</td>\n",
              "      <td>987.75</td>\n",
              "    </tr>\n",
              "  </tbody>\n",
              "</table>\n",
              "</div>"
            ],
            "text/plain": [
              "        Date        Spot  Futures\n",
              "0 1997-09-01  947.280029   954.50\n",
              "1 1997-10-01  914.619995   924.00\n",
              "2 1997-11-01  955.400024   955.00\n",
              "3 1997-12-01  970.429993   979.25\n",
              "4 1998-01-01  980.280029   987.75"
            ]
          },
          "metadata": {
            "tags": []
          },
          "execution_count": 19
        }
      ]
    },
    {
      "cell_type": "code",
      "metadata": {
        "id": "Rr-JuhF0lPRE"
      },
      "source": [
        "#https://www.statsmodels.org/stable/index.html\n",
        "import statsmodels.api as sm"
      ],
      "execution_count": null,
      "outputs": []
    },
    {
      "cell_type": "code",
      "metadata": {
        "id": "iOmtunYgndEL"
      },
      "source": [
        "import statsmodels.formula.api as smf"
      ],
      "execution_count": null,
      "outputs": []
    },
    {
      "cell_type": "code",
      "metadata": {
        "id": "oGj_uTDVm8v1",
        "outputId": "427942cf-2352-426e-dea6-917d4edee779",
        "colab": {
          "base_uri": "https://localhost:8080/",
          "height": 486
        }
      },
      "source": [
        "formula = 'Spot ~ Futures'\n",
        "results = smf.ols(formula, data).fit()\n",
        "print(results.summary())"
      ],
      "execution_count": null,
      "outputs": [
        {
          "output_type": "stream",
          "text": [
            "                            OLS Regression Results                            \n",
            "==============================================================================\n",
            "Dep. Variable:                   Spot   R-squared:                       1.000\n",
            "Model:                            OLS   Adj. R-squared:                  1.000\n",
            "Method:                 Least Squares   F-statistic:                 1.005e+06\n",
            "Date:                Sun, 11 Oct 2020   Prob (F-statistic):               0.00\n",
            "Time:                        03:29:41   Log-Likelihood:                -826.86\n",
            "No. Observations:                 247   AIC:                             1658.\n",
            "Df Residuals:                     245   BIC:                             1665.\n",
            "Df Model:                           1                                         \n",
            "Covariance Type:            nonrobust                                         \n",
            "==============================================================================\n",
            "                 coef    std err          t      P>|t|      [0.025      0.975]\n",
            "------------------------------------------------------------------------------\n",
            "Intercept     -2.8378      1.489     -1.906      0.058      -5.771       0.095\n",
            "Futures        1.0016      0.001   1002.331      0.000       1.000       1.004\n",
            "==============================================================================\n",
            "Omnibus:                      245.415   Durbin-Watson:                   1.326\n",
            "Prob(Omnibus):                  0.000   Jarque-Bera (JB):            10091.673\n",
            "Skew:                          -3.814   Prob(JB):                         0.00\n",
            "Kurtosis:                      33.371   Cond. No.                     5.05e+03\n",
            "==============================================================================\n",
            "\n",
            "Warnings:\n",
            "[1] Standard Errors assume that the covariance matrix of the errors is correctly specified.\n",
            "[2] The condition number is large, 5.05e+03. This might indicate that there are\n",
            "strong multicollinearity or other numerical problems.\n"
          ],
          "name": "stdout"
        }
      ]
    },
    {
      "cell_type": "code",
      "metadata": {
        "id": "ZO9WEoo8nHTx"
      },
      "source": [
        "def LogDiff(x):\n",
        "    x_diff = 100*np.log(x/x.shift(1))\n",
        "    x_diff = x_diff.dropna()\n",
        "    return x_diff"
      ],
      "execution_count": null,
      "outputs": []
    },
    {
      "cell_type": "code",
      "metadata": {
        "id": "sNfSd-2anrVi",
        "outputId": "3972f725-544f-43ea-a6ae-a9abcf86967a",
        "colab": {
          "base_uri": "https://localhost:8080/",
          "height": 206
        }
      },
      "source": [
        "data = pd.DataFrame({'ret_spot' : LogDiff(data['Spot']),\n",
        "                    'ret_future':LogDiff(data['Futures'])})\n",
        "data.head()"
      ],
      "execution_count": null,
      "outputs": [
        {
          "output_type": "execute_result",
          "data": {
            "text/html": [
              "<div>\n",
              "<style scoped>\n",
              "    .dataframe tbody tr th:only-of-type {\n",
              "        vertical-align: middle;\n",
              "    }\n",
              "\n",
              "    .dataframe tbody tr th {\n",
              "        vertical-align: top;\n",
              "    }\n",
              "\n",
              "    .dataframe thead th {\n",
              "        text-align: right;\n",
              "    }\n",
              "</style>\n",
              "<table border=\"1\" class=\"dataframe\">\n",
              "  <thead>\n",
              "    <tr style=\"text-align: right;\">\n",
              "      <th></th>\n",
              "      <th>ret_spot</th>\n",
              "      <th>ret_future</th>\n",
              "    </tr>\n",
              "  </thead>\n",
              "  <tbody>\n",
              "    <tr>\n",
              "      <th>1</th>\n",
              "      <td>-3.508608</td>\n",
              "      <td>-3.247557</td>\n",
              "    </tr>\n",
              "    <tr>\n",
              "      <th>2</th>\n",
              "      <td>4.362145</td>\n",
              "      <td>3.299927</td>\n",
              "    </tr>\n",
              "    <tr>\n",
              "      <th>3</th>\n",
              "      <td>1.560914</td>\n",
              "      <td>2.507563</td>\n",
              "    </tr>\n",
              "    <tr>\n",
              "      <th>4</th>\n",
              "      <td>1.009901</td>\n",
              "      <td>0.864266</td>\n",
              "    </tr>\n",
              "    <tr>\n",
              "      <th>5</th>\n",
              "      <td>6.807837</td>\n",
              "      <td>6.159189</td>\n",
              "    </tr>\n",
              "  </tbody>\n",
              "</table>\n",
              "</div>"
            ],
            "text/plain": [
              "   ret_spot  ret_future\n",
              "1 -3.508608   -3.247557\n",
              "2  4.362145    3.299927\n",
              "3  1.560914    2.507563\n",
              "4  1.009901    0.864266\n",
              "5  6.807837    6.159189"
            ]
          },
          "metadata": {
            "tags": []
          },
          "execution_count": 29
        }
      ]
    },
    {
      "cell_type": "code",
      "metadata": {
        "id": "-gNBJTtdnyIl",
        "outputId": "798b5ce2-1fbc-4f43-974d-ff16f797ab29",
        "colab": {
          "base_uri": "https://localhost:8080/",
          "height": 300
        }
      },
      "source": [
        "data.describe()"
      ],
      "execution_count": null,
      "outputs": [
        {
          "output_type": "execute_result",
          "data": {
            "text/html": [
              "<div>\n",
              "<style scoped>\n",
              "    .dataframe tbody tr th:only-of-type {\n",
              "        vertical-align: middle;\n",
              "    }\n",
              "\n",
              "    .dataframe tbody tr th {\n",
              "        vertical-align: top;\n",
              "    }\n",
              "\n",
              "    .dataframe thead th {\n",
              "        text-align: right;\n",
              "    }\n",
              "</style>\n",
              "<table border=\"1\" class=\"dataframe\">\n",
              "  <thead>\n",
              "    <tr style=\"text-align: right;\">\n",
              "      <th></th>\n",
              "      <th>ret_spot</th>\n",
              "      <th>ret_future</th>\n",
              "    </tr>\n",
              "  </thead>\n",
              "  <tbody>\n",
              "    <tr>\n",
              "      <th>count</th>\n",
              "      <td>246.000000</td>\n",
              "      <td>246.000000</td>\n",
              "    </tr>\n",
              "    <tr>\n",
              "      <th>mean</th>\n",
              "      <td>0.416776</td>\n",
              "      <td>0.414017</td>\n",
              "    </tr>\n",
              "    <tr>\n",
              "      <th>std</th>\n",
              "      <td>4.333323</td>\n",
              "      <td>4.419049</td>\n",
              "    </tr>\n",
              "    <tr>\n",
              "      <th>min</th>\n",
              "      <td>-18.563647</td>\n",
              "      <td>-18.944697</td>\n",
              "    </tr>\n",
              "    <tr>\n",
              "      <th>25%</th>\n",
              "      <td>-1.831388</td>\n",
              "      <td>-1.931400</td>\n",
              "    </tr>\n",
              "    <tr>\n",
              "      <th>50%</th>\n",
              "      <td>0.918522</td>\n",
              "      <td>0.997641</td>\n",
              "    </tr>\n",
              "    <tr>\n",
              "      <th>75%</th>\n",
              "      <td>3.276468</td>\n",
              "      <td>3.133588</td>\n",
              "    </tr>\n",
              "    <tr>\n",
              "      <th>max</th>\n",
              "      <td>10.230659</td>\n",
              "      <td>10.387184</td>\n",
              "    </tr>\n",
              "  </tbody>\n",
              "</table>\n",
              "</div>"
            ],
            "text/plain": [
              "         ret_spot  ret_future\n",
              "count  246.000000  246.000000\n",
              "mean     0.416776    0.414017\n",
              "std      4.333323    4.419049\n",
              "min    -18.563647  -18.944697\n",
              "25%     -1.831388   -1.931400\n",
              "50%      0.918522    0.997641\n",
              "75%      3.276468    3.133588\n",
              "max     10.230659   10.387184"
            ]
          },
          "metadata": {
            "tags": []
          },
          "execution_count": 12
        }
      ]
    },
    {
      "cell_type": "code",
      "metadata": {
        "id": "yZP1a0Hun1W1",
        "outputId": "f3c2ab78-7034-42b7-b09d-24f9b09a2a58",
        "colab": {
          "base_uri": "https://localhost:8080/",
          "height": 451
        }
      },
      "source": [
        "formula = 'ret_spot ~ ret_future'\n",
        "results = smf.ols(formula, data).fit()\n",
        "print(results.summary())"
      ],
      "execution_count": null,
      "outputs": [
        {
          "output_type": "stream",
          "text": [
            "                            OLS Regression Results                            \n",
            "==============================================================================\n",
            "Dep. Variable:               ret_spot   R-squared:                       0.989\n",
            "Model:                            OLS   Adj. R-squared:                  0.989\n",
            "Method:                 Least Squares   F-statistic:                 2.147e+04\n",
            "Date:                Sun, 11 Oct 2020   Prob (F-statistic):          7.54e-240\n",
            "Time:                        03:30:10   Log-Likelihood:                -157.16\n",
            "No. Observations:                 246   AIC:                             318.3\n",
            "Df Residuals:                     244   BIC:                             325.3\n",
            "Df Model:                           1                                         \n",
            "Covariance Type:            nonrobust                                         \n",
            "==============================================================================\n",
            "                 coef    std err          t      P>|t|      [0.025      0.975]\n",
            "------------------------------------------------------------------------------\n",
            "Intercept      0.0131      0.029      0.444      0.658      -0.045       0.071\n",
            "ret_future     0.9751      0.007    146.543      0.000       0.962       0.988\n",
            "==============================================================================\n",
            "Omnibus:                       48.818   Durbin-Watson:                   2.969\n",
            "Prob(Omnibus):                  0.000   Jarque-Bera (JB):              671.062\n",
            "Skew:                          -0.016   Prob(JB):                    1.91e-146\n",
            "Kurtosis:                      11.091   Cond. No.                         4.45\n",
            "==============================================================================\n",
            "\n",
            "Warnings:\n",
            "[1] Standard Errors assume that the covariance matrix of the errors is correctly specified.\n"
          ],
          "name": "stdout"
        }
      ]
    }
  ]
}