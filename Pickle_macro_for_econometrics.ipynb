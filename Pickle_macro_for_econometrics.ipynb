{
  "nbformat": 4,
  "nbformat_minor": 0,
  "metadata": {
    "colab": {
      "name": "Pickle macro for econometrics.ipynb",
      "provenance": [],
      "authorship_tag": "ABX9TyNIFOeoYKUDSK/wQ4NQCRmY",
      "include_colab_link": true
    },
    "kernelspec": {
      "name": "python3",
      "display_name": "Python 3"
    },
    "language_info": {
      "name": "python"
    }
  },
  "cells": [
    {
      "cell_type": "markdown",
      "metadata": {
        "id": "view-in-github",
        "colab_type": "text"
      },
      "source": [
        "<a href=\"https://colab.research.google.com/github/faisalnawazmir/Econometrics-ML_for_Finance/blob/main/Pickle_macro_for_econometrics.ipynb\" target=\"_parent\"><img src=\"https://colab.research.google.com/assets/colab-badge.svg\" alt=\"Open In Colab\"/></a>"
      ]
    },
    {
      "cell_type": "code",
      "metadata": {
        "colab": {
          "base_uri": "https://localhost:8080/"
        },
        "id": "pU6zNDp6uUZG",
        "outputId": "2b232b26-3584-4b41-9eac-fc6b570e46ff"
      },
      "source": [
        "import pandas as pd\n",
        "import numpy as np\n",
        "import statsmodels.formula.api as smf\n"
      ],
      "execution_count": null,
      "outputs": [
        {
          "output_type": "stream",
          "text": [
            "/usr/local/lib/python3.7/dist-packages/statsmodels/tools/_testing.py:19: FutureWarning: pandas.util.testing is deprecated. Use the functions in the public API at pandas.testing instead.\n",
            "  import pandas.util.testing as tm\n"
          ],
          "name": "stderr"
        }
      ]
    },
    {
      "cell_type": "code",
      "metadata": {
        "colab": {
          "base_uri": "https://localhost:8080/"
        },
        "id": "aP3Cd56muXWL",
        "outputId": "d7900b8a-db22-44db-d763-44a105328355"
      },
      "source": [
        "from google.colab import drive\n",
        "drive.mount('/gdrive')\n",
        "%cd /gdrive"
      ],
      "execution_count": null,
      "outputs": [
        {
          "output_type": "stream",
          "text": [
            "Mounted at /gdrive\n",
            "/gdrive\n"
          ],
          "name": "stdout"
        }
      ]
    },
    {
      "cell_type": "code",
      "metadata": {
        "colab": {
          "base_uri": "https://localhost:8080/",
          "height": 206
        },
        "id": "KmILX-rCutve",
        "outputId": "ea817b9d-ea10-40c4-f15e-f2d5c3e59c93"
      },
      "source": [
        "file = r'/gdrive/My Drive/data/macro.xls'\n",
        "data= pd.read_excel(file)\n",
        "data.head()"
      ],
      "execution_count": null,
      "outputs": [
        {
          "output_type": "execute_result",
          "data": {
            "text/html": [
              "<div>\n",
              "<style scoped>\n",
              "    .dataframe tbody tr th:only-of-type {\n",
              "        vertical-align: middle;\n",
              "    }\n",
              "\n",
              "    .dataframe tbody tr th {\n",
              "        vertical-align: top;\n",
              "    }\n",
              "\n",
              "    .dataframe thead th {\n",
              "        text-align: right;\n",
              "    }\n",
              "</style>\n",
              "<table border=\"1\" class=\"dataframe\">\n",
              "  <thead>\n",
              "    <tr style=\"text-align: right;\">\n",
              "      <th></th>\n",
              "      <th>Date</th>\n",
              "      <th>MICROSOFT</th>\n",
              "      <th>SANDP</th>\n",
              "      <th>CPI</th>\n",
              "      <th>INDPRO</th>\n",
              "      <th>M1SUPPLY</th>\n",
              "      <th>CCREDIT</th>\n",
              "      <th>BMINUSA</th>\n",
              "      <th>USTB3M</th>\n",
              "      <th>USTB10Y</th>\n",
              "    </tr>\n",
              "  </thead>\n",
              "  <tbody>\n",
              "    <tr>\n",
              "      <th>0</th>\n",
              "      <td>1986-03-01</td>\n",
              "      <td>0.095486</td>\n",
              "      <td>238.899994</td>\n",
              "      <td>108.8</td>\n",
              "      <td>56.5414</td>\n",
              "      <td>624.3</td>\n",
              "      <td>606.7990</td>\n",
              "      <td>1.50</td>\n",
              "      <td>6.76</td>\n",
              "      <td>7.78</td>\n",
              "    </tr>\n",
              "    <tr>\n",
              "      <th>1</th>\n",
              "      <td>1986-04-01</td>\n",
              "      <td>0.111979</td>\n",
              "      <td>235.520004</td>\n",
              "      <td>108.6</td>\n",
              "      <td>56.5654</td>\n",
              "      <td>647.0</td>\n",
              "      <td>614.3669</td>\n",
              "      <td>1.40</td>\n",
              "      <td>6.24</td>\n",
              "      <td>7.30</td>\n",
              "    </tr>\n",
              "    <tr>\n",
              "      <th>2</th>\n",
              "      <td>1986-05-01</td>\n",
              "      <td>0.121528</td>\n",
              "      <td>247.350006</td>\n",
              "      <td>108.9</td>\n",
              "      <td>56.6850</td>\n",
              "      <td>645.7</td>\n",
              "      <td>621.9152</td>\n",
              "      <td>1.20</td>\n",
              "      <td>6.33</td>\n",
              "      <td>7.71</td>\n",
              "    </tr>\n",
              "    <tr>\n",
              "      <th>3</th>\n",
              "      <td>1986-06-01</td>\n",
              "      <td>0.106771</td>\n",
              "      <td>250.839996</td>\n",
              "      <td>109.5</td>\n",
              "      <td>56.4959</td>\n",
              "      <td>662.8</td>\n",
              "      <td>627.8910</td>\n",
              "      <td>1.21</td>\n",
              "      <td>6.40</td>\n",
              "      <td>7.80</td>\n",
              "    </tr>\n",
              "    <tr>\n",
              "      <th>4</th>\n",
              "      <td>1986-07-01</td>\n",
              "      <td>0.098958</td>\n",
              "      <td>236.119995</td>\n",
              "      <td>109.5</td>\n",
              "      <td>56.8096</td>\n",
              "      <td>673.4</td>\n",
              "      <td>633.6083</td>\n",
              "      <td>1.28</td>\n",
              "      <td>6.00</td>\n",
              "      <td>7.30</td>\n",
              "    </tr>\n",
              "  </tbody>\n",
              "</table>\n",
              "</div>"
            ],
            "text/plain": [
              "        Date  MICROSOFT       SANDP    CPI  ...   CCREDIT  BMINUSA  USTB3M  USTB10Y\n",
              "0 1986-03-01   0.095486  238.899994  108.8  ...  606.7990     1.50    6.76     7.78\n",
              "1 1986-04-01   0.111979  235.520004  108.6  ...  614.3669     1.40    6.24     7.30\n",
              "2 1986-05-01   0.121528  247.350006  108.9  ...  621.9152     1.20    6.33     7.71\n",
              "3 1986-06-01   0.106771  250.839996  109.5  ...  627.8910     1.21    6.40     7.80\n",
              "4 1986-07-01   0.098958  236.119995  109.5  ...  633.6083     1.28    6.00     7.30\n",
              "\n",
              "[5 rows x 10 columns]"
            ]
          },
          "metadata": {
            "tags": []
          },
          "execution_count": 9
        }
      ]
    },
    {
      "cell_type": "code",
      "metadata": {
        "id": "L3DFFYyduXYE"
      },
      "source": [
        "def LogDiff(x):\n",
        "  x_diff = 100*np.log(x/x.shift(1))\n",
        "  x_diff = x_diff.dropna()\n",
        "  return x_diff\n"
      ],
      "execution_count": null,
      "outputs": []
    },
    {
      "cell_type": "code",
      "metadata": {
        "colab": {
          "base_uri": "https://localhost:8080/",
          "height": 206
        },
        "id": "SCqoqfMPuXb9",
        "outputId": "e81db769-7f70-4a4b-87bd-d53f26f29f55"
      },
      "source": [
        "data = pd.DataFrame({'dspread' : data['BMINUSA'] - \\\n",
        "data['BMINUSA'].shift(1),\n",
        "'dcredit' : data['CCREDIT'] - \\\n",
        "data['CCREDIT'].shift(1),\n",
        "'dprod' : data['INDPRO'] - \\\n",
        "data['INDPRO'].shift(1),\n",
        "'rmsoft' : LogDiff(data['MICROSOFT']),\n",
        "'rsandp' : LogDiff(data['SANDP']),\n",
        "'dmoney' : data['M1SUPPLY'] - \\\n",
        "data['M1SUPPLY'].shift(1),\n",
        "'inflation' : LogDiff(data['CPI']),\n",
        "'term' : data['USTB10Y'] - data['USTB3M'],\n",
        "'dinflation' : LogDiff(data['CPI']) - \\\n",
        "LogDiff(data['CPI']).shift(1),\n",
        "'mustb3m' : data['USTB3M']/12,\n",
        "'rterm' : (data['USTB10Y'] - data['USTB3M']) - \\\n",
        "(data['USTB10Y'] - data['USTB3M']).shift(1),\n",
        "'ermsoft' : LogDiff(data['MICROSOFT']) - \\\n",
        "data['USTB3M']/12,\n",
        "'ersandp' : LogDiff(data['SANDP']) - \\\n",
        "data['USTB3M']/12})\n",
        "data.head()\n"
      ],
      "execution_count": null,
      "outputs": [
        {
          "output_type": "execute_result",
          "data": {
            "text/html": [
              "<div>\n",
              "<style scoped>\n",
              "    .dataframe tbody tr th:only-of-type {\n",
              "        vertical-align: middle;\n",
              "    }\n",
              "\n",
              "    .dataframe tbody tr th {\n",
              "        vertical-align: top;\n",
              "    }\n",
              "\n",
              "    .dataframe thead th {\n",
              "        text-align: right;\n",
              "    }\n",
              "</style>\n",
              "<table border=\"1\" class=\"dataframe\">\n",
              "  <thead>\n",
              "    <tr style=\"text-align: right;\">\n",
              "      <th></th>\n",
              "      <th>dspread</th>\n",
              "      <th>dcredit</th>\n",
              "      <th>dprod</th>\n",
              "      <th>rmsoft</th>\n",
              "      <th>rsandp</th>\n",
              "      <th>dmoney</th>\n",
              "      <th>inflation</th>\n",
              "      <th>term</th>\n",
              "      <th>dinflation</th>\n",
              "      <th>mustb3m</th>\n",
              "      <th>rterm</th>\n",
              "      <th>ermsoft</th>\n",
              "      <th>ersandp</th>\n",
              "    </tr>\n",
              "  </thead>\n",
              "  <tbody>\n",
              "    <tr>\n",
              "      <th>0</th>\n",
              "      <td>NaN</td>\n",
              "      <td>NaN</td>\n",
              "      <td>NaN</td>\n",
              "      <td>NaN</td>\n",
              "      <td>NaN</td>\n",
              "      <td>NaN</td>\n",
              "      <td>NaN</td>\n",
              "      <td>1.02</td>\n",
              "      <td>NaN</td>\n",
              "      <td>0.563333</td>\n",
              "      <td>NaN</td>\n",
              "      <td>NaN</td>\n",
              "      <td>NaN</td>\n",
              "    </tr>\n",
              "    <tr>\n",
              "      <th>1</th>\n",
              "      <td>-0.10</td>\n",
              "      <td>7.5679</td>\n",
              "      <td>0.0240</td>\n",
              "      <td>15.933171</td>\n",
              "      <td>-1.424918</td>\n",
              "      <td>22.7</td>\n",
              "      <td>-0.183993</td>\n",
              "      <td>1.06</td>\n",
              "      <td>NaN</td>\n",
              "      <td>0.520000</td>\n",
              "      <td>0.04</td>\n",
              "      <td>15.413171</td>\n",
              "      <td>-1.944918</td>\n",
              "    </tr>\n",
              "    <tr>\n",
              "      <th>2</th>\n",
              "      <td>-0.20</td>\n",
              "      <td>7.5483</td>\n",
              "      <td>0.1196</td>\n",
              "      <td>8.183334</td>\n",
              "      <td>4.900851</td>\n",
              "      <td>-1.3</td>\n",
              "      <td>0.275862</td>\n",
              "      <td>1.38</td>\n",
              "      <td>0.459855</td>\n",
              "      <td>0.527500</td>\n",
              "      <td>0.32</td>\n",
              "      <td>7.655834</td>\n",
              "      <td>4.373351</td>\n",
              "    </tr>\n",
              "    <tr>\n",
              "      <th>3</th>\n",
              "      <td>0.01</td>\n",
              "      <td>5.9758</td>\n",
              "      <td>-0.1891</td>\n",
              "      <td>-12.945833</td>\n",
              "      <td>1.401091</td>\n",
              "      <td>17.1</td>\n",
              "      <td>0.549452</td>\n",
              "      <td>1.40</td>\n",
              "      <td>0.273590</td>\n",
              "      <td>0.533333</td>\n",
              "      <td>0.02</td>\n",
              "      <td>-13.479167</td>\n",
              "      <td>0.867757</td>\n",
              "    </tr>\n",
              "    <tr>\n",
              "      <th>4</th>\n",
              "      <td>0.07</td>\n",
              "      <td>5.7173</td>\n",
              "      <td>0.3137</td>\n",
              "      <td>-7.599084</td>\n",
              "      <td>-6.047514</td>\n",
              "      <td>10.6</td>\n",
              "      <td>0.000000</td>\n",
              "      <td>1.30</td>\n",
              "      <td>-0.549452</td>\n",
              "      <td>0.500000</td>\n",
              "      <td>-0.10</td>\n",
              "      <td>-8.099084</td>\n",
              "      <td>-6.547514</td>\n",
              "    </tr>\n",
              "  </tbody>\n",
              "</table>\n",
              "</div>"
            ],
            "text/plain": [
              "   dspread  dcredit   dprod     rmsoft  ...   mustb3m  rterm    ermsoft   ersandp\n",
              "0      NaN      NaN     NaN        NaN  ...  0.563333    NaN        NaN       NaN\n",
              "1    -0.10   7.5679  0.0240  15.933171  ...  0.520000   0.04  15.413171 -1.944918\n",
              "2    -0.20   7.5483  0.1196   8.183334  ...  0.527500   0.32   7.655834  4.373351\n",
              "3     0.01   5.9758 -0.1891 -12.945833  ...  0.533333   0.02 -13.479167  0.867757\n",
              "4     0.07   5.7173  0.3137  -7.599084  ...  0.500000  -0.10  -8.099084 -6.547514\n",
              "\n",
              "[5 rows x 13 columns]"
            ]
          },
          "metadata": {
            "tags": []
          },
          "execution_count": 12
        }
      ]
    },
    {
      "cell_type": "code",
      "metadata": {
        "id": "Ug8ypr4yuXe7"
      },
      "source": [
        "import pickle\n",
        "with open( '/gdrive/My Drive/data/macro.pickle', 'wb') as handle:\n",
        "  pickle.dump(data, handle)\n"
      ],
      "execution_count": null,
      "outputs": []
    },
    {
      "cell_type": "code",
      "metadata": {
        "id": "iLh4sQ9uv3NR"
      },
      "source": [
        ""
      ],
      "execution_count": null,
      "outputs": []
    }
  ]
}