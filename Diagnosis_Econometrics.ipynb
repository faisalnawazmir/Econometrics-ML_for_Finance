{
  "nbformat": 4,
  "nbformat_minor": 0,
  "metadata": {
    "colab": {
      "name": "Diagnosis Econometrics.ipynb",
      "provenance": [],
      "authorship_tag": "ABX9TyOOXDMHtQPH1aHx1q2SQS8j",
      "include_colab_link": true
    },
    "kernelspec": {
      "name": "python3",
      "display_name": "Python 3"
    },
    "language_info": {
      "name": "python"
    }
  },
  "cells": [
    {
      "cell_type": "markdown",
      "metadata": {
        "id": "view-in-github",
        "colab_type": "text"
      },
      "source": [
        "<a href=\"https://colab.research.google.com/github/faisalnawazmir/Econometrics-ML_for_Finance/blob/main/Diagnosis_Econometrics.ipynb\" target=\"_parent\"><img src=\"https://colab.research.google.com/assets/colab-badge.svg\" alt=\"Open In Colab\"/></a>"
      ]
    },
    {
      "cell_type": "code",
      "metadata": {
        "id": "XfwzTBAhpNhy"
      },
      "source": [
        "import statsmodels.formula.api as smf\n",
        "import pickle\n",
        "import pandas as pd\n",
        "import numpy as np\n",
        "import statsmodels.stats.api as sms\n",
        "import matplotlib.pyplot as plt\n",
        "from statsmodels.compat import lzip"
      ],
      "execution_count": 11,
      "outputs": []
    },
    {
      "cell_type": "code",
      "metadata": {
        "colab": {
          "base_uri": "https://localhost:8080/"
        },
        "id": "jT31Qlhzp4Do",
        "outputId": "0eeae635-7c78-4329-8cb6-ab232d846a09"
      },
      "source": [
        "from google.colab import drive\n",
        "drive.mount('/gdrive')\n",
        "%cd /gdrive"
      ],
      "execution_count": 9,
      "outputs": [
        {
          "output_type": "stream",
          "text": [
            "Drive already mounted at /gdrive; to attempt to forcibly remount, call drive.mount(\"/gdrive\", force_remount=True).\n",
            "/gdrive\n"
          ],
          "name": "stdout"
        }
      ]
    },
    {
      "cell_type": "code",
      "metadata": {
        "id": "R6idcghXzuSV"
      },
      "source": [
        "abspath=r'/gdrive/My Drive/data/'\n",
        "with open(abspath+'macro.pickle', 'rb') as handle:\n",
        "    data = pickle.load(handle)"
      ],
      "execution_count": 12,
      "outputs": []
    },
    {
      "cell_type": "code",
      "metadata": {
        "id": "nAgt9kNqqDQa"
      },
      "source": [
        "#file = r'/gdrive/My Drive/data/macro.xls'\n",
        "#data= pd.read_excel(file)\n",
        "data = data.dropna() # drop the missing values for some columns"
      ],
      "execution_count": 14,
      "outputs": []
    },
    {
      "cell_type": "code",
      "metadata": {
        "colab": {
          "base_uri": "https://localhost:8080/",
          "height": 206
        },
        "id": "Iu3ySxoaqfSY",
        "outputId": "b4034d57-19d0-4e10-c580-0cac6585281e"
      },
      "source": [
        "data.head()"
      ],
      "execution_count": 15,
      "outputs": [
        {
          "output_type": "execute_result",
          "data": {
            "text/html": [
              "<div>\n",
              "<style scoped>\n",
              "    .dataframe tbody tr th:only-of-type {\n",
              "        vertical-align: middle;\n",
              "    }\n",
              "\n",
              "    .dataframe tbody tr th {\n",
              "        vertical-align: top;\n",
              "    }\n",
              "\n",
              "    .dataframe thead th {\n",
              "        text-align: right;\n",
              "    }\n",
              "</style>\n",
              "<table border=\"1\" class=\"dataframe\">\n",
              "  <thead>\n",
              "    <tr style=\"text-align: right;\">\n",
              "      <th></th>\n",
              "      <th>dspread</th>\n",
              "      <th>dcredit</th>\n",
              "      <th>dprod</th>\n",
              "      <th>rmsoft</th>\n",
              "      <th>rsandp</th>\n",
              "      <th>dmoney</th>\n",
              "      <th>inflation</th>\n",
              "      <th>term</th>\n",
              "      <th>dinflation</th>\n",
              "      <th>mustb3m</th>\n",
              "      <th>rterm</th>\n",
              "      <th>ermsoft</th>\n",
              "      <th>ersandp</th>\n",
              "    </tr>\n",
              "  </thead>\n",
              "  <tbody>\n",
              "    <tr>\n",
              "      <th>2</th>\n",
              "      <td>-0.20</td>\n",
              "      <td>7.5483</td>\n",
              "      <td>0.1196</td>\n",
              "      <td>8.183334</td>\n",
              "      <td>4.900851</td>\n",
              "      <td>-1.3</td>\n",
              "      <td>0.275862</td>\n",
              "      <td>1.38</td>\n",
              "      <td>0.459855</td>\n",
              "      <td>0.527500</td>\n",
              "      <td>0.32</td>\n",
              "      <td>7.655834</td>\n",
              "      <td>4.373351</td>\n",
              "    </tr>\n",
              "    <tr>\n",
              "      <th>3</th>\n",
              "      <td>0.01</td>\n",
              "      <td>5.9758</td>\n",
              "      <td>-0.1891</td>\n",
              "      <td>-12.945833</td>\n",
              "      <td>1.401091</td>\n",
              "      <td>17.1</td>\n",
              "      <td>0.549452</td>\n",
              "      <td>1.40</td>\n",
              "      <td>0.273590</td>\n",
              "      <td>0.533333</td>\n",
              "      <td>0.02</td>\n",
              "      <td>-13.479167</td>\n",
              "      <td>0.867757</td>\n",
              "    </tr>\n",
              "    <tr>\n",
              "      <th>4</th>\n",
              "      <td>0.07</td>\n",
              "      <td>5.7173</td>\n",
              "      <td>0.3137</td>\n",
              "      <td>-7.599084</td>\n",
              "      <td>-6.047514</td>\n",
              "      <td>10.6</td>\n",
              "      <td>0.000000</td>\n",
              "      <td>1.30</td>\n",
              "      <td>-0.549452</td>\n",
              "      <td>0.500000</td>\n",
              "      <td>-0.10</td>\n",
              "      <td>-8.099084</td>\n",
              "      <td>-6.547514</td>\n",
              "    </tr>\n",
              "    <tr>\n",
              "      <th>5</th>\n",
              "      <td>0.18</td>\n",
              "      <td>6.9043</td>\n",
              "      <td>-0.0748</td>\n",
              "      <td>0.000000</td>\n",
              "      <td>6.877261</td>\n",
              "      <td>5.0</td>\n",
              "      <td>0.182482</td>\n",
              "      <td>1.48</td>\n",
              "      <td>0.182482</td>\n",
              "      <td>0.474167</td>\n",
              "      <td>0.18</td>\n",
              "      <td>-0.474167</td>\n",
              "      <td>6.403095</td>\n",
              "    </tr>\n",
              "    <tr>\n",
              "      <th>6</th>\n",
              "      <td>-0.15</td>\n",
              "      <td>9.3754</td>\n",
              "      <td>0.1135</td>\n",
              "      <td>-0.881009</td>\n",
              "      <td>-8.931068</td>\n",
              "      <td>6.1</td>\n",
              "      <td>0.454753</td>\n",
              "      <td>2.10</td>\n",
              "      <td>0.272271</td>\n",
              "      <td>0.445833</td>\n",
              "      <td>0.62</td>\n",
              "      <td>-1.326843</td>\n",
              "      <td>-9.376901</td>\n",
              "    </tr>\n",
              "  </tbody>\n",
              "</table>\n",
              "</div>"
            ],
            "text/plain": [
              "   dspread  dcredit   dprod     rmsoft  ...   mustb3m  rterm    ermsoft   ersandp\n",
              "2    -0.20   7.5483  0.1196   8.183334  ...  0.527500   0.32   7.655834  4.373351\n",
              "3     0.01   5.9758 -0.1891 -12.945833  ...  0.533333   0.02 -13.479167  0.867757\n",
              "4     0.07   5.7173  0.3137  -7.599084  ...  0.500000  -0.10  -8.099084 -6.547514\n",
              "5     0.18   6.9043 -0.0748   0.000000  ...  0.474167   0.18  -0.474167  6.403095\n",
              "6    -0.15   9.3754  0.1135  -0.881009  ...  0.445833   0.62  -1.326843 -9.376901\n",
              "\n",
              "[5 rows x 13 columns]"
            ]
          },
          "metadata": {
            "tags": []
          },
          "execution_count": 15
        }
      ]
    },
    {
      "cell_type": "code",
      "metadata": {
        "colab": {
          "base_uri": "https://localhost:8080/"
        },
        "id": "RpmE95mmqf1J",
        "outputId": "ddbe9c3f-0a13-44e7-985a-c9dcf80ef3f6"
      },
      "source": [
        "formula = 'ermsoft ~ ersandp + dprod + dcredit + \\\n",
        "dinflation + dmoney + dspread + rterm '\n",
        "results = smf.ols(formula, data).fit(cov_type='HAC',cov_kwds={'maxlags':6,'use_correction':True})\n",
        "print(results.summary())\n"
      ],
      "execution_count": 16,
      "outputs": [
        {
          "output_type": "stream",
          "text": [
            "                            OLS Regression Results                            \n",
            "==============================================================================\n",
            "Dep. Variable:                ermsoft   R-squared:                       0.345\n",
            "Model:                            OLS   Adj. R-squared:                  0.333\n",
            "Method:                 Least Squares   F-statistic:                     24.93\n",
            "Date:                Wed, 07 Apr 2021   Prob (F-statistic):           6.73e-28\n",
            "Time:                        14:51:52   Log-Likelihood:                -1328.3\n",
            "No. Observations:                 383   AIC:                             2673.\n",
            "Df Residuals:                     375   BIC:                             2704.\n",
            "Df Model:                           7                                         \n",
            "Covariance Type:                  HAC                                         \n",
            "==============================================================================\n",
            "                 coef    std err          z      P>|z|      [0.025      0.975]\n",
            "------------------------------------------------------------------------------\n",
            "Intercept      1.3260      0.503      2.638      0.008       0.341       2.311\n",
            "ersandp        1.2808      0.100     12.822      0.000       1.085       1.477\n",
            "dprod         -0.3030      0.522     -0.581      0.561      -1.325       0.719\n",
            "dcredit       -0.0254      0.022     -1.135      0.256      -0.069       0.018\n",
            "dinflation     2.1947      1.314      1.671      0.095      -0.380       4.769\n",
            "dmoney        -0.0069      0.011     -0.628      0.530      -0.028       0.015\n",
            "dspread        2.2601      2.842      0.795      0.426      -3.310       7.830\n",
            "rterm          4.7331      1.759      2.692      0.007       1.286       8.180\n",
            "==============================================================================\n",
            "Omnibus:                       21.147   Durbin-Watson:                   2.097\n",
            "Prob(Omnibus):                  0.000   Jarque-Bera (JB):               63.505\n",
            "Skew:                          -0.006   Prob(JB):                     1.62e-14\n",
            "Kurtosis:                       4.995   Cond. No.                         293.\n",
            "==============================================================================\n",
            "\n",
            "Warnings:\n",
            "[1] Standard Errors are heteroscedasticity and autocorrelation robust (HAC) using 6 lags and with small sample correction\n"
          ],
          "name": "stdout"
        }
      ]
    },
    {
      "cell_type": "code",
      "metadata": {
        "colab": {
          "base_uri": "https://localhost:8080/",
          "height": 279
        },
        "id": "LoUE7qI1qf8e",
        "outputId": "b8de64a8-2c2d-4e63-de5f-2429d2be0a88"
      },
      "source": [
        "plt.figure(1)\n",
        "plt.plot(results.resid)\n",
        "plt.xlabel('Date')\n",
        "plt.ylabel('Residuals')\n",
        "plt.grid(True)\n",
        "plt.show()"
      ],
      "execution_count": 17,
      "outputs": [
        {
          "output_type": "display_data",
          "data": {
            "image/png": "[encoded data removed]",
            "text/plain": [
              "<Figure size 432x288 with 1 Axes>"
            ]
          },
          "metadata": {
            "tags": [],
            "needs_background": "light"
          }
        }
      ]
    },
    {
      "cell_type": "code",
      "metadata": {
        "colab": {
          "base_uri": "https://localhost:8080/"
        },
        "id": "CMRbJT4equ1p",
        "outputId": "cbea3ede-df4f-4c8a-ab8b-b45357594849"
      },
      "source": [
        "# breusch-pagan heteroskedasticity test\n",
        "name = ['Lagrange multiplier statistic', 'p-value',\n",
        "'f-value', 'f p-value']\n",
        "test = sms.het_breuschpagan(results.resid, results.model.exog)\n",
        "lzip(name, test)"
      ],
      "execution_count": 18,
      "outputs": [
        {
          "output_type": "execute_result",
          "data": {
            "text/plain": [
              "[('Lagrange multiplier statistic', 3.1606601504201874),\n",
              " ('p-value', 0.8697526743786506),\n",
              " ('f-value', 0.44577025527121455),\n",
              " ('f p-value', 0.8729003404188317)]"
            ]
          },
          "metadata": {
            "tags": []
          },
          "execution_count": 18
        }
      ]
    },
    {
      "cell_type": "code",
      "metadata": {
        "id": "ygM0P4beqyyh"
      },
      "source": [
        "# Ho= homo or equal variance\n",
        "#p-value<0.05, reject Ho,  conclude there hetro issue."
      ],
      "execution_count": null,
      "outputs": []
    },
    {
      "cell_type": "code",
      "metadata": {
        "id": "CLrH_0S7r5s3"
      },
      "source": [
        ""
      ],
      "execution_count": null,
      "outputs": []
    },
    {
      "cell_type": "code",
      "metadata": {
        "id": "cVVxbItzr573"
      },
      "source": [
        ""
      ],
      "execution_count": null,
      "outputs": []
    },
    {
      "cell_type": "code",
      "metadata": {
        "id": "VYu7dHrCr59k"
      },
      "source": [
        ""
      ],
      "execution_count": null,
      "outputs": []
    },
    {
      "cell_type": "code",
      "metadata": {
        "id": "hGej4kGKr6B2"
      },
      "source": [
        ""
      ],
      "execution_count": null,
      "outputs": []
    }
  ]
}