{
  "nbformat": 4,
  "nbformat_minor": 0,
  "metadata": {
    "colab": {
      "name": "Copy of Usmanbhai_ Fama MacBeth class.ipynb",
      "provenance": [],
      "collapsed_sections": [],
      "include_colab_link": true
    },
    "kernelspec": {
      "name": "python3",
      "display_name": "Python 3"
    }
  },
  "cells": [
    {
      "cell_type": "markdown",
      "metadata": {
        "id": "view-in-github",
        "colab_type": "text"
      },
      "source": [
        "<a href=\"https://colab.research.google.com/github/faisalnawazmir/Econometrics-ML_for_Finance/blob/main/Copy_of_Usmanbhai__Fama_MacBeth_class.ipynb\" target=\"_parent\"><img src=\"https://colab.research.google.com/assets/colab-badge.svg\" alt=\"Open In Colab\"/></a>"
      ]
    },
    {
      "cell_type": "markdown",
      "metadata": {
        "id": "0-NQyg8uMPsr"
      },
      "source": [
        "#Real example"
      ]
    },
    {
      "cell_type": "code",
      "metadata": {
        "id": "3bxnSfTYMVfW"
      },
      "source": [
        "import numpy as np\n",
        "import pandas as pd\n",
        "from sklearn.linear_model import LinearRegression \n",
        "from sklearn.metrics import mean_squared_error, r2_score\n",
        "import statsmodels.api as sm \n",
        "from tabulate import tabulate\n",
        "import time\n",
        "np.random.seed(12345)"
      ],
      "execution_count": null,
      "outputs": []
    },
    {
      "cell_type": "code",
      "metadata": {
        "colab": {
          "base_uri": "https://localhost:8080/",
          "height": 262
        },
        "id": "TG-06u7FO5en",
        "outputId": "8156001b-bfb1-466b-ee59-68a86ed1e7ec"
      },
      "source": [
        "#copying data from excel file 25 portfoli\n",
        "from google.colab import drive\n",
        "drive.mount('/gdrive')\n",
        "%cd /gdrive\n",
        "file = r'/gdrive/My Drive/data/data_1.xlsx'\n",
        "df = pd.read_excel(file)\n",
        "df.head()"
      ],
      "execution_count": null,
      "outputs": [
        {
          "output_type": "stream",
          "text": [
            "Drive already mounted at /gdrive; to attempt to forcibly remount, call drive.mount(\"/gdrive\", force_remount=True).\n",
            "/gdrive\n"
          ],
          "name": "stdout"
        },
        {
          "output_type": "execute_result",
          "data": {
            "text/html": [
              "<div>\n",
              "<style scoped>\n",
              "    .dataframe tbody tr th:only-of-type {\n",
              "        vertical-align: middle;\n",
              "    }\n",
              "\n",
              "    .dataframe tbody tr th {\n",
              "        vertical-align: top;\n",
              "    }\n",
              "\n",
              "    .dataframe thead th {\n",
              "        text-align: right;\n",
              "    }\n",
              "</style>\n",
              "<table border=\"1\" class=\"dataframe\">\n",
              "  <thead>\n",
              "    <tr style=\"text-align: right;\">\n",
              "      <th></th>\n",
              "      <th>Date</th>\n",
              "      <th>p1</th>\n",
              "      <th>p2</th>\n",
              "      <th>p3</th>\n",
              "      <th>p4</th>\n",
              "      <th>p5</th>\n",
              "      <th>p6</th>\n",
              "      <th>p7</th>\n",
              "      <th>p8</th>\n",
              "      <th>p9</th>\n",
              "      <th>p10</th>\n",
              "      <th>p11</th>\n",
              "      <th>p12</th>\n",
              "      <th>p13</th>\n",
              "      <th>p14</th>\n",
              "      <th>p15</th>\n",
              "      <th>p16</th>\n",
              "      <th>p17</th>\n",
              "      <th>p18</th>\n",
              "      <th>p19</th>\n",
              "      <th>p20</th>\n",
              "      <th>p21</th>\n",
              "      <th>p22</th>\n",
              "      <th>p23</th>\n",
              "      <th>p24</th>\n",
              "      <th>p25</th>\n",
              "      <th>Mkt_rf</th>\n",
              "      <th>SMB</th>\n",
              "      <th>HML</th>\n",
              "      <th>RMW</th>\n",
              "      <th>CMA</th>\n",
              "      <th>WML</th>\n",
              "    </tr>\n",
              "  </thead>\n",
              "  <tbody>\n",
              "    <tr>\n",
              "      <th>0</th>\n",
              "      <td>2010M01</td>\n",
              "      <td>-0.022449</td>\n",
              "      <td>-0.003999</td>\n",
              "      <td>-0.022411</td>\n",
              "      <td>-0.023178</td>\n",
              "      <td>-0.043471</td>\n",
              "      <td>-0.031099</td>\n",
              "      <td>-0.022518</td>\n",
              "      <td>-0.025929</td>\n",
              "      <td>-0.025970</td>\n",
              "      <td>-0.030001</td>\n",
              "      <td>-0.029863</td>\n",
              "      <td>-0.040193</td>\n",
              "      <td>-0.040045</td>\n",
              "      <td>-0.046545</td>\n",
              "      <td>-0.033626</td>\n",
              "      <td>-0.017201</td>\n",
              "      <td>-0.026599</td>\n",
              "      <td>-0.031670</td>\n",
              "      <td>-0.035366</td>\n",
              "      <td>-0.028325</td>\n",
              "      <td>-0.032098</td>\n",
              "      <td>-0.034478</td>\n",
              "      <td>-0.014938</td>\n",
              "      <td>-0.017491</td>\n",
              "      <td>-0.019410</td>\n",
              "      <td>0.014472</td>\n",
              "      <td>-0.011144</td>\n",
              "      <td>0.012910</td>\n",
              "      <td>-0.044407</td>\n",
              "      <td>-0.040257</td>\n",
              "      <td>-0.035529</td>\n",
              "    </tr>\n",
              "    <tr>\n",
              "      <th>1</th>\n",
              "      <td>2010M02</td>\n",
              "      <td>0.049803</td>\n",
              "      <td>0.029144</td>\n",
              "      <td>0.053706</td>\n",
              "      <td>0.075742</td>\n",
              "      <td>0.081194</td>\n",
              "      <td>0.080830</td>\n",
              "      <td>0.090786</td>\n",
              "      <td>0.067251</td>\n",
              "      <td>0.071854</td>\n",
              "      <td>0.057739</td>\n",
              "      <td>0.029606</td>\n",
              "      <td>0.013183</td>\n",
              "      <td>0.005725</td>\n",
              "      <td>0.003897</td>\n",
              "      <td>0.004606</td>\n",
              "      <td>-0.011418</td>\n",
              "      <td>-0.009978</td>\n",
              "      <td>-0.009001</td>\n",
              "      <td>-0.001426</td>\n",
              "      <td>0.009962</td>\n",
              "      <td>0.041415</td>\n",
              "      <td>0.053815</td>\n",
              "      <td>0.082008</td>\n",
              "      <td>0.087472</td>\n",
              "      <td>0.095732</td>\n",
              "      <td>-0.004926</td>\n",
              "      <td>0.058614</td>\n",
              "      <td>0.129087</td>\n",
              "      <td>0.106115</td>\n",
              "      <td>0.058884</td>\n",
              "      <td>0.175846</td>\n",
              "    </tr>\n",
              "    <tr>\n",
              "      <th>2</th>\n",
              "      <td>2010M03</td>\n",
              "      <td>0.006199</td>\n",
              "      <td>0.016222</td>\n",
              "      <td>0.009079</td>\n",
              "      <td>-0.002827</td>\n",
              "      <td>-0.015653</td>\n",
              "      <td>-0.010726</td>\n",
              "      <td>-0.014436</td>\n",
              "      <td>-0.021326</td>\n",
              "      <td>-0.030833</td>\n",
              "      <td>-0.027573</td>\n",
              "      <td>-0.015227</td>\n",
              "      <td>-0.010670</td>\n",
              "      <td>-0.014282</td>\n",
              "      <td>-0.008877</td>\n",
              "      <td>-0.003851</td>\n",
              "      <td>0.004704</td>\n",
              "      <td>-0.000805</td>\n",
              "      <td>-0.010352</td>\n",
              "      <td>-0.027967</td>\n",
              "      <td>-0.030412</td>\n",
              "      <td>-0.038455</td>\n",
              "      <td>-0.059199</td>\n",
              "      <td>-0.089694</td>\n",
              "      <td>-0.090903</td>\n",
              "      <td>-0.083014</td>\n",
              "      <td>0.043055</td>\n",
              "      <td>0.002939</td>\n",
              "      <td>-0.048565</td>\n",
              "      <td>0.020677</td>\n",
              "      <td>0.026204</td>\n",
              "      <td>-0.024963</td>\n",
              "    </tr>\n",
              "    <tr>\n",
              "      <th>3</th>\n",
              "      <td>2010M04</td>\n",
              "      <td>0.063183</td>\n",
              "      <td>0.050639</td>\n",
              "      <td>0.057855</td>\n",
              "      <td>0.066709</td>\n",
              "      <td>0.067274</td>\n",
              "      <td>0.068328</td>\n",
              "      <td>0.066229</td>\n",
              "      <td>0.063337</td>\n",
              "      <td>0.054213</td>\n",
              "      <td>0.047033</td>\n",
              "      <td>0.021823</td>\n",
              "      <td>0.035438</td>\n",
              "      <td>0.028108</td>\n",
              "      <td>0.015332</td>\n",
              "      <td>0.016480</td>\n",
              "      <td>0.009356</td>\n",
              "      <td>0.016818</td>\n",
              "      <td>0.025236</td>\n",
              "      <td>0.017749</td>\n",
              "      <td>0.017380</td>\n",
              "      <td>0.016594</td>\n",
              "      <td>0.019906</td>\n",
              "      <td>0.024399</td>\n",
              "      <td>0.009386</td>\n",
              "      <td>-0.007756</td>\n",
              "      <td>0.014785</td>\n",
              "      <td>0.042049</td>\n",
              "      <td>0.067846</td>\n",
              "      <td>0.083133</td>\n",
              "      <td>0.092571</td>\n",
              "      <td>0.102913</td>\n",
              "    </tr>\n",
              "    <tr>\n",
              "      <th>4</th>\n",
              "      <td>2010M05</td>\n",
              "      <td>-0.254945</td>\n",
              "      <td>-0.231527</td>\n",
              "      <td>-0.221009</td>\n",
              "      <td>-0.222385</td>\n",
              "      <td>-0.221711</td>\n",
              "      <td>-0.207466</td>\n",
              "      <td>-0.203421</td>\n",
              "      <td>-0.194838</td>\n",
              "      <td>-0.195471</td>\n",
              "      <td>-0.184219</td>\n",
              "      <td>-0.176137</td>\n",
              "      <td>-0.165036</td>\n",
              "      <td>-0.156929</td>\n",
              "      <td>-0.152128</td>\n",
              "      <td>-0.145155</td>\n",
              "      <td>-0.130563</td>\n",
              "      <td>-0.128486</td>\n",
              "      <td>-0.122554</td>\n",
              "      <td>-0.121980</td>\n",
              "      <td>-0.117182</td>\n",
              "      <td>-0.118878</td>\n",
              "      <td>-0.118631</td>\n",
              "      <td>-0.088899</td>\n",
              "      <td>-0.082484</td>\n",
              "      <td>-0.043054</td>\n",
              "      <td>-0.121105</td>\n",
              "      <td>-0.018335</td>\n",
              "      <td>-0.004267</td>\n",
              "      <td>-0.073664</td>\n",
              "      <td>-0.006612</td>\n",
              "      <td>-0.070036</td>\n",
              "    </tr>\n",
              "  </tbody>\n",
              "</table>\n",
              "</div>"
            ],
            "text/plain": [
              "      Date        p1        p2  ...       RMW       CMA       WML\n",
              "0  2010M01 -0.022449 -0.003999  ... -0.044407 -0.040257 -0.035529\n",
              "1  2010M02  0.049803  0.029144  ...  0.106115  0.058884  0.175846\n",
              "2  2010M03  0.006199  0.016222  ...  0.020677  0.026204 -0.024963\n",
              "3  2010M04  0.063183  0.050639  ...  0.083133  0.092571  0.102913\n",
              "4  2010M05 -0.254945 -0.231527  ... -0.073664 -0.006612 -0.070036\n",
              "\n",
              "[5 rows x 32 columns]"
            ]
          },
          "metadata": {
            "tags": []
          },
          "execution_count": 33
        }
      ]
    },
    {
      "cell_type": "code",
      "metadata": {
        "id": "iCcHkAxhRDVx"
      },
      "source": [
        "#N = 25  # of firms in an economy, here # of portfolios, here len(data)\n",
        "T = len(df)  # length of periods # here 1136#df.columns.array\n",
        "#  data\n",
        "data = df.loc[:,'p1':'p25']\n",
        "#data.shape#(T,N)\n",
        "#x,y=data.shape\n",
        "#N=y#  # of firms in an economy, here # of portfolios, here len(data)\n",
        "#T = data.shape[0]\n",
        "N = data.shape[1]"
      ],
      "execution_count": 44,
      "outputs": []
    },
    {
      "cell_type": "code",
      "metadata": {
        "id": "KxRoNnjRNyL9"
      },
      "source": [
        "# simulate factor loadings (ie, coefficients)\n",
        "b_mkt = np.zeros((1,N)) # true loadings for market factor\n",
        "b_smb = np.zeros((1,N)) # true loadings for size factor\n",
        "b_hml = np.zeros((1,N)) # true loadings for value factor"
      ],
      "execution_count": null,
      "outputs": []
    },
    {
      "cell_type": "code",
      "metadata": {
        "id": "03H5lY3KTxUQ"
      },
      "source": [
        "#  factor returns\n",
        "mkt = df['Mkt_rf'] # market factor\n",
        "smb = df['SMB'] # size factor\n",
        "hml = df['HML'] # value factor"
      ],
      "execution_count": null,
      "outputs": []
    },
    {
      "cell_type": "code",
      "metadata": {
        "colab": {
          "base_uri": "https://localhost:8080/",
          "height": 206
        },
        "id": "HSqR7bS0XF-x",
        "outputId": "e915e919-0461-4275-a54b-c875dc6bfe38"
      },
      "source": [
        "#data.iloc[:,1]\n",
        "fctrs = df[[\"Mkt_rf\",\"SMB\",\"HML\"]]\n",
        "fctrs.head()\n"
      ],
      "execution_count": null,
      "outputs": [
        {
          "output_type": "execute_result",
          "data": {
            "text/html": [
              "<div>\n",
              "<style scoped>\n",
              "    .dataframe tbody tr th:only-of-type {\n",
              "        vertical-align: middle;\n",
              "    }\n",
              "\n",
              "    .dataframe tbody tr th {\n",
              "        vertical-align: top;\n",
              "    }\n",
              "\n",
              "    .dataframe thead th {\n",
              "        text-align: right;\n",
              "    }\n",
              "</style>\n",
              "<table border=\"1\" class=\"dataframe\">\n",
              "  <thead>\n",
              "    <tr style=\"text-align: right;\">\n",
              "      <th></th>\n",
              "      <th>Mkt_rf</th>\n",
              "      <th>SMB</th>\n",
              "      <th>HML</th>\n",
              "    </tr>\n",
              "  </thead>\n",
              "  <tbody>\n",
              "    <tr>\n",
              "      <th>0</th>\n",
              "      <td>0.014472</td>\n",
              "      <td>-0.011144</td>\n",
              "      <td>0.012910</td>\n",
              "    </tr>\n",
              "    <tr>\n",
              "      <th>1</th>\n",
              "      <td>-0.004926</td>\n",
              "      <td>0.058614</td>\n",
              "      <td>0.129087</td>\n",
              "    </tr>\n",
              "    <tr>\n",
              "      <th>2</th>\n",
              "      <td>0.043055</td>\n",
              "      <td>0.002939</td>\n",
              "      <td>-0.048565</td>\n",
              "    </tr>\n",
              "    <tr>\n",
              "      <th>3</th>\n",
              "      <td>0.014785</td>\n",
              "      <td>0.042049</td>\n",
              "      <td>0.067846</td>\n",
              "    </tr>\n",
              "    <tr>\n",
              "      <th>4</th>\n",
              "      <td>-0.121105</td>\n",
              "      <td>-0.018335</td>\n",
              "      <td>-0.004267</td>\n",
              "    </tr>\n",
              "  </tbody>\n",
              "</table>\n",
              "</div>"
            ],
            "text/plain": [
              "     Mkt_rf       SMB       HML\n",
              "0  0.014472 -0.011144  0.012910\n",
              "1 -0.004926  0.058614  0.129087\n",
              "2  0.043055  0.002939 -0.048565\n",
              "3  0.014785  0.042049  0.067846\n",
              "4 -0.121105 -0.018335 -0.004267"
            ]
          },
          "metadata": {
            "tags": []
          },
          "execution_count": 37
        }
      ]
    },
    {
      "cell_type": "code",
      "metadata": {
        "id": "kKFLlGnbdaca"
      },
      "source": [
        ""
      ],
      "execution_count": null,
      "outputs": []
    },
    {
      "cell_type": "code",
      "metadata": {
        "colab": {
          "base_uri": "https://localhost:8080/"
        },
        "id": "WE8ICMwZV5Nk",
        "outputId": "2f7f188a-2144-40d7-b7fa-84c64202de60"
      },
      "source": [
        "# Step 1: time series regression firm by firm\n",
        "#fctrs = np.c_[mkt, smb, hml]\n",
        "b = np.zeros(3)\n",
        "for i in range(N): # firm-by-firm time series regression\n",
        "  model = LinearRegression()\n",
        "  model.fit(fctrs,data.iloc[:,i])\n",
        "  b = np.c_[b,model.coef_]\n",
        "\n",
        "b  = np.transpose(b[:,1:])\n",
        "b.shape\n",
        "#b should be 0.1, 0.2"
      ],
      "execution_count": null,
      "outputs": [
        {
          "output_type": "execute_result",
          "data": {
            "text/plain": [
              "(25, 3)"
            ]
          },
          "metadata": {
            "tags": []
          },
          "execution_count": 38
        }
      ]
    },
    {
      "cell_type": "markdown",
      "metadata": {
        "id": "7xE-JEL6My8e"
      },
      "source": [
        ""
      ]
    },
    {
      "cell_type": "code",
      "metadata": {
        "id": "3LvYh6Mjs7wi"
      },
      "source": [
        "#b is bhat\n",
        "#b\n",
        "#b.shape# (N,#factors)\n",
        "df_bhat = pd.DataFrame(b)\n",
        "df_bhat.columns = ['b_01','b_02','b_03']\n",
        "#print(df_bhat.head())\n",
        "\n",
        "from google.colab import  drive\n",
        "df_bhat.to_csv('/gdrive/My Drive/data/bhat.csv')"
      ],
      "execution_count": null,
      "outputs": []
    },
    {
      "cell_type": "code",
      "metadata": {
        "colab": {
          "base_uri": "https://localhost:8080/"
        },
        "id": "225EJNSVtLJ8",
        "outputId": "67a36b0a-6745-4a8f-d57b-6aa57e56c65e"
      },
      "source": [
        "# Step 2: cross sectional regression time-by-time\n",
        "f = np.zeros(3)\n",
        "for i in range(T): # time-by-time cross sectional regression\n",
        "  model = LinearRegression()\n",
        "  model.fit(b,data.iloc[i,:])\n",
        "  f = np.c_[f,model.coef_]\n",
        "\n",
        "f = np.transpose(f[:,1:])\n",
        "df_gamma = pd.DataFrame(f)\n",
        "df_gamma.columns = ['mkt','smb','hml']\n",
        "print(df_gamma.describe())\n",
        "print('Median estimate:', np.median(f,axis=0))\n",
        "print('Standard errors (without Shanken correction):', np.std(f,axis=0)/T**.5)"
      ],
      "execution_count": null,
      "outputs": [
        {
          "output_type": "stream",
          "text": [
            "              mkt         smb         hml\n",
            "count  120.000000  120.000000  120.000000\n",
            "mean    -0.000018    0.008240    0.014970\n",
            "std      0.063501    0.063251    0.149064\n",
            "min     -0.159709   -0.198469   -0.704467\n",
            "25%     -0.052223   -0.025270   -0.055652\n",
            "50%     -0.001835    0.016276    0.015122\n",
            "75%      0.043834    0.048658    0.109768\n",
            "max      0.220636    0.156251    0.377468\n",
            "Median estimate: [-0.0018346   0.01627576  0.01512229]\n",
            "Standard errors (without Shanken correction): [0.00577258 0.00574989 0.01355077]\n"
          ],
          "name": "stdout"
        }
      ]
    },
    {
      "cell_type": "code",
      "metadata": {
        "colab": {
          "base_uri": "https://localhost:8080/"
        },
        "id": "h2iYECBFETsE",
        "outputId": "0f7a7cb1-a6a0-4d73-db7d-f2f64f652fcf"
      },
      "source": [
        "mu=np.median(f,axis=0)\n",
        "sigma=(np.std(f,axis=0))/T**.5\n",
        "tstat=mu/sigma\n",
        "tstat\n",
        "#tstat<1.96"
      ],
      "execution_count": 63,
      "outputs": [
        {
          "output_type": "execute_result",
          "data": {
            "text/plain": [
              "array([-0.31781258,  2.83061892,  1.1159732 ])"
            ]
          },
          "metadata": {
            "tags": []
          },
          "execution_count": 63
        }
      ]
    },
    {
      "cell_type": "code",
      "metadata": {
        "id": "4YjK7U5NtLVq"
      },
      "source": [
        "f.shape # (T,#factors)# f or df I assume is gamma hat\n",
        "df_gamma.to_csv('/gdrive/My Drive/data/gamma.csv')"
      ],
      "execution_count": null,
      "outputs": []
    },
    {
      "cell_type": "code",
      "metadata": {
        "colab": {
          "base_uri": "https://localhost:8080/",
          "height": 206
        },
        "id": "FZm67ZsTtsDb",
        "outputId": "b466951c-0643-4662-f568-45f39af569c1"
      },
      "source": [
        "df.head()#f and df are same, gamma hat"
      ],
      "execution_count": null,
      "outputs": [
        {
          "output_type": "execute_result",
          "data": {
            "text/html": [
              "<div>\n",
              "<style scoped>\n",
              "    .dataframe tbody tr th:only-of-type {\n",
              "        vertical-align: middle;\n",
              "    }\n",
              "\n",
              "    .dataframe tbody tr th {\n",
              "        vertical-align: top;\n",
              "    }\n",
              "\n",
              "    .dataframe thead th {\n",
              "        text-align: right;\n",
              "    }\n",
              "</style>\n",
              "<table border=\"1\" class=\"dataframe\">\n",
              "  <thead>\n",
              "    <tr style=\"text-align: right;\">\n",
              "      <th></th>\n",
              "      <th>mkt</th>\n",
              "      <th>smb</th>\n",
              "      <th>hml</th>\n",
              "    </tr>\n",
              "  </thead>\n",
              "  <tbody>\n",
              "    <tr>\n",
              "      <th>0</th>\n",
              "      <td>0.001553</td>\n",
              "      <td>0.002397</td>\n",
              "      <td>-0.007868</td>\n",
              "    </tr>\n",
              "    <tr>\n",
              "      <th>1</th>\n",
              "      <td>0.006439</td>\n",
              "      <td>-0.058778</td>\n",
              "      <td>0.063283</td>\n",
              "    </tr>\n",
              "    <tr>\n",
              "      <th>2</th>\n",
              "      <td>0.053603</td>\n",
              "      <td>-0.009954</td>\n",
              "      <td>-0.055991</td>\n",
              "    </tr>\n",
              "    <tr>\n",
              "      <th>3</th>\n",
              "      <td>0.047964</td>\n",
              "      <td>-0.075493</td>\n",
              "      <td>-0.108861</td>\n",
              "    </tr>\n",
              "    <tr>\n",
              "      <th>4</th>\n",
              "      <td>-0.122230</td>\n",
              "      <td>0.066332</td>\n",
              "      <td>0.105421</td>\n",
              "    </tr>\n",
              "  </tbody>\n",
              "</table>\n",
              "</div>"
            ],
            "text/plain": [
              "        mkt       smb       hml\n",
              "0  0.001553  0.002397 -0.007868\n",
              "1  0.006439 -0.058778  0.063283\n",
              "2  0.053603 -0.009954 -0.055991\n",
              "3  0.047964 -0.075493 -0.108861\n",
              "4 -0.122230  0.066332  0.105421"
            ]
          },
          "metadata": {
            "tags": []
          },
          "execution_count": 16
        }
      ]
    },
    {
      "cell_type": "code",
      "metadata": {
        "id": "COEdionR__hf"
      },
      "source": [
        "# regrssion using hac newey west method\n",
        "average(data[:,])"
      ],
      "execution_count": null,
      "outputs": []
    },
    {
      "cell_type": "code",
      "metadata": {
        "id": "xcWF_laDAlyV"
      },
      "source": [
        "import statsmodels.formula.api as smf\n",
        "import pandas as pd\n",
        "import numpy as np\n",
        "import statsmodels.stats.api as sms"
      ],
      "execution_count": 59,
      "outputs": []
    },
    {
      "cell_type": "code",
      "metadata": {
        "id": "C89-5nUx__tr"
      },
      "source": [
        "formula = 'ermsoft ~ ersandp + dprod + dcredit + dinflation + dmoney + dspread + rterm'\n",
        "results = smf.ols(formula, data).fit(cov_type='HAC',\n",
        "                                     cov_kwds={'maxlags':6,'use_correction':True})\n",
        "print(results.summary())"
      ],
      "execution_count": null,
      "outputs": []
    },
    {
      "cell_type": "code",
      "metadata": {
        "id": "z6dWZjt4__4i"
      },
      "source": [
        ""
      ],
      "execution_count": null,
      "outputs": []
    },
    {
      "cell_type": "code",
      "metadata": {
        "id": "O6mWnC7I7Nhi"
      },
      "source": [
        "data_a=data.to_numpy()\n",
        "fctrs_a=fctrs.to_numpy()"
      ],
      "execution_count": 50,
      "outputs": []
    },
    {
      "cell_type": "code",
      "metadata": {
        "id": "KtHG3wVa7dIc"
      },
      "source": [
        "#data_a\n",
        "#fctrs_a"
      ],
      "execution_count": 52,
      "outputs": []
    },
    {
      "cell_type": "code",
      "metadata": {
        "id": "5kr2iYqQtsQO",
        "colab": {
          "base_uri": "https://localhost:8080/"
        },
        "outputId": "06539eba-9770-4595-de00-511c210d2c7c"
      },
      "source": [
        "# Compute standard error with bootstrapping (Shanken correction unnecessary)\n",
        "# One simple bootstrapping \n",
        "\n",
        "indices = np.random.randint(low=0,high=T, size=T)\n",
        "new_data = data_a[indices,:]\n",
        "new_fctrs = fctrs_a[indices,:]\n",
        "xx = indices[0]\n",
        "print(xx)\n",
        "print(new_data[0,:])\n",
        "print(data_a[xx,:])\n"
      ],
      "execution_count": 54,
      "outputs": [
        {
          "output_type": "stream",
          "text": [
            "82\n",
            "[0.16823049 0.16238599 0.15094023 0.1596925  0.14817384 0.14932732\n",
            " 0.16451328 0.1592505  0.1671695  0.16024045 0.16587053 0.16861627\n",
            " 0.17092155 0.16034127 0.12956645 0.12172151 0.111725   0.12366251\n",
            " 0.11783683 0.13533994 0.09188785 0.08800235 0.09615017 0.09690842\n",
            " 0.09263741]\n",
            "[0.16823049 0.16238599 0.15094023 0.1596925  0.14817384 0.14932732\n",
            " 0.16451328 0.1592505  0.1671695  0.16024045 0.16587053 0.16861627\n",
            " 0.17092155 0.16034127 0.12956645 0.12172151 0.111725   0.12366251\n",
            " 0.11783683 0.13533994 0.09188785 0.08800235 0.09615017 0.09690842\n",
            " 0.09263741]\n"
          ],
          "name": "stdout"
        }
      ]
    },
    {
      "cell_type": "code",
      "metadata": {
        "id": "WIcAhRZz8ipO"
      },
      "source": [
        "def efhats(data,fctrs): # function to compute average estimated factor return\n",
        "  T = data.shape[0]\n",
        "  N = data.shape[1]\n",
        "  # Step 1: Time series regression\n",
        "  x = np.c_[np.ones(T),fctrs]\n",
        "  M = np.linalg.inv(x.T @ x) @ x.T\n",
        "  bhat = (M @ data)[1:,:].T\n",
        "\n",
        "  # Step 2: cross sectional regression\n",
        "  # Include other control variables here (eg, firm characteristics)\n",
        "  x = np.c_[np.ones(N),bhat]\n",
        "  M = np.linalg.inv(x.T @ x) @ x.T\n",
        "  fhat = (M @ data.T)[1:,:].T\n",
        "  df = pd.DataFrame(fhat)\n",
        "  df.columns = ['mkt','smb','hml']\n",
        "  E_fhat = np.average(fhat,axis=0)\n",
        "  return E_fhat \n"
      ],
      "execution_count": 56,
      "outputs": []
    },
    {
      "cell_type": "code",
      "metadata": {
        "id": "yx2wkY_z2KlU",
        "colab": {
          "base_uri": "https://localhost:8080/"
        },
        "outputId": "09098e36-27ef-426f-dac6-e6ec8584324d"
      },
      "source": [
        "E_fhat = efhats(data_a,fctrs_a)\n",
        "simn = 10**3 # of bootstrapping\n",
        "t = time.time() # bootstrapping start time \n",
        "for i in range(simn): \n",
        "  indices = np.random.randint(low=0,high=T,size=T) # resample by rows\n",
        "  new_data = data_a[indices,:] # resampled stock return data\n",
        "  new_fctrs = fctrs_a[indices,:] # resampled factor return data\n",
        "  E_fhat = np.c_[E_fhat,efhats(new_data,new_fctrs)]\n",
        "  # to check bootstrapping status\n",
        "  if i % 100 == 0: print(i)\n",
        "\n",
        "print('Simulation duration:', time.time()-t, 'seconds.')\n",
        "df = pd.DataFrame(E_fhat.T)\n",
        "df.columns = ['mkt','smb','hml']\n",
        "print(df.describe())"
      ],
      "execution_count": 57,
      "outputs": [
        {
          "output_type": "stream",
          "text": [
            "0\n",
            "100\n",
            "200\n",
            "300\n",
            "400\n",
            "500\n",
            "600\n",
            "700\n",
            "800\n",
            "900\n",
            "Simulation duration: 1.1516716480255127 seconds.\n",
            "               mkt          smb          hml\n",
            "count  1001.000000  1001.000000  1001.000000\n",
            "mean      0.000215     0.004480     0.007224\n",
            "std       0.005698     0.006426     0.015226\n",
            "min      -0.020977    -0.015944    -0.047733\n",
            "25%      -0.003539     0.000385    -0.001698\n",
            "50%       0.000417     0.004377     0.007391\n",
            "75%       0.004007     0.008324     0.016722\n",
            "max       0.016910     0.037002     0.080394\n"
          ],
          "name": "stdout"
        }
      ]
    },
    {
      "cell_type": "code",
      "metadata": {
        "colab": {
          "base_uri": "https://localhost:8080/"
        },
        "id": "ZBYM0pyMrIV3",
        "outputId": "9a8087a6-b969-43a7-d17e-195d291f8f65"
      },
      "source": [
        "print('FM regression esimate of expeced factor returns: \\n', np.average(E_fhat.T,axis=0))\n",
        "print('FM regression esimate of standard errors: \\n', np.std(E_fhat.T,axis=0))"
      ],
      "execution_count": 58,
      "outputs": [
        {
          "output_type": "stream",
          "text": [
            "FM regression esimate of expeced factor returns: \n",
            " [0.00021453 0.00447986 0.00722402]\n",
            "FM regression esimate of standard errors: \n",
            " [0.00569556 0.0064231  0.01521866]\n"
          ],
          "name": "stdout"
        }
      ]
    },
    {
      "cell_type": "markdown",
      "metadata": {
        "id": "hHGVO0IeM1J9"
      },
      "source": [
        "https://quant.stackexchange.com/questions/35781/how-to-interpret-the-grs-f-test-values\n",
        "#grs test\n",
        "https://stackoverflow.com/questions/24074481/fama-macbeth-regression-in-python-pandas-or-statsmodels"
      ]
    },
    {
      "cell_type": "code",
      "metadata": {
        "id": "3Jd9dKg2O7AZ"
      },
      "source": [
        ""
      ],
      "execution_count": null,
      "outputs": []
    }
  ]
}